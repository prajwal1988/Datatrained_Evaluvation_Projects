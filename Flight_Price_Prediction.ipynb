{
 "cells": [
  {
   "cell_type": "markdown",
   "id": "836c3a71",
   "metadata": {},
   "source": [
    "# Flight Price Prediction"
   ]
  },
  {
   "cell_type": "code",
   "execution_count": 24,
   "id": "cd6f0c7c",
   "metadata": {},
   "outputs": [],
   "source": [
    "#importing required libreries\n",
    "import pandas as pd\n",
    "import numpy as np\n",
    "import seaborn as sns"
   ]
  },
  {
   "cell_type": "markdown",
   "id": "5d325010",
   "metadata": {},
   "source": [
    "## Examining The Dataset"
   ]
  },
  {
   "cell_type": "code",
   "execution_count": 12,
   "id": "c0e680ac",
   "metadata": {},
   "outputs": [],
   "source": [
    "#reading excel file\n",
    "df= pd.read_excel('Test_set.xlsx')"
   ]
  },
  {
   "cell_type": "code",
   "execution_count": 13,
   "id": "5c087443",
   "metadata": {},
   "outputs": [
    {
     "data": {
      "text/html": [
       "<div>\n",
       "<style scoped>\n",
       "    .dataframe tbody tr th:only-of-type {\n",
       "        vertical-align: middle;\n",
       "    }\n",
       "\n",
       "    .dataframe tbody tr th {\n",
       "        vertical-align: top;\n",
       "    }\n",
       "\n",
       "    .dataframe thead th {\n",
       "        text-align: right;\n",
       "    }\n",
       "</style>\n",
       "<table border=\"1\" class=\"dataframe\">\n",
       "  <thead>\n",
       "    <tr style=\"text-align: right;\">\n",
       "      <th></th>\n",
       "      <th>Airline</th>\n",
       "      <th>Date_of_Journey</th>\n",
       "      <th>Source</th>\n",
       "      <th>Destination</th>\n",
       "      <th>Route</th>\n",
       "      <th>Dep_Time</th>\n",
       "      <th>Arrival_Time</th>\n",
       "      <th>Duration</th>\n",
       "      <th>Total_Stops</th>\n",
       "      <th>Additional_Info</th>\n",
       "    </tr>\n",
       "  </thead>\n",
       "  <tbody>\n",
       "    <tr>\n",
       "      <th>0</th>\n",
       "      <td>Jet Airways</td>\n",
       "      <td>6/06/2019</td>\n",
       "      <td>Delhi</td>\n",
       "      <td>Cochin</td>\n",
       "      <td>DEL → BOM → COK</td>\n",
       "      <td>17:30</td>\n",
       "      <td>04:25 07 Jun</td>\n",
       "      <td>10h 55m</td>\n",
       "      <td>1 stop</td>\n",
       "      <td>No info</td>\n",
       "    </tr>\n",
       "    <tr>\n",
       "      <th>1</th>\n",
       "      <td>IndiGo</td>\n",
       "      <td>12/05/2019</td>\n",
       "      <td>Kolkata</td>\n",
       "      <td>Banglore</td>\n",
       "      <td>CCU → MAA → BLR</td>\n",
       "      <td>06:20</td>\n",
       "      <td>10:20</td>\n",
       "      <td>4h</td>\n",
       "      <td>1 stop</td>\n",
       "      <td>No info</td>\n",
       "    </tr>\n",
       "    <tr>\n",
       "      <th>2</th>\n",
       "      <td>Jet Airways</td>\n",
       "      <td>21/05/2019</td>\n",
       "      <td>Delhi</td>\n",
       "      <td>Cochin</td>\n",
       "      <td>DEL → BOM → COK</td>\n",
       "      <td>19:15</td>\n",
       "      <td>19:00 22 May</td>\n",
       "      <td>23h 45m</td>\n",
       "      <td>1 stop</td>\n",
       "      <td>In-flight meal not included</td>\n",
       "    </tr>\n",
       "    <tr>\n",
       "      <th>3</th>\n",
       "      <td>Multiple carriers</td>\n",
       "      <td>21/05/2019</td>\n",
       "      <td>Delhi</td>\n",
       "      <td>Cochin</td>\n",
       "      <td>DEL → BOM → COK</td>\n",
       "      <td>08:00</td>\n",
       "      <td>21:00</td>\n",
       "      <td>13h</td>\n",
       "      <td>1 stop</td>\n",
       "      <td>No info</td>\n",
       "    </tr>\n",
       "    <tr>\n",
       "      <th>4</th>\n",
       "      <td>Air Asia</td>\n",
       "      <td>24/06/2019</td>\n",
       "      <td>Banglore</td>\n",
       "      <td>Delhi</td>\n",
       "      <td>BLR → DEL</td>\n",
       "      <td>23:55</td>\n",
       "      <td>02:45 25 Jun</td>\n",
       "      <td>2h 50m</td>\n",
       "      <td>non-stop</td>\n",
       "      <td>No info</td>\n",
       "    </tr>\n",
       "  </tbody>\n",
       "</table>\n",
       "</div>"
      ],
      "text/plain": [
       "             Airline Date_of_Journey    Source Destination            Route  \\\n",
       "0        Jet Airways       6/06/2019     Delhi      Cochin  DEL → BOM → COK   \n",
       "1             IndiGo      12/05/2019   Kolkata    Banglore  CCU → MAA → BLR   \n",
       "2        Jet Airways      21/05/2019     Delhi      Cochin  DEL → BOM → COK   \n",
       "3  Multiple carriers      21/05/2019     Delhi      Cochin  DEL → BOM → COK   \n",
       "4           Air Asia      24/06/2019  Banglore       Delhi        BLR → DEL   \n",
       "\n",
       "  Dep_Time  Arrival_Time Duration Total_Stops              Additional_Info  \n",
       "0    17:30  04:25 07 Jun  10h 55m      1 stop                      No info  \n",
       "1    06:20         10:20       4h      1 stop                      No info  \n",
       "2    19:15  19:00 22 May  23h 45m      1 stop  In-flight meal not included  \n",
       "3    08:00         21:00      13h      1 stop                      No info  \n",
       "4    23:55  02:45 25 Jun   2h 50m    non-stop                      No info  "
      ]
     },
     "execution_count": 13,
     "metadata": {},
     "output_type": "execute_result"
    }
   ],
   "source": [
    "#cheching dataset head\n",
    "df.head()"
   ]
  },
  {
   "cell_type": "code",
   "execution_count": 16,
   "id": "2fe897d8",
   "metadata": {},
   "outputs": [
    {
     "name": "stdout",
     "output_type": "stream",
     "text": [
      "<class 'pandas.core.frame.DataFrame'>\n",
      "RangeIndex: 2671 entries, 0 to 2670\n",
      "Data columns (total 10 columns):\n",
      " #   Column           Non-Null Count  Dtype \n",
      "---  ------           --------------  ----- \n",
      " 0   Airline          2671 non-null   object\n",
      " 1   Date_of_Journey  2671 non-null   object\n",
      " 2   Source           2671 non-null   object\n",
      " 3   Destination      2671 non-null   object\n",
      " 4   Route            2671 non-null   object\n",
      " 5   Dep_Time         2671 non-null   object\n",
      " 6   Arrival_Time     2671 non-null   object\n",
      " 7   Duration         2671 non-null   object\n",
      " 8   Total_Stops      2671 non-null   object\n",
      " 9   Additional_Info  2671 non-null   object\n",
      "dtypes: object(10)\n",
      "memory usage: 208.8+ KB\n"
     ]
    }
   ],
   "source": [
    "#checking information\n",
    "df.info()"
   ]
  },
  {
   "cell_type": "markdown",
   "id": "a81923cf",
   "metadata": {},
   "source": [
    "* There are only object type data in dataset"
   ]
  },
  {
   "cell_type": "code",
   "execution_count": 14,
   "id": "83cfd640",
   "metadata": {},
   "outputs": [
    {
     "data": {
      "text/plain": [
       "(2671, 10)"
      ]
     },
     "execution_count": 14,
     "metadata": {},
     "output_type": "execute_result"
    }
   ],
   "source": [
    "#checking dataset shape\n",
    "df.shape"
   ]
  },
  {
   "cell_type": "markdown",
   "id": "86dc2b09",
   "metadata": {},
   "source": [
    "* There are 2671 rows and 10 columns."
   ]
  },
  {
   "cell_type": "code",
   "execution_count": 17,
   "id": "ab3ebd8b",
   "metadata": {},
   "outputs": [
    {
     "data": {
      "text/plain": [
       "Airline            object\n",
       "Date_of_Journey    object\n",
       "Source             object\n",
       "Destination        object\n",
       "Route              object\n",
       "Dep_Time           object\n",
       "Arrival_Time       object\n",
       "Duration           object\n",
       "Total_Stops        object\n",
       "Additional_Info    object\n",
       "dtype: object"
      ]
     },
     "execution_count": 17,
     "metadata": {},
     "output_type": "execute_result"
    }
   ],
   "source": [
    "#checking dataset type\n",
    "df.dtypes"
   ]
  },
  {
   "cell_type": "code",
   "execution_count": 18,
   "id": "a88f84be",
   "metadata": {},
   "outputs": [
    {
     "data": {
      "text/plain": [
       "array(['No info', 'In-flight meal not included',\n",
       "       'No check-in baggage included', '1 Long layover', 'Business class',\n",
       "       'Change airports'], dtype=object)"
      ]
     },
     "execution_count": 18,
     "metadata": {},
     "output_type": "execute_result"
    }
   ],
   "source": [
    "#checking additional information\n",
    "df.Additional_Info.unique()"
   ]
  },
  {
   "cell_type": "markdown",
   "id": "a7d90bc5",
   "metadata": {},
   "source": [
    "* Target and Dependent variables is discrete and categorical in nature"
   ]
  },
  {
   "cell_type": "code",
   "execution_count": 19,
   "id": "6c48d1c9",
   "metadata": {},
   "outputs": [
    {
     "data": {
      "text/html": [
       "<div>\n",
       "<style scoped>\n",
       "    .dataframe tbody tr th:only-of-type {\n",
       "        vertical-align: middle;\n",
       "    }\n",
       "\n",
       "    .dataframe tbody tr th {\n",
       "        vertical-align: top;\n",
       "    }\n",
       "\n",
       "    .dataframe thead th {\n",
       "        text-align: right;\n",
       "    }\n",
       "</style>\n",
       "<table border=\"1\" class=\"dataframe\">\n",
       "  <thead>\n",
       "    <tr style=\"text-align: right;\">\n",
       "      <th></th>\n",
       "      <th>Airline</th>\n",
       "      <th>Date_of_Journey</th>\n",
       "      <th>Source</th>\n",
       "      <th>Destination</th>\n",
       "      <th>Route</th>\n",
       "      <th>Dep_Time</th>\n",
       "      <th>Arrival_Time</th>\n",
       "      <th>Duration</th>\n",
       "      <th>Total_Stops</th>\n",
       "      <th>Additional_Info</th>\n",
       "    </tr>\n",
       "  </thead>\n",
       "  <tbody>\n",
       "  </tbody>\n",
       "</table>\n",
       "</div>"
      ],
      "text/plain": [
       "Empty DataFrame\n",
       "Columns: [Airline, Date_of_Journey, Source, Destination, Route, Dep_Time, Arrival_Time, Duration, Total_Stops, Additional_Info]\n",
       "Index: []"
      ]
     },
     "execution_count": 19,
     "metadata": {},
     "output_type": "execute_result"
    }
   ],
   "source": [
    "#getting additional info\n",
    "df.loc[df['Additional_Info']==' ']"
   ]
  },
  {
   "cell_type": "code",
   "execution_count": 20,
   "id": "7283f36d",
   "metadata": {},
   "outputs": [
    {
     "data": {
      "text/plain": [
       "Airline            0\n",
       "Date_of_Journey    0\n",
       "Source             0\n",
       "Destination        0\n",
       "Route              0\n",
       "Dep_Time           0\n",
       "Arrival_Time       0\n",
       "Duration           0\n",
       "Total_Stops        0\n",
       "Additional_Info    0\n",
       "dtype: int64"
      ]
     },
     "execution_count": 20,
     "metadata": {},
     "output_type": "execute_result"
    }
   ],
   "source": [
    "#checking null values\n",
    "df.isnull().sum()"
   ]
  },
  {
   "cell_type": "markdown",
   "id": "523bae80",
   "metadata": {},
   "source": [
    "* There are no null values here."
   ]
  },
  {
   "cell_type": "code",
   "execution_count": 22,
   "id": "e745c2aa",
   "metadata": {},
   "outputs": [],
   "source": [
    "#making dataframe for the Nominal data\n",
    "df_visualization_nominal=df[['Airline','Date_of_Journey','Source','Destination','Route','Dep_Time','Arrival_Time','Duration','Total_Stops']].copy()"
   ]
  },
  {
   "cell_type": "code",
   "execution_count": 23,
   "id": "66e27d1e",
   "metadata": {},
   "outputs": [
    {
     "data": {
      "text/plain": [
       "Index(['Airline', 'Date_of_Journey', 'Source', 'Destination', 'Route',\n",
       "       'Dep_Time', 'Arrival_Time', 'Duration', 'Total_Stops'],\n",
       "      dtype='object')"
      ]
     },
     "execution_count": 23,
     "metadata": {},
     "output_type": "execute_result"
    }
   ],
   "source": [
    "#checking \n",
    "df_visualization_nominal.columns"
   ]
  },
  {
   "cell_type": "markdown",
   "id": "06163797",
   "metadata": {},
   "source": [
    "* Now dataset contains 9 nominal columns."
   ]
  },
  {
   "cell_type": "markdown",
   "id": "89ec2e3f",
   "metadata": {},
   "source": [
    "## Data Visualization "
   ]
  },
  {
   "cell_type": "code",
   "execution_count": 25,
   "id": "37b9b971",
   "metadata": {},
   "outputs": [
    {
     "name": "stdout",
     "output_type": "stream",
     "text": [
      "Jet Airways                          897\n",
      "IndiGo                               511\n",
      "Air India                            440\n",
      "Multiple carriers                    347\n",
      "SpiceJet                             208\n",
      "Vistara                              129\n",
      "Air Asia                              86\n",
      "GoAir                                 46\n",
      "Multiple carriers Premium economy      3\n",
      "Vistara Premium economy                2\n",
      "Jet Airways Business                   2\n",
      "Name: Airline, dtype: int64\n"
     ]
    },
    {
     "data": {
      "image/png": "[encoded data removed]",
      "text/plain": [
       "<Figure size 432x288 with 1 Axes>"
      ]
     },
     "metadata": {
      "needs_background": "light"
     },
     "output_type": "display_data"
    }
   ],
   "source": [
    "#ploting countplot\n",
    "ax=sns.countplot(x='Airline',data=df_visualization_nominal)\n",
    "print(df_visualization_nominal['Airline'].value_counts())"
   ]
  },
  {
   "cell_type": "markdown",
   "id": "d9ffd490",
   "metadata": {},
   "source": [
    "* Look like dataset columns normal"
   ]
  },
  {
   "cell_type": "code",
   "execution_count": 26,
   "id": "a00e5ca5",
   "metadata": {},
   "outputs": [
    {
     "name": "stdout",
     "output_type": "stream",
     "text": [
      "9/05/2019     144\n",
      "12/06/2019    135\n",
      "18/05/2019    129\n",
      "6/06/2019     127\n",
      "9/06/2019     119\n",
      "21/05/2019    118\n",
      "15/05/2019    106\n",
      "15/06/2019    105\n",
      "6/03/2019      97\n",
      "21/03/2019     93\n",
      "3/06/2019      92\n",
      "1/06/2019      88\n",
      "24/06/2019     85\n",
      "1/04/2019      78\n",
      "24/03/2019     78\n",
      "27/06/2019     75\n",
      "6/05/2019      73\n",
      "24/05/2019     71\n",
      "12/05/2019     68\n",
      "27/03/2019     65\n",
      "27/05/2019     65\n",
      "1/05/2019      62\n",
      "3/03/2019      62\n",
      "9/03/2019      55\n",
      "12/03/2019     43\n",
      "18/03/2019     41\n",
      "01/03/2019     34\n",
      "15/03/2019     33\n",
      "3/04/2019      28\n",
      "06/03/2019     28\n",
      "3/05/2019      27\n",
      "03/03/2019     26\n",
      "9/04/2019      24\n",
      "21/06/2019     24\n",
      "15/04/2019     23\n",
      "18/06/2019     22\n",
      "21/04/2019     22\n",
      "09/03/2019     21\n",
      "24/04/2019     21\n",
      "27/04/2019     15\n",
      "6/04/2019      14\n",
      "1/03/2019      12\n",
      "18/04/2019     12\n",
      "12/04/2019     11\n",
      "Name: Date_of_Journey, dtype: int64\n"
     ]
    },
    {
     "data": {
      "image/png": "[encoded data removed]",
      "text/plain": [
       "<Figure size 432x288 with 1 Axes>"
      ]
     },
     "metadata": {
      "needs_background": "light"
     },
     "output_type": "display_data"
    }
   ],
   "source": [
    "# ploting sns count plot to Date of journey\n",
    "ax=sns.countplot(x='Date_of_Journey',data=df_visualization_nominal)\n",
    "print(df_visualization_nominal['Date_of_Journey'].value_counts())"
   ]
  },
  {
   "cell_type": "markdown",
   "id": "b1d64e00",
   "metadata": {},
   "source": [
    "* Look like normal distribution in date of journey in this plot"
   ]
  },
  {
   "cell_type": "code",
   "execution_count": 29,
   "id": "46e07660",
   "metadata": {},
   "outputs": [
    {
     "name": "stdout",
     "output_type": "stream",
     "text": [
      "Delhi       1145\n",
      "Kolkata      710\n",
      "Banglore     555\n",
      "Mumbai       186\n",
      "Chennai       75\n",
      "Name: Source, dtype: int64\n"
     ]
    },
    {
     "data": {
      "image/png": "[encoded data removed]",
      "text/plain": [
       "<Figure size 432x288 with 1 Axes>"
      ]
     },
     "metadata": {
      "needs_background": "light"
     },
     "output_type": "display_data"
    }
   ],
   "source": [
    "#ploting sns countplot for Source\n",
    "ax=sns.countplot(x='Source',data=df_visualization_nominal)\n",
    "print(df_visualization_nominal['Source'].value_counts())"
   ]
  },
  {
   "cell_type": "markdown",
   "id": "82a3ea4d",
   "metadata": {},
   "source": [
    "* looks like this column is destributed normally"
   ]
  },
  {
   "cell_type": "code",
   "execution_count": 28,
   "id": "586655e1",
   "metadata": {},
   "outputs": [
    {
     "name": "stdout",
     "output_type": "stream",
     "text": [
      "Cochin       1145\n",
      "Banglore      710\n",
      "Delhi         317\n",
      "New Delhi     238\n",
      "Hyderabad     186\n",
      "Kolkata        75\n",
      "Name: Destination, dtype: int64\n"
     ]
    },
    {
     "data": {
      "image/png": "[encoded data removed]",
      "text/plain": [
       "<Figure size 432x288 with 1 Axes>"
      ]
     },
     "metadata": {
      "needs_background": "light"
     },
     "output_type": "display_data"
    }
   ],
   "source": [
    "# ploting sns plot for Destination\n",
    "ax=sns.countplot(x='Destination',data=df_visualization_nominal)\n",
    "print(df_visualization_nominal['Destination'].value_counts())"
   ]
  },
  {
   "cell_type": "markdown",
   "id": "b86dd783",
   "metadata": {},
   "source": [
    "* Nominal data in Destination column"
   ]
  },
  {
   "cell_type": "code",
   "execution_count": 30,
   "id": "730fbf4a",
   "metadata": {},
   "outputs": [
    {
     "name": "stdout",
     "output_type": "stream",
     "text": [
      "DEL → BOM → COK                624\n",
      "BLR → DEL                      389\n",
      "CCU → BOM → BLR                253\n",
      "CCU → BLR                      172\n",
      "BOM → HYD                      164\n",
      "                              ... \n",
      "CCU → BBI → IXR → DEL → BLR      1\n",
      "BLR → VGA → VTZ → DEL            1\n",
      "CCU → BBI → HYD → BLR            1\n",
      "BLR → NAG → DEL                  1\n",
      "BLR → BOM → IDR → DEL            1\n",
      "Name: Route, Length: 100, dtype: int64\n"
     ]
    },
    {
     "data": {
      "image/png": "[encoded data removed]",
      "text/plain": [
       "<Figure size 432x288 with 1 Axes>"
      ]
     },
     "metadata": {
      "needs_background": "light"
     },
     "output_type": "display_data"
    }
   ],
   "source": [
    "#ploting sns countplot for Route\n",
    "ax=sns.countplot(x='Route',data=df_visualization_nominal)\n",
    "print(df_visualization_nominal['Route'].value_counts())"
   ]
  },
  {
   "cell_type": "markdown",
   "id": "310dcad2",
   "metadata": {},
   "source": [
    "* This count plot contains Rote nominal data"
   ]
  },
  {
   "cell_type": "code",
   "execution_count": 31,
   "id": "9a584108",
   "metadata": {},
   "outputs": [
    {
     "name": "stdout",
     "output_type": "stream",
     "text": [
      "10:00    62\n",
      "18:55    55\n",
      "20:00    53\n",
      "14:05    51\n",
      "17:00    48\n",
      "         ..\n",
      "13:30     1\n",
      "16:15     1\n",
      "01:35     1\n",
      "10:25     1\n",
      "02:30     1\n",
      "Name: Dep_Time, Length: 199, dtype: int64\n"
     ]
    },
    {
     "data": {
      "image/png": "[encoded data removed]",
      "text/plain": [
       "<Figure size 432x288 with 1 Axes>"
      ]
     },
     "metadata": {
      "needs_background": "light"
     },
     "output_type": "display_data"
    }
   ],
   "source": [
    "#ploting sns countplot for Dpe_time\n",
    "ax=sns.countplot(x='Dep_Time',data=df_visualization_nominal)\n",
    "print(df_visualization_nominal['Dep_Time'].value_counts())"
   ]
  },
  {
   "cell_type": "markdown",
   "id": "356a4bce",
   "metadata": {},
   "source": [
    "* The dep time plot contains looks like normally distributed"
   ]
  },
  {
   "cell_type": "code",
   "execution_count": 32,
   "id": "afdb7af2",
   "metadata": {},
   "outputs": [
    {
     "name": "stdout",
     "output_type": "stream",
     "text": [
      "19:00           113\n",
      "21:00           106\n",
      "19:15           101\n",
      "12:35            37\n",
      "16:10            31\n",
      "               ... \n",
      "15:05 07 May      1\n",
      "06:50 19 May      1\n",
      "04:00             1\n",
      "07:40 19 May      1\n",
      "14:25 25 May      1\n",
      "Name: Arrival_Time, Length: 704, dtype: int64\n"
     ]
    },
    {
     "data": {
      "image/png": "[encoded data removed]",
      "text/plain": [
       "<Figure size 432x288 with 1 Axes>"
      ]
     },
     "metadata": {
      "needs_background": "light"
     },
     "output_type": "display_data"
    }
   ],
   "source": [
    "#ploting sns countplot for Arrival Time\n",
    "ax=sns.countplot(x='Arrival_Time',data=df_visualization_nominal)\n",
    "print(df_visualization_nominal['Arrival_Time'].value_counts())"
   ]
  },
  {
   "cell_type": "markdown",
   "id": "b1a68057",
   "metadata": {},
   "source": [
    "* data distribution of Arrival Time"
   ]
  },
  {
   "cell_type": "code",
   "execution_count": 33,
   "id": "4b936d2a",
   "metadata": {},
   "outputs": [
    {
     "name": "stdout",
     "output_type": "stream",
     "text": [
      "2h 50m     122\n",
      "1h 30m     107\n",
      "2h 45m      95\n",
      "2h 55m      81\n",
      "3h          72\n",
      "          ... \n",
      "40h 40m      1\n",
      "24h 20m      1\n",
      "26h 50m      1\n",
      "5m           1\n",
      "30h 45m      1\n",
      "Name: Duration, Length: 320, dtype: int64\n"
     ]
    },
    {
     "data": {
      "image/png": "[encoded data removed]",
      "text/plain": [
       "<Figure size 432x288 with 1 Axes>"
      ]
     },
     "metadata": {
      "needs_background": "light"
     },
     "output_type": "display_data"
    }
   ],
   "source": [
    "#ploting sns countplot for Duration\n",
    "ax=sns.countplot(x='Duration',data=df_visualization_nominal)\n",
    "print(df_visualization_nominal['Duration'].value_counts())"
   ]
  },
  {
   "cell_type": "markdown",
   "id": "a03a2228",
   "metadata": {},
   "source": [
    "* data distribution of Duration"
   ]
  },
  {
   "cell_type": "code",
   "execution_count": 34,
   "id": "663ab57d",
   "metadata": {},
   "outputs": [
    {
     "name": "stdout",
     "output_type": "stream",
     "text": [
      "1 stop      1431\n",
      "non-stop     849\n",
      "2 stops      379\n",
      "3 stops       11\n",
      "4 stops        1\n",
      "Name: Total_Stops, dtype: int64\n"
     ]
    },
    {
     "data": {
      "image/png": "[encoded data removed]",
      "text/plain": [
       "<Figure size 432x288 with 1 Axes>"
      ]
     },
     "metadata": {
      "needs_background": "light"
     },
     "output_type": "display_data"
    }
   ],
   "source": [
    "#ploting sns countplot for Total Stops\n",
    "ax=sns.countplot(x='Total_Stops',data=df_visualization_nominal)\n",
    "print(df_visualization_nominal['Total_Stops'].value_counts())"
   ]
  },
  {
   "cell_type": "markdown",
   "id": "5aff5d96",
   "metadata": {},
   "source": [
    "* data distribution of total stops"
   ]
  },
  {
   "cell_type": "code",
   "execution_count": 35,
   "id": "c2804de3",
   "metadata": {},
   "outputs": [],
   "source": [
    "#making datafrme of the ordinal data\n",
    "df_visualization_ordinal=df[['Airline','Source']].copy()"
   ]
  },
  {
   "cell_type": "code",
   "execution_count": 36,
   "id": "34654b02",
   "metadata": {},
   "outputs": [
    {
     "data": {
      "text/plain": [
       "<seaborn.axisgrid.FacetGrid at 0x7ff201315d60>"
      ]
     },
     "execution_count": 36,
     "metadata": {},
     "output_type": "execute_result"
    },
    {
     "data": {
      "image/png": "[encoded data removed]",
      "text/plain": [
       "<Figure size 360x360 with 1 Axes>"
      ]
     },
     "metadata": {
      "needs_background": "light"
     },
     "output_type": "display_data"
    }
   ],
   "source": [
    "#ploting catplot for Airline and Source\n",
    "sns.catplot(x='Airline',y='Source',data=df)"
   ]
  },
  {
   "cell_type": "markdown",
   "id": "16eb8230",
   "metadata": {},
   "source": [
    "* data of airline and source ,x=Airline ,y=Source"
   ]
  },
  {
   "cell_type": "code",
   "execution_count": 37,
   "id": "04e182d4",
   "metadata": {},
   "outputs": [
    {
     "data": {
      "text/plain": [
       "<seaborn.axisgrid.FacetGrid at 0x7ff2107cf8b0>"
      ]
     },
     "execution_count": 37,
     "metadata": {},
     "output_type": "execute_result"
    },
    {
     "data": {
      "image/png": "[encoded data removed]",
      "text/plain": [
       "<Figure size 360x360 with 1 Axes>"
      ]
     },
     "metadata": {
      "needs_background": "light"
     },
     "output_type": "display_data"
    }
   ],
   "source": [
    "#ploting date of journey and source\n",
    "sns.catplot(x='Date_of_Journey',y='Source',data=df)"
   ]
  },
  {
   "cell_type": "markdown",
   "id": "ce2194aa",
   "metadata": {},
   "source": [
    "* data visualization contains of date of journey and source"
   ]
  },
  {
   "cell_type": "code",
   "execution_count": 38,
   "id": "efddc62e",
   "metadata": {},
   "outputs": [
    {
     "data": {
      "text/plain": [
       "<seaborn.axisgrid.FacetGrid at 0x7ff1f0e4f040>"
      ]
     },
     "execution_count": 38,
     "metadata": {},
     "output_type": "execute_result"
    },
    {
     "data": {
      "image/png": "[encoded data removed]",
      "text/plain": [
       "<Figure size 360x360 with 1 Axes>"
      ]
     },
     "metadata": {
      "needs_background": "light"
     },
     "output_type": "display_data"
    }
   ],
   "source": [
    "#ploting Destination and Source\n",
    "sns.catplot(x='Destination',y='Source',data=df)"
   ]
  },
  {
   "cell_type": "markdown",
   "id": "1fb58210",
   "metadata": {},
   "source": [
    "* This catplot contains the data of destination and source"
   ]
  },
  {
   "cell_type": "code",
   "execution_count": 39,
   "id": "ebbb5182",
   "metadata": {},
   "outputs": [
    {
     "data": {
      "text/plain": [
       "<seaborn.axisgrid.FacetGrid at 0x7ff203f44ac0>"
      ]
     },
     "execution_count": 39,
     "metadata": {},
     "output_type": "execute_result"
    },
    {
     "data": {
      "image/png": "[encoded data removed]",
      "text/plain": [
       "<Figure size 360x360 with 1 Axes>"
      ]
     },
     "metadata": {
      "needs_background": "light"
     },
     "output_type": "display_data"
    }
   ],
   "source": [
    "#ploting catplot for route and source\n",
    "sns.catplot(x='Route',y='Source',data=df)"
   ]
  },
  {
   "cell_type": "markdown",
   "id": "8e0b52e2",
   "metadata": {},
   "source": [
    "* This catplot contains the data of route and source"
   ]
  },
  {
   "cell_type": "code",
   "execution_count": 40,
   "id": "0db9761c",
   "metadata": {},
   "outputs": [
    {
     "data": {
      "text/plain": [
       "<seaborn.axisgrid.FacetGrid at 0x7ff2110038e0>"
      ]
     },
     "execution_count": 40,
     "metadata": {},
     "output_type": "execute_result"
    },
    {
     "data": {
      "image/png": "[encoded data removed]",
      "text/plain": [
       "<Figure size 360x360 with 1 Axes>"
      ]
     },
     "metadata": {
      "needs_background": "light"
     },
     "output_type": "display_data"
    }
   ],
   "source": [
    "#ploting catplot for deptime and source\n",
    "sns.catplot(x='Dep_Time',y='Source',data=df)"
   ]
  },
  {
   "cell_type": "markdown",
   "id": "13f01d6b",
   "metadata": {},
   "source": [
    "* This catplot contains the data of Dep_time and source"
   ]
  },
  {
   "cell_type": "code",
   "execution_count": 42,
   "id": "83c69fdf",
   "metadata": {},
   "outputs": [
    {
     "data": {
      "text/plain": [
       "<seaborn.axisgrid.FacetGrid at 0x7ff2105471c0>"
      ]
     },
     "execution_count": 42,
     "metadata": {},
     "output_type": "execute_result"
    },
    {
     "data": {
      "image/png": "[encoded data removed]",
      "text/plain": [
       "<Figure size 360x360 with 1 Axes>"
      ]
     },
     "metadata": {
      "needs_background": "light"
     },
     "output_type": "display_data"
    }
   ],
   "source": [
    "#ploting sns catplot for arrival time\n",
    "sns.catplot(x='Arrival_Time',y='Source',data=df)"
   ]
  },
  {
   "cell_type": "markdown",
   "id": "d1b5fc03",
   "metadata": {},
   "source": [
    "* This catplot contains the data of Arrival Time and source"
   ]
  },
  {
   "cell_type": "code",
   "execution_count": 43,
   "id": "d52f4be7",
   "metadata": {},
   "outputs": [
    {
     "data": {
      "text/plain": [
       "<seaborn.axisgrid.FacetGrid at 0x7ff1f0ca5040>"
      ]
     },
     "execution_count": 43,
     "metadata": {},
     "output_type": "execute_result"
    },
    {
     "data": {
      "image/png": "[encoded data removed]",
      "text/plain": [
       "<Figure size 360x360 with 1 Axes>"
      ]
     },
     "metadata": {
      "needs_background": "light"
     },
     "output_type": "display_data"
    }
   ],
   "source": [
    "#ploting catplot for duration and source\n",
    "sns.catplot(x='Duration',y='Source',data=df)"
   ]
  },
  {
   "cell_type": "markdown",
   "id": "d0890a29",
   "metadata": {},
   "source": [
    "* This catplot contains the data of Duration and source"
   ]
  },
  {
   "cell_type": "code",
   "execution_count": 44,
   "id": "692e0584",
   "metadata": {},
   "outputs": [
    {
     "data": {
      "text/plain": [
       "<seaborn.axisgrid.FacetGrid at 0x7ff1f148a760>"
      ]
     },
     "execution_count": 44,
     "metadata": {},
     "output_type": "execute_result"
    },
    {
     "data": {
      "image/png": "[encoded data removed]",
      "text/plain": [
       "<Figure size 360x360 with 1 Axes>"
      ]
     },
     "metadata": {
      "needs_background": "light"
     },
     "output_type": "display_data"
    }
   ],
   "source": [
    "#ploting sns catplot for Total Stops and Source\n",
    "sns.catplot(x='Total_Stops',y='Source',data=df)"
   ]
  },
  {
   "cell_type": "markdown",
   "id": "0e9bb11d",
   "metadata": {},
   "source": [
    "* This catplot contains the data of destination and source"
   ]
  },
  {
   "cell_type": "code",
   "execution_count": 45,
   "id": "aad44e44",
   "metadata": {},
   "outputs": [],
   "source": [
    "#checking distribution of continuous value of the object type columns\n",
    "df_visualization_continuous=df[['Total_Stops','Additional_Info','Duration','Arrival_Time','Airline','Source']].copy()"
   ]
  },
  {
   "cell_type": "code",
   "execution_count": 46,
   "id": "82117f74",
   "metadata": {},
   "outputs": [
    {
     "data": {
      "text/plain": [
       "<seaborn.axisgrid.FacetGrid at 0x7ff2042bc610>"
      ]
     },
     "execution_count": 46,
     "metadata": {},
     "output_type": "execute_result"
    },
    {
     "data": {
      "image/png": "[encoded data removed]",
      "text/plain": [
       "<Figure size 360x360 with 1 Axes>"
      ]
     },
     "metadata": {
      "needs_background": "light"
     },
     "output_type": "display_data"
    }
   ],
   "source": [
    "#ploting displot\n",
    "sns.displot(df_visualization_continuous['Additional_Info'], kde=True)"
   ]
  },
  {
   "cell_type": "markdown",
   "id": "9c85e349",
   "metadata": {},
   "source": [
    "* Looks like the data distribution not normal because of viscouse"
   ]
  },
  {
   "cell_type": "code",
   "execution_count": 48,
   "id": "b0ffaa7a",
   "metadata": {},
   "outputs": [
    {
     "data": {
      "text/plain": [
       "<seaborn.axisgrid.FacetGrid at 0x7ff204031fa0>"
      ]
     },
     "execution_count": 48,
     "metadata": {},
     "output_type": "execute_result"
    },
    {
     "data": {
      "image/png": "[encoded data removed]",
      "text/plain": [
       "<Figure size 360x360 with 1 Axes>"
      ]
     },
     "metadata": {
      "needs_background": "light"
     },
     "output_type": "display_data"
    }
   ],
   "source": [
    "#ploting displot for Total Stops\n",
    "sns.displot(df_visualization_continuous['Total_Stops'], kde=True)"
   ]
  },
  {
   "cell_type": "markdown",
   "id": "ff9f2194",
   "metadata": {},
   "source": [
    "* Looks like the data distribution not normal because of viscouse"
   ]
  },
  {
   "cell_type": "code",
   "execution_count": 50,
   "id": "73afac92",
   "metadata": {},
   "outputs": [
    {
     "data": {
      "text/plain": [
       "<seaborn.axisgrid.FacetGrid at 0x7ff2042d08e0>"
      ]
     },
     "execution_count": 50,
     "metadata": {},
     "output_type": "execute_result"
    },
    {
     "data": {
      "image/png": "[encoded data removed]",
      "text/plain": [
       "<Figure size 360x360 with 1 Axes>"
      ]
     },
     "metadata": {
      "needs_background": "light"
     },
     "output_type": "display_data"
    }
   ],
   "source": [
    "#ploting displot for Duration\n",
    "sns.displot(df_visualization_continuous['Duration'], kde=True)"
   ]
  },
  {
   "cell_type": "markdown",
   "id": "8e4580f7",
   "metadata": {},
   "source": [
    "* Looks like the data distribution not normal because of viscouse"
   ]
  },
  {
   "cell_type": "code",
   "execution_count": 51,
   "id": "5f4d849d",
   "metadata": {},
   "outputs": [
    {
     "data": {
      "text/plain": [
       "<seaborn.axisgrid.FacetGrid at 0x7ff204ab1370>"
      ]
     },
     "execution_count": 51,
     "metadata": {},
     "output_type": "execute_result"
    },
    {
     "data": {
      "image/png": "[encoded data removed]",
      "text/plain": [
       "<Figure size 360x360 with 1 Axes>"
      ]
     },
     "metadata": {
      "needs_background": "light"
     },
     "output_type": "display_data"
    }
   ],
   "source": [
    "#ploting displot for Arrival time\n",
    "sns.displot(df_visualization_continuous['Arrival_Time'], kde=True)"
   ]
  },
  {
   "cell_type": "markdown",
   "id": "d2aec390",
   "metadata": {},
   "source": [
    "* Looks like the data distribution not normal because of viscouse"
   ]
  },
  {
   "cell_type": "code",
   "execution_count": 52,
   "id": "eb6544bb",
   "metadata": {},
   "outputs": [
    {
     "data": {
      "text/plain": [
       "<seaborn.axisgrid.FacetGrid at 0x7ff204568910>"
      ]
     },
     "execution_count": 52,
     "metadata": {},
     "output_type": "execute_result"
    },
    {
     "data": {
      "image/png": "[encoded data removed]",
      "text/plain": [
       "<Figure size 360x360 with 1 Axes>"
      ]
     },
     "metadata": {
      "needs_background": "light"
     },
     "output_type": "display_data"
    }
   ],
   "source": [
    "#ploting displot for Airline\n",
    "sns.displot(df_visualization_continuous['Airline'], kde=True)"
   ]
  },
  {
   "cell_type": "markdown",
   "id": "ccd0b53f",
   "metadata": {},
   "source": [
    "* Looks like the data distribution not normal because of viscouse"
   ]
  },
  {
   "cell_type": "code",
   "execution_count": 54,
   "id": "82270076",
   "metadata": {},
   "outputs": [
    {
     "data": {
      "text/plain": [
       "<seaborn.axisgrid.FacetGrid at 0x7ff204c6f550>"
      ]
     },
     "execution_count": 54,
     "metadata": {},
     "output_type": "execute_result"
    },
    {
     "data": {
      "image/png": "[encoded data removed]",
      "text/plain": [
       "<Figure size 360x360 with 1 Axes>"
      ]
     },
     "metadata": {
      "needs_background": "light"
     },
     "output_type": "display_data"
    }
   ],
   "source": [
    "#ploting displot for source\n",
    "sns.displot(df_visualization_continuous['Source'], kde=True)"
   ]
  },
  {
   "cell_type": "markdown",
   "id": "5f04321e",
   "metadata": {},
   "source": [
    "* Looks like the data distribution not normal because of viscouse"
   ]
  },
  {
   "cell_type": "markdown",
   "id": "9b105cde",
   "metadata": {},
   "source": [
    "### Encoding Method"
   ]
  },
  {
   "cell_type": "code",
   "execution_count": 56,
   "id": "6889063c",
   "metadata": {},
   "outputs": [],
   "source": [
    "#importing Label Encoder\n",
    "from sklearn.preprocessing import LabelEncoder\n",
    "LE=LabelEncoder()\n",
    "df['Additional_Info']=LE.fit_transform(df['Additional_Info'])"
   ]
  },
  {
   "cell_type": "code",
   "execution_count": 57,
   "id": "23466726",
   "metadata": {},
   "outputs": [
    {
     "data": {
      "text/plain": [
       "array([5, 3, 4, 0, 1, 2])"
      ]
     },
     "execution_count": 57,
     "metadata": {},
     "output_type": "execute_result"
    }
   ],
   "source": [
    "#checking unique\n",
    "df.Additional_Info.unique()"
   ]
  },
  {
   "cell_type": "code",
   "execution_count": 58,
   "id": "a57b1266",
   "metadata": {},
   "outputs": [
    {
     "data": {
      "text/html": [
       "<div>\n",
       "<style scoped>\n",
       "    .dataframe tbody tr th:only-of-type {\n",
       "        vertical-align: middle;\n",
       "    }\n",
       "\n",
       "    .dataframe tbody tr th {\n",
       "        vertical-align: top;\n",
       "    }\n",
       "\n",
       "    .dataframe thead th {\n",
       "        text-align: right;\n",
       "    }\n",
       "</style>\n",
       "<table border=\"1\" class=\"dataframe\">\n",
       "  <thead>\n",
       "    <tr style=\"text-align: right;\">\n",
       "      <th></th>\n",
       "      <th>Airline</th>\n",
       "      <th>Date_of_Journey</th>\n",
       "      <th>Source</th>\n",
       "      <th>Destination</th>\n",
       "      <th>Route</th>\n",
       "      <th>Dep_Time</th>\n",
       "      <th>Arrival_Time</th>\n",
       "      <th>Duration</th>\n",
       "      <th>Total_Stops</th>\n",
       "      <th>Additional_Info</th>\n",
       "    </tr>\n",
       "  </thead>\n",
       "  <tbody>\n",
       "    <tr>\n",
       "      <th>0</th>\n",
       "      <td>Jet Airways</td>\n",
       "      <td>6/06/2019</td>\n",
       "      <td>Delhi</td>\n",
       "      <td>Cochin</td>\n",
       "      <td>DEL → BOM → COK</td>\n",
       "      <td>17:30</td>\n",
       "      <td>04:25 07 Jun</td>\n",
       "      <td>10h 55m</td>\n",
       "      <td>1 stop</td>\n",
       "      <td>5</td>\n",
       "    </tr>\n",
       "    <tr>\n",
       "      <th>1</th>\n",
       "      <td>IndiGo</td>\n",
       "      <td>12/05/2019</td>\n",
       "      <td>Kolkata</td>\n",
       "      <td>Banglore</td>\n",
       "      <td>CCU → MAA → BLR</td>\n",
       "      <td>06:20</td>\n",
       "      <td>10:20</td>\n",
       "      <td>4h</td>\n",
       "      <td>1 stop</td>\n",
       "      <td>5</td>\n",
       "    </tr>\n",
       "    <tr>\n",
       "      <th>2</th>\n",
       "      <td>Jet Airways</td>\n",
       "      <td>21/05/2019</td>\n",
       "      <td>Delhi</td>\n",
       "      <td>Cochin</td>\n",
       "      <td>DEL → BOM → COK</td>\n",
       "      <td>19:15</td>\n",
       "      <td>19:00 22 May</td>\n",
       "      <td>23h 45m</td>\n",
       "      <td>1 stop</td>\n",
       "      <td>3</td>\n",
       "    </tr>\n",
       "    <tr>\n",
       "      <th>3</th>\n",
       "      <td>Multiple carriers</td>\n",
       "      <td>21/05/2019</td>\n",
       "      <td>Delhi</td>\n",
       "      <td>Cochin</td>\n",
       "      <td>DEL → BOM → COK</td>\n",
       "      <td>08:00</td>\n",
       "      <td>21:00</td>\n",
       "      <td>13h</td>\n",
       "      <td>1 stop</td>\n",
       "      <td>5</td>\n",
       "    </tr>\n",
       "    <tr>\n",
       "      <th>4</th>\n",
       "      <td>Air Asia</td>\n",
       "      <td>24/06/2019</td>\n",
       "      <td>Banglore</td>\n",
       "      <td>Delhi</td>\n",
       "      <td>BLR → DEL</td>\n",
       "      <td>23:55</td>\n",
       "      <td>02:45 25 Jun</td>\n",
       "      <td>2h 50m</td>\n",
       "      <td>non-stop</td>\n",
       "      <td>5</td>\n",
       "    </tr>\n",
       "  </tbody>\n",
       "</table>\n",
       "</div>"
      ],
      "text/plain": [
       "             Airline Date_of_Journey    Source Destination            Route  \\\n",
       "0        Jet Airways       6/06/2019     Delhi      Cochin  DEL → BOM → COK   \n",
       "1             IndiGo      12/05/2019   Kolkata    Banglore  CCU → MAA → BLR   \n",
       "2        Jet Airways      21/05/2019     Delhi      Cochin  DEL → BOM → COK   \n",
       "3  Multiple carriers      21/05/2019     Delhi      Cochin  DEL → BOM → COK   \n",
       "4           Air Asia      24/06/2019  Banglore       Delhi        BLR → DEL   \n",
       "\n",
       "  Dep_Time  Arrival_Time Duration Total_Stops  Additional_Info  \n",
       "0    17:30  04:25 07 Jun  10h 55m      1 stop                5  \n",
       "1    06:20         10:20       4h      1 stop                5  \n",
       "2    19:15  19:00 22 May  23h 45m      1 stop                3  \n",
       "3    08:00         21:00      13h      1 stop                5  \n",
       "4    23:55  02:45 25 Jun   2h 50m    non-stop                5  "
      ]
     },
     "execution_count": 58,
     "metadata": {},
     "output_type": "execute_result"
    }
   ],
   "source": [
    "#checking head\n",
    "df.head()"
   ]
  },
  {
   "cell_type": "code",
   "execution_count": 59,
   "id": "448c733b",
   "metadata": {},
   "outputs": [],
   "source": [
    "#encoding Airline\n",
    "LE=LabelEncoder()\n",
    "df['Airline']=LE.fit_transform(df['Airline'])"
   ]
  },
  {
   "cell_type": "code",
   "execution_count": 60,
   "id": "9f6f83a5",
   "metadata": {},
   "outputs": [
    {
     "data": {
      "text/plain": [
       "array([ 4,  3,  6,  0,  1,  9,  8, 10,  2,  7,  5])"
      ]
     },
     "execution_count": 60,
     "metadata": {},
     "output_type": "execute_result"
    }
   ],
   "source": [
    "#checking unique\n",
    "df.Airline.unique()"
   ]
  },
  {
   "cell_type": "code",
   "execution_count": 63,
   "id": "71c3aa14",
   "metadata": {},
   "outputs": [],
   "source": [
    "#encoding date of journey\n",
    "LE=LabelEncoder()\n",
    "df['Date_of_Journey']=LE.fit_transform(df['Date_of_Journey'])"
   ]
  },
  {
   "cell_type": "code",
   "execution_count": 62,
   "id": "8b4746f1",
   "metadata": {},
   "outputs": [
    {
     "data": {
      "text/plain": [
       "array([39, 10, 22, 27, 11,  8,  6, 12, 18, 20, 15, 14, 35,  2, 24, 36, 42,\n",
       "       16, 37,  7, 32, 28, 43, 34,  5, 19, 13, 38, 40, 33, 31, 23, 21, 17,\n",
       "       41, 26,  0,  3, 30,  1, 29,  4, 25,  9])"
      ]
     },
     "execution_count": 62,
     "metadata": {},
     "output_type": "execute_result"
    }
   ],
   "source": [
    "#checkig unique\n",
    "df.Date_of_Journey.unique()"
   ]
  },
  {
   "cell_type": "code",
   "execution_count": 64,
   "id": "9c03f51a",
   "metadata": {},
   "outputs": [],
   "source": [
    "#encoding source\n",
    "LE=LabelEncoder()\n",
    "df['Source']=LE.fit_transform(df['Source'])"
   ]
  },
  {
   "cell_type": "code",
   "execution_count": 65,
   "id": "c7991b0a",
   "metadata": {},
   "outputs": [
    {
     "data": {
      "text/plain": [
       "array([2, 3, 0, 4, 1])"
      ]
     },
     "execution_count": 65,
     "metadata": {},
     "output_type": "execute_result"
    }
   ],
   "source": [
    "#checkign unique\n",
    "df.Source.unique()"
   ]
  },
  {
   "cell_type": "code",
   "execution_count": 66,
   "id": "52928cf5",
   "metadata": {},
   "outputs": [],
   "source": [
    "#encoding Destination\n",
    "LE=LabelEncoder()\n",
    "df['Destination']=LE.fit_transform(df['Destination'])"
   ]
  },
  {
   "cell_type": "code",
   "execution_count": 67,
   "id": "9a74c4e0",
   "metadata": {},
   "outputs": [
    {
     "data": {
      "text/plain": [
       "array([1, 0, 2, 5, 3, 4])"
      ]
     },
     "execution_count": 67,
     "metadata": {},
     "output_type": "execute_result"
    }
   ],
   "source": [
    "#checking unique\n",
    "df.Destination.unique()"
   ]
  },
  {
   "cell_type": "code",
   "execution_count": 68,
   "id": "802ac1b8",
   "metadata": {},
   "outputs": [],
   "source": [
    "#encoding route\n",
    "LE=LabelEncoder()\n",
    "df['Route']=LE.fit_transform(df['Route'])"
   ]
  },
  {
   "cell_type": "code",
   "execution_count": 69,
   "id": "efb0ad24",
   "metadata": {},
   "outputs": [
    {
     "data": {
      "text/plain": [
       "array([76, 65, 16, 24, 57, 43, 45, 92, 83,  5, 51, 88, 74, 33, 68, 99, 46,\n",
       "       75, 84, 93, 60, 50, 78, 62, 91, 58, 77, 56, 15, 10, 40,  0, 30, 80,\n",
       "       87, 82, 52, 18,  4, 85, 70, 96, 94, 67, 20,  8,  6, 69, 39, 21, 61,\n",
       "       47, 72, 25, 73, 19,  3, 79, 71, 48, 23, 64, 97, 14, 98, 29, 44, 89,\n",
       "       95, 81,  7,  2, 36, 55, 11,  1, 37, 54, 90, 63, 66, 35, 13, 27, 49,\n",
       "       31, 34, 53, 17,  9, 86, 41, 26, 22, 38, 28, 12, 42, 59, 32])"
      ]
     },
     "execution_count": 69,
     "metadata": {},
     "output_type": "execute_result"
    }
   ],
   "source": [
    "#checking unique\n",
    "df.Route.unique()"
   ]
  },
  {
   "cell_type": "code",
   "execution_count": 70,
   "id": "23739eda",
   "metadata": {},
   "outputs": [],
   "source": [
    "#encoding departure time\n",
    "LE=LabelEncoder()\n",
    "df['Dep_time']=LE.fit_transform(df['Dep_Time'])"
   ]
  },
  {
   "cell_type": "code",
   "execution_count": 71,
   "id": "6e2405fc",
   "metadata": {},
   "outputs": [
    {
     "data": {
      "text/plain": [
       "array(['17:30', '06:20', '19:15', '08:00', '23:55', '18:15', '07:30',\n",
       "       '15:15', '10:10', '16:30', '13:55', '06:50', '09:00', '05:45',\n",
       "       '21:25', '13:15', '09:55', '22:55', '10:45', '20:00', '05:30',\n",
       "       '21:05', '16:00', '14:00', '22:50', '19:50', '07:10', '05:55',\n",
       "       '16:55', '18:55', '10:20', '17:10', '13:00', '22:45', '21:00',\n",
       "       '17:45', '09:25', '14:05', '09:45', '02:00', '11:40', '17:00',\n",
       "       '06:00', '07:05', '16:45', '19:40', '03:50', '21:15', '11:30',\n",
       "       '12:00', '21:50', '05:50', '07:55', '09:10', '08:20', '09:30',\n",
       "       '10:00', '14:55', '22:10', '07:00', '19:55', '19:30', '15:00',\n",
       "       '05:35', '06:40', '17:15', '21:20', '07:35', '06:55', '17:35',\n",
       "       '11:15', '20:15', '20:25', '05:40', '15:05', '20:55', '14:25',\n",
       "       '19:45', '08:25', '22:00', '21:10', '02:15', '08:30', '20:40',\n",
       "       '14:15', '14:35', '11:10', '19:35', '15:20', '06:10', '22:20',\n",
       "       '08:35', '14:40', '09:40', '01:30', '08:50', '19:05', '08:55',\n",
       "       '11:35', '04:55', '14:10', '09:35', '17:50', '15:45', '02:55',\n",
       "       '00:30', '19:00', '23:05', '11:25', '05:25', '05:15', '12:50',\n",
       "       '06:45', '18:05', '13:25', '09:20', '02:30', '23:30', '07:45',\n",
       "       '11:55', '20:20', '08:15', '17:25', '09:50', '15:50', '10:35',\n",
       "       '14:30', '06:30', '11:50', '19:10', '20:45', '15:10', '16:50',\n",
       "       '16:35', '10:30', '04:45', '04:00', '04:40', '18:25', '15:35',\n",
       "       '19:20', '13:10', '13:05', '09:15', '20:30', '12:30', '11:00',\n",
       "       '08:45', '07:20', '14:45', '10:55', '05:00', '15:55', '15:30',\n",
       "       '20:05', '18:45', '16:10', '23:25', '16:40', '07:15', '13:20',\n",
       "       '06:05', '20:50', '11:20', '06:15', '18:00', '18:40', '12:55',\n",
       "       '05:10', '22:05', '07:25', '05:05', '22:30', '04:50', '18:20',\n",
       "       '17:40', '00:40', '11:45', '22:15', '15:40', '14:20', '20:35',\n",
       "       '13:30', '02:35', '17:05', '17:55', '21:30', '22:40', '08:10',\n",
       "       '06:25', '20:10', '18:35', '13:50', '00:25', '01:35', '16:15',\n",
       "       '10:25', '12:10', '23:00'], dtype=object)"
      ]
     },
     "execution_count": 71,
     "metadata": {},
     "output_type": "execute_result"
    }
   ],
   "source": [
    "#checking unique\n",
    "df.Dep_Time.unique()"
   ]
  },
  {
   "cell_type": "code",
   "execution_count": 72,
   "id": "6e28ed72",
   "metadata": {},
   "outputs": [],
   "source": [
    "#encoding Arrival time\n",
    "LE=LabelEncoder()\n",
    "df['Arrival_Time']=LE.fit_transform(df['Arrival_Time'])"
   ]
  },
  {
   "cell_type": "code",
   "execution_count": 73,
   "id": "cc48db6c",
   "metadata": {},
   "outputs": [
    {
     "data": {
      "text/plain": [
       "array([150, 353, 566, 633, 135, 432, 662, 620, 442, 554, 488, 577, 355,\n",
       "       428, 258, 661, 657, 157, 263, 119, 344, 287, 555, 702, 161, 516,\n",
       "        87, 122, 427, 674, 274, 678, 410, 598, 111,  32, 230, 125, 610,\n",
       "       548, 481, 663, 455, 603, 499, 399, 408, 527, 240, 570, 419, 549,\n",
       "       318, 660, 659, 485, 218,  34, 546, 449, 565, 647, 484, 366, 398,\n",
       "       421, 190, 517, 347,  83, 289, 107, 363, 261, 267, 535, 578, 624,\n",
       "       220, 158, 211, 539, 350, 120, 600, 345,  68, 640, 324, 658, 590,\n",
       "       538, 109, 151, 619, 357, 461, 276, 611, 431, 507, 597, 138, 440,\n",
       "       493, 189, 379, 667, 403, 323,  36, 504, 177, 266,  16, 607, 412,\n",
       "       634, 482, 518, 278,  62, 510, 508,  30, 143, 365, 542, 621,  64,\n",
       "       648, 382, 103,  65, 316, 474, 581, 460, 390, 162, 249, 377, 509,\n",
       "       395, 381, 255, 224, 506, 116, 104, 483, 650, 334,  85, 606, 144,\n",
       "       254, 137, 616,  75, 388, 467, 685, 106, 329, 115, 148, 595, 639,\n",
       "       437, 463, 282, 141, 622, 127, 438,  40, 691, 194, 464,  74, 495,\n",
       "       147, 310, 614, 675, 327, 340, 268, 459, 309, 519, 284, 409, 394,\n",
       "       701, 112, 295, 465, 511, 281, 501, 226, 153, 445, 405, 352, 564,\n",
       "       380, 215, 533, 690, 585, 201, 452, 536, 560, 668, 108, 696, 642,\n",
       "       291, 273, 231, 166, 556, 101, 145, 568,  78, 550, 243, 206, 270,\n",
       "       458,  96, 217, 118, 264,  51, 524, 146, 358, 698, 699, 569, 173,\n",
       "        69, 433, 360, 429, 471, 596, 167, 152, 453, 203, 515, 159, 315,\n",
       "       684, 551, 302, 219, 692, 652, 110, 451, 349, 423, 512, 528, 237,\n",
       "       351, 497, 325, 591, 525,  55, 646, 626, 645,  31, 436, 530, 123,\n",
       "       204, 601,  47, 643, 492,  12, 222, 594, 563, 117, 447, 312, 486,\n",
       "       331, 232, 416,  84, 277, 553, 299, 683, 322, 303, 523, 385, 552,\n",
       "       181, 154, 180, 100, 372, 602, 163, 209, 448, 544, 234, 262, 383,\n",
       "       682,   4, 490, 113, 687, 221, 537, 500, 387,  11, 644, 589, 156,\n",
       "       478, 197, 239, 306, 250,  67,  95,  89, 514,  50,   9, 417, 534,\n",
       "       450, 582, 168, 384, 688, 599, 401, 406, 369, 335, 477, 195,  76,\n",
       "       443, 411, 435, 454, 386, 175,  63, 227, 418, 233, 185, 279, 669,\n",
       "       164, 317, 526, 170,  15, 121,   2, 247, 557, 588,  79, 700, 294,\n",
       "       256, 235, 176, 155, 342,  82, 632, 130, 502,   6, 114, 571, 338,\n",
       "       574,  81, 397, 225, 271, 330, 183, 415, 296, 300, 586,  22, 562,\n",
       "        90,  43,  23, 293, 126, 532, 561, 393, 520, 476, 359, 192, 321,\n",
       "       314,  71,  61, 305, 193, 609, 404,  59, 627, 308, 304,   8, 188,\n",
       "       400, 424, 320, 223, 292, 260, 498,  13,  39, 697, 252, 625, 689,\n",
       "       513, 608, 179,  18, 462,  48,  56, 105, 592, 456, 182, 580, 430,\n",
       "       703, 241, 613, 307, 200, 184, 656,  28, 346, 202, 695, 579, 311,\n",
       "       629, 333, 573, 413, 666, 301, 567, 676, 392, 457,  20, 494, 172,\n",
       "        27, 142, 543, 664, 178, 272,  70, 654, 402, 251, 677, 328, 337,\n",
       "       434, 364, 198, 313,  94, 641, 214, 605,  60,  25,  14, 426, 628,\n",
       "       259, 636,  53, 326, 468, 638, 343,   7,  77, 265, 446, 649, 673,\n",
       "       396, 472, 285, 693, 470, 319,   3, 186, 165, 631, 174, 129, 637,\n",
       "        33, 371, 480,  92, 615, 420, 583,  41, 653, 479, 288, 496, 373,\n",
       "       391, 205, 280, 290, 283, 378, 375, 102, 216,  99, 473, 489, 593,\n",
       "        45, 134, 370,  49, 236, 671, 286, 576,  86, 354, 545, 332, 348,\n",
       "        93, 361, 339, 238,  10,  58, 604, 208, 612, 244, 522, 529, 212,\n",
       "       367, 680, 681, 487,  97, 503, 196, 207, 665, 124, 572, 547, 491,\n",
       "        46, 275, 623, 362,  66, 133, 253, 297, 139, 199, 531, 374, 505,\n",
       "        91, 635, 128,  19, 630, 389, 132, 559, 670, 229, 149,  80, 521,\n",
       "        52, 140,  38, 414, 469,  26, 651, 213, 257, 228,  35, 541, 575,\n",
       "       441, 136, 336,   5, 587, 356, 269, 191,  24,  29, 694, 686,  88,\n",
       "       672, 466, 368, 298, 679, 376,  72, 475,  98, 618, 422, 169, 407,\n",
       "       341,   0, 187, 171, 210, 425,   1, 246, 439, 540, 248, 131, 558,\n",
       "        73, 444,  57,  17,  54,  44, 655, 584,  21, 245, 160,  42, 242,\n",
       "        37, 617])"
      ]
     },
     "execution_count": 73,
     "metadata": {},
     "output_type": "execute_result"
    }
   ],
   "source": [
    "#checking uniue\n",
    "df.Arrival_Time.unique()"
   ]
  },
  {
   "cell_type": "code",
   "execution_count": 74,
   "id": "459bf4df",
   "metadata": {},
   "outputs": [],
   "source": [
    "#encoding duration and total stopes \n",
    "LE=LabelEncoder()\n",
    "df['Duration']=LE.fit_transform(df['Duration'])\n",
    "df['Total_Stops']=LE.fit_transform(df['Total_Stops'])"
   ]
  },
  {
   "cell_type": "code",
   "execution_count": 75,
   "id": "574a584e",
   "metadata": {},
   "outputs": [
    {
     "data": {
      "text/plain": [
       "array([ 10, 248, 148,  36, 216,  93,  69, 261, 215, 283, 202, 311,   2,\n",
       "       254,  83,   9, 310,  26, 309,  55,  57,  18,  41,  28, 212, 168,\n",
       "       102, 284,  19, 295, 241, 110, 214,  90,   7,  29, 111, 147, 210,\n",
       "       146, 191, 199, 267, 179, 266, 209, 217, 289, 262, 172,  38, 178,\n",
       "       263, 304, 287, 122,  70, 293,  81, 269,  44,  22,  39,  92, 197,\n",
       "       259, 143, 108, 109,  40, 274,   1, 253,  12,  27,  59,  99,  43,\n",
       "       317, 213, 286, 141,   4, 270, 137, 303,  17,  65, 294,  33, 167,\n",
       "         3, 301,  32,  25, 135, 292, 129, 277, 211, 171, 230,  16,  60,\n",
       "        51, 296, 123, 183,  79, 319,  78,  14, 139,  88, 142, 166, 149,\n",
       "        50, 161,   5, 104, 275, 188, 312, 260, 291, 278, 201,  52, 106,\n",
       "       236, 255, 276, 127, 246, 257,  71, 280,  20, 272, 134, 100, 152,\n",
       "        53, 118,  72, 298, 300, 151, 103, 165, 125, 256,  94, 258,  77,\n",
       "       196, 162, 282, 299, 175, 308, 121, 144, 190, 126,  63,  47, 200,\n",
       "        54,  13, 113, 154,  24, 114, 192, 119,  23,  30, 164,   0,  98,\n",
       "        97, 307, 251,  56, 140, 316, 173, 174, 249, 314, 184,  21, 290,\n",
       "       265, 264, 233,  82,  66, 243,  74, 170,  31,  34,   6, 225, 120,\n",
       "       237, 160, 112, 157, 232, 145, 273, 313, 306, 181,  64, 268, 116,\n",
       "       150, 132, 115,  45, 244, 229, 169,  89, 153, 205, 195,  62, 242,\n",
       "        42, 305, 279, 219,  68, 130, 182, 235, 204,  46, 206,  11, 252,\n",
       "       124,  37,  86, 231, 281, 176,  76, 234, 245,  49, 133,  84, 224,\n",
       "       163, 117,  95, 177, 222, 218, 187, 159,  61, 285, 198,  48,  96,\n",
       "       193, 297, 240,  73,  35, 101, 207, 186, 223, 208, 228, 226,  58,\n",
       "        67, 136, 105, 221,  91, 203, 156, 315, 158, 128,   8,  87,  75,\n",
       "       194,  80, 302, 180, 220, 189, 185, 131, 107,  15, 247, 138, 227,\n",
       "        85, 288, 250, 155, 239, 318, 238, 271])"
      ]
     },
     "execution_count": 75,
     "metadata": {},
     "output_type": "execute_result"
    }
   ],
   "source": [
    "#checking unique\n",
    "df.Duration.unique()"
   ]
  },
  {
   "cell_type": "code",
   "execution_count": 76,
   "id": "6d0dd89b",
   "metadata": {},
   "outputs": [
    {
     "data": {
      "text/plain": [
       "array([0, 4, 1, 2, 3])"
      ]
     },
     "execution_count": 76,
     "metadata": {},
     "output_type": "execute_result"
    }
   ],
   "source": [
    "#checkiing total stop\n",
    "df.Total_Stops.unique()"
   ]
  },
  {
   "cell_type": "code",
   "execution_count": 77,
   "id": "7ce0ec74",
   "metadata": {},
   "outputs": [
    {
     "data": {
      "text/html": [
       "<div>\n",
       "<style scoped>\n",
       "    .dataframe tbody tr th:only-of-type {\n",
       "        vertical-align: middle;\n",
       "    }\n",
       "\n",
       "    .dataframe tbody tr th {\n",
       "        vertical-align: top;\n",
       "    }\n",
       "\n",
       "    .dataframe thead th {\n",
       "        text-align: right;\n",
       "    }\n",
       "</style>\n",
       "<table border=\"1\" class=\"dataframe\">\n",
       "  <thead>\n",
       "    <tr style=\"text-align: right;\">\n",
       "      <th></th>\n",
       "      <th>Airline</th>\n",
       "      <th>Date_of_Journey</th>\n",
       "      <th>Source</th>\n",
       "      <th>Destination</th>\n",
       "      <th>Route</th>\n",
       "      <th>Dep_Time</th>\n",
       "      <th>Arrival_Time</th>\n",
       "      <th>Duration</th>\n",
       "      <th>Total_Stops</th>\n",
       "      <th>Additional_Info</th>\n",
       "      <th>Dep_time</th>\n",
       "    </tr>\n",
       "  </thead>\n",
       "  <tbody>\n",
       "    <tr>\n",
       "      <th>0</th>\n",
       "      <td>4</td>\n",
       "      <td>39</td>\n",
       "      <td>2</td>\n",
       "      <td>1</td>\n",
       "      <td>76</td>\n",
       "      <td>17:30</td>\n",
       "      <td>150</td>\n",
       "      <td>10</td>\n",
       "      <td>0</td>\n",
       "      <td>5</td>\n",
       "      <td>138</td>\n",
       "    </tr>\n",
       "    <tr>\n",
       "      <th>1</th>\n",
       "      <td>3</td>\n",
       "      <td>10</td>\n",
       "      <td>3</td>\n",
       "      <td>0</td>\n",
       "      <td>65</td>\n",
       "      <td>06:20</td>\n",
       "      <td>353</td>\n",
       "      <td>248</td>\n",
       "      <td>0</td>\n",
       "      <td>5</td>\n",
       "      <td>31</td>\n",
       "    </tr>\n",
       "    <tr>\n",
       "      <th>2</th>\n",
       "      <td>4</td>\n",
       "      <td>22</td>\n",
       "      <td>2</td>\n",
       "      <td>1</td>\n",
       "      <td>76</td>\n",
       "      <td>19:15</td>\n",
       "      <td>566</td>\n",
       "      <td>148</td>\n",
       "      <td>0</td>\n",
       "      <td>3</td>\n",
       "      <td>156</td>\n",
       "    </tr>\n",
       "    <tr>\n",
       "      <th>3</th>\n",
       "      <td>6</td>\n",
       "      <td>22</td>\n",
       "      <td>2</td>\n",
       "      <td>1</td>\n",
       "      <td>76</td>\n",
       "      <td>08:00</td>\n",
       "      <td>633</td>\n",
       "      <td>36</td>\n",
       "      <td>0</td>\n",
       "      <td>5</td>\n",
       "      <td>48</td>\n",
       "    </tr>\n",
       "    <tr>\n",
       "      <th>4</th>\n",
       "      <td>0</td>\n",
       "      <td>27</td>\n",
       "      <td>0</td>\n",
       "      <td>2</td>\n",
       "      <td>16</td>\n",
       "      <td>23:55</td>\n",
       "      <td>135</td>\n",
       "      <td>216</td>\n",
       "      <td>4</td>\n",
       "      <td>5</td>\n",
       "      <td>198</td>\n",
       "    </tr>\n",
       "  </tbody>\n",
       "</table>\n",
       "</div>"
      ],
      "text/plain": [
       "   Airline  Date_of_Journey  Source  Destination  Route Dep_Time  \\\n",
       "0        4               39       2            1     76    17:30   \n",
       "1        3               10       3            0     65    06:20   \n",
       "2        4               22       2            1     76    19:15   \n",
       "3        6               22       2            1     76    08:00   \n",
       "4        0               27       0            2     16    23:55   \n",
       "\n",
       "   Arrival_Time  Duration  Total_Stops  Additional_Info  Dep_time  \n",
       "0           150        10            0                5       138  \n",
       "1           353       248            0                5        31  \n",
       "2           566       148            0                3       156  \n",
       "3           633        36            0                5        48  \n",
       "4           135       216            4                5       198  "
      ]
     },
     "execution_count": 77,
     "metadata": {},
     "output_type": "execute_result"
    }
   ],
   "source": [
    "#checking head of dataset\n",
    "df.head()"
   ]
  },
  {
   "cell_type": "markdown",
   "id": "46560683",
   "metadata": {},
   "source": [
    "* Now all the columns look good"
   ]
  },
  {
   "cell_type": "markdown",
   "id": "bbc1c44a",
   "metadata": {},
   "source": [
    "### Importing Train Dataset"
   ]
  },
  {
   "cell_type": "code",
   "execution_count": 78,
   "id": "b10c94ac",
   "metadata": {},
   "outputs": [
    {
     "data": {
      "text/html": [
       "<div>\n",
       "<style scoped>\n",
       "    .dataframe tbody tr th:only-of-type {\n",
       "        vertical-align: middle;\n",
       "    }\n",
       "\n",
       "    .dataframe tbody tr th {\n",
       "        vertical-align: top;\n",
       "    }\n",
       "\n",
       "    .dataframe thead th {\n",
       "        text-align: right;\n",
       "    }\n",
       "</style>\n",
       "<table border=\"1\" class=\"dataframe\">\n",
       "  <thead>\n",
       "    <tr style=\"text-align: right;\">\n",
       "      <th></th>\n",
       "      <th>Airline</th>\n",
       "      <th>Date_of_Journey</th>\n",
       "      <th>Source</th>\n",
       "      <th>Destination</th>\n",
       "      <th>Route</th>\n",
       "      <th>Dep_Time</th>\n",
       "      <th>Arrival_Time</th>\n",
       "      <th>Duration</th>\n",
       "      <th>Total_Stops</th>\n",
       "      <th>Additional_Info</th>\n",
       "      <th>Price</th>\n",
       "    </tr>\n",
       "  </thead>\n",
       "  <tbody>\n",
       "    <tr>\n",
       "      <th>0</th>\n",
       "      <td>IndiGo</td>\n",
       "      <td>24/03/2019</td>\n",
       "      <td>Banglore</td>\n",
       "      <td>New Delhi</td>\n",
       "      <td>BLR → DEL</td>\n",
       "      <td>22:20</td>\n",
       "      <td>01:10 22 Mar</td>\n",
       "      <td>2h 50m</td>\n",
       "      <td>non-stop</td>\n",
       "      <td>No info</td>\n",
       "      <td>3897</td>\n",
       "    </tr>\n",
       "    <tr>\n",
       "      <th>1</th>\n",
       "      <td>Air India</td>\n",
       "      <td>1/05/2019</td>\n",
       "      <td>Kolkata</td>\n",
       "      <td>Banglore</td>\n",
       "      <td>CCU → IXR → BBI → BLR</td>\n",
       "      <td>05:50</td>\n",
       "      <td>13:15</td>\n",
       "      <td>7h 25m</td>\n",
       "      <td>2 stops</td>\n",
       "      <td>No info</td>\n",
       "      <td>7662</td>\n",
       "    </tr>\n",
       "    <tr>\n",
       "      <th>2</th>\n",
       "      <td>Jet Airways</td>\n",
       "      <td>9/06/2019</td>\n",
       "      <td>Delhi</td>\n",
       "      <td>Cochin</td>\n",
       "      <td>DEL → LKO → BOM → COK</td>\n",
       "      <td>09:25</td>\n",
       "      <td>04:25 10 Jun</td>\n",
       "      <td>19h</td>\n",
       "      <td>2 stops</td>\n",
       "      <td>No info</td>\n",
       "      <td>13882</td>\n",
       "    </tr>\n",
       "    <tr>\n",
       "      <th>3</th>\n",
       "      <td>IndiGo</td>\n",
       "      <td>12/05/2019</td>\n",
       "      <td>Kolkata</td>\n",
       "      <td>Banglore</td>\n",
       "      <td>CCU → NAG → BLR</td>\n",
       "      <td>18:05</td>\n",
       "      <td>23:30</td>\n",
       "      <td>5h 25m</td>\n",
       "      <td>1 stop</td>\n",
       "      <td>No info</td>\n",
       "      <td>6218</td>\n",
       "    </tr>\n",
       "    <tr>\n",
       "      <th>4</th>\n",
       "      <td>IndiGo</td>\n",
       "      <td>01/03/2019</td>\n",
       "      <td>Banglore</td>\n",
       "      <td>New Delhi</td>\n",
       "      <td>BLR → NAG → DEL</td>\n",
       "      <td>16:50</td>\n",
       "      <td>21:35</td>\n",
       "      <td>4h 45m</td>\n",
       "      <td>1 stop</td>\n",
       "      <td>No info</td>\n",
       "      <td>13302</td>\n",
       "    </tr>\n",
       "  </tbody>\n",
       "</table>\n",
       "</div>"
      ],
      "text/plain": [
       "       Airline Date_of_Journey    Source Destination                  Route  \\\n",
       "0       IndiGo      24/03/2019  Banglore   New Delhi              BLR → DEL   \n",
       "1    Air India       1/05/2019   Kolkata    Banglore  CCU → IXR → BBI → BLR   \n",
       "2  Jet Airways       9/06/2019     Delhi      Cochin  DEL → LKO → BOM → COK   \n",
       "3       IndiGo      12/05/2019   Kolkata    Banglore        CCU → NAG → BLR   \n",
       "4       IndiGo      01/03/2019  Banglore   New Delhi        BLR → NAG → DEL   \n",
       "\n",
       "  Dep_Time  Arrival_Time Duration Total_Stops Additional_Info  Price  \n",
       "0    22:20  01:10 22 Mar   2h 50m    non-stop         No info   3897  \n",
       "1    05:50         13:15   7h 25m     2 stops         No info   7662  \n",
       "2    09:25  04:25 10 Jun      19h     2 stops         No info  13882  \n",
       "3    18:05         23:30   5h 25m      1 stop         No info   6218  \n",
       "4    16:50         21:35   4h 45m      1 stop         No info  13302  "
      ]
     },
     "execution_count": 78,
     "metadata": {},
     "output_type": "execute_result"
    }
   ],
   "source": [
    "#reading data train dataset\n",
    "df=pd.read_excel('Data_Train.xlsx')\n",
    "df.head()"
   ]
  },
  {
   "cell_type": "code",
   "execution_count": 79,
   "id": "a4a8e848",
   "metadata": {},
   "outputs": [
    {
     "data": {
      "text/plain": [
       "Airline            0\n",
       "Date_of_Journey    0\n",
       "Source             0\n",
       "Destination        0\n",
       "Route              1\n",
       "Dep_Time           0\n",
       "Arrival_Time       0\n",
       "Duration           0\n",
       "Total_Stops        1\n",
       "Additional_Info    0\n",
       "Price              0\n",
       "dtype: int64"
      ]
     },
     "execution_count": 79,
     "metadata": {},
     "output_type": "execute_result"
    }
   ],
   "source": [
    "#checking null values \n",
    "df.isnull().sum()"
   ]
  },
  {
   "cell_type": "markdown",
   "id": "9cdbe521",
   "metadata": {},
   "source": [
    "* Here Route and Total Stops have some value rest all of the columns is zero"
   ]
  },
  {
   "cell_type": "code",
   "execution_count": 80,
   "id": "27e51d72",
   "metadata": {},
   "outputs": [
    {
     "data": {
      "text/html": [
       "<div>\n",
       "<style scoped>\n",
       "    .dataframe tbody tr th:only-of-type {\n",
       "        vertical-align: middle;\n",
       "    }\n",
       "\n",
       "    .dataframe tbody tr th {\n",
       "        vertical-align: top;\n",
       "    }\n",
       "\n",
       "    .dataframe thead th {\n",
       "        text-align: right;\n",
       "    }\n",
       "</style>\n",
       "<table border=\"1\" class=\"dataframe\">\n",
       "  <thead>\n",
       "    <tr style=\"text-align: right;\">\n",
       "      <th></th>\n",
       "      <th>Price</th>\n",
       "    </tr>\n",
       "  </thead>\n",
       "  <tbody>\n",
       "    <tr>\n",
       "      <th>count</th>\n",
       "      <td>10683.000000</td>\n",
       "    </tr>\n",
       "    <tr>\n",
       "      <th>mean</th>\n",
       "      <td>9087.064121</td>\n",
       "    </tr>\n",
       "    <tr>\n",
       "      <th>std</th>\n",
       "      <td>4611.359167</td>\n",
       "    </tr>\n",
       "    <tr>\n",
       "      <th>min</th>\n",
       "      <td>1759.000000</td>\n",
       "    </tr>\n",
       "    <tr>\n",
       "      <th>25%</th>\n",
       "      <td>5277.000000</td>\n",
       "    </tr>\n",
       "    <tr>\n",
       "      <th>50%</th>\n",
       "      <td>8372.000000</td>\n",
       "    </tr>\n",
       "    <tr>\n",
       "      <th>75%</th>\n",
       "      <td>12373.000000</td>\n",
       "    </tr>\n",
       "    <tr>\n",
       "      <th>max</th>\n",
       "      <td>79512.000000</td>\n",
       "    </tr>\n",
       "  </tbody>\n",
       "</table>\n",
       "</div>"
      ],
      "text/plain": [
       "              Price\n",
       "count  10683.000000\n",
       "mean    9087.064121\n",
       "std     4611.359167\n",
       "min     1759.000000\n",
       "25%     5277.000000\n",
       "50%     8372.000000\n",
       "75%    12373.000000\n",
       "max    79512.000000"
      ]
     },
     "execution_count": 80,
     "metadata": {},
     "output_type": "execute_result"
    }
   ],
   "source": [
    "#describeing dataset\n",
    "df.describe()"
   ]
  },
  {
   "cell_type": "code",
   "execution_count": 82,
   "id": "eb404277",
   "metadata": {},
   "outputs": [],
   "source": [
    "#importing visualisation librerys\n",
    "import matplotlib.pyplot as plt\n"
   ]
  },
  {
   "cell_type": "code",
   "execution_count": 83,
   "id": "c446104f",
   "metadata": {},
   "outputs": [
    {
     "data": {
      "text/plain": [
       "<AxesSubplot:>"
      ]
     },
     "execution_count": 83,
     "metadata": {},
     "output_type": "execute_result"
    },
    {
     "data": {
      "image/png": "[encoded data removed]",
      "text/plain": [
       "<Figure size 1584x504 with 2 Axes>"
      ]
     },
     "metadata": {
      "needs_background": "light"
     },
     "output_type": "display_data"
    }
   ],
   "source": [
    "#ploting heatmap\n",
    "plt.figure(figsize=(22,7))\n",
    "sns.heatmap(df.describe(),annot=True,linewidths=0.1,linecolor='black',fmt='0.2f')"
   ]
  },
  {
   "cell_type": "markdown",
   "id": "4de79f5d",
   "metadata": {},
   "source": [
    "* light shades are highly descibe"
   ]
  },
  {
   "cell_type": "markdown",
   "id": "666806f7",
   "metadata": {},
   "source": [
    "### Correlation "
   ]
  },
  {
   "cell_type": "code",
   "execution_count": 84,
   "id": "db782cf1",
   "metadata": {},
   "outputs": [
    {
     "data": {
      "text/html": [
       "<div>\n",
       "<style scoped>\n",
       "    .dataframe tbody tr th:only-of-type {\n",
       "        vertical-align: middle;\n",
       "    }\n",
       "\n",
       "    .dataframe tbody tr th {\n",
       "        vertical-align: top;\n",
       "    }\n",
       "\n",
       "    .dataframe thead th {\n",
       "        text-align: right;\n",
       "    }\n",
       "</style>\n",
       "<table border=\"1\" class=\"dataframe\">\n",
       "  <thead>\n",
       "    <tr style=\"text-align: right;\">\n",
       "      <th></th>\n",
       "      <th>Price</th>\n",
       "    </tr>\n",
       "  </thead>\n",
       "  <tbody>\n",
       "    <tr>\n",
       "      <th>Price</th>\n",
       "      <td>1.0</td>\n",
       "    </tr>\n",
       "  </tbody>\n",
       "</table>\n",
       "</div>"
      ],
      "text/plain": [
       "       Price\n",
       "Price    1.0"
      ]
     },
     "execution_count": 84,
     "metadata": {},
     "output_type": "execute_result"
    }
   ],
   "source": [
    "#checking correlation\n",
    "df.corr()"
   ]
  },
  {
   "cell_type": "code",
   "execution_count": 85,
   "id": "46a893dd",
   "metadata": {},
   "outputs": [
    {
     "data": {
      "text/plain": [
       "<AxesSubplot:>"
      ]
     },
     "execution_count": 85,
     "metadata": {},
     "output_type": "execute_result"
    },
    {
     "data": {
      "image/png": "[encoded data removed]",
      "text/plain": [
       "<Figure size 1584x504 with 2 Axes>"
      ]
     },
     "metadata": {
      "needs_background": "light"
     },
     "output_type": "display_data"
    }
   ],
   "source": [
    "#ploting heatmap\n",
    "plt.figure(figsize=(22,7))\n",
    "sns.heatmap(df.corr(),annot=True,linewidths=0.1,linecolor='black',fmt='0.2f')"
   ]
  },
  {
   "cell_type": "markdown",
   "id": "32e9ba2a",
   "metadata": {},
   "source": [
    "* Dataset contains one corresponding value.\n",
    "* Light shades are hihgly correlated"
   ]
  },
  {
   "cell_type": "code",
   "execution_count": 86,
   "id": "f764f7b1",
   "metadata": {},
   "outputs": [
    {
     "data": {
      "text/plain": [
       "Price    1.812552\n",
       "dtype: float64"
      ]
     },
     "execution_count": 86,
     "metadata": {},
     "output_type": "execute_result"
    }
   ],
   "source": [
    "#checking skewness\n",
    "df.skew()"
   ]
  },
  {
   "cell_type": "markdown",
   "id": "aa9a92f2",
   "metadata": {},
   "source": [
    "* price has skewness value"
   ]
  },
  {
   "cell_type": "code",
   "execution_count": 87,
   "id": "19ab54fa",
   "metadata": {},
   "outputs": [
    {
     "data": {
      "text/plain": [
       "Airline            object\n",
       "Date_of_Journey    object\n",
       "Source             object\n",
       "Destination        object\n",
       "Route              object\n",
       "Dep_Time           object\n",
       "Arrival_Time       object\n",
       "Duration           object\n",
       "Total_Stops        object\n",
       "Additional_Info    object\n",
       "Price               int64\n",
       "dtype: object"
      ]
     },
     "execution_count": 87,
     "metadata": {},
     "output_type": "execute_result"
    }
   ],
   "source": [
    "#checking outlier\n",
    "df.dtypes"
   ]
  },
  {
   "cell_type": "markdown",
   "id": "82a4ca0d",
   "metadata": {},
   "source": [
    "* Except price all are object type"
   ]
  },
  {
   "cell_type": "code",
   "execution_count": 89,
   "id": "f9108257",
   "metadata": {},
   "outputs": [
    {
     "data": {
      "text/plain": [
       "<AxesSubplot:>"
      ]
     },
     "execution_count": 89,
     "metadata": {},
     "output_type": "execute_result"
    },
    {
     "data": {
      "image/png": "[encoded data removed]",
      "text/plain": [
       "<Figure size 432x288 with 1 Axes>"
      ]
     },
     "metadata": {
      "needs_background": "light"
     },
     "output_type": "display_data"
    }
   ],
   "source": [
    "#checking ouliers\n",
    "df['Price'].plot.box()"
   ]
  },
  {
   "cell_type": "markdown",
   "id": "06baf904",
   "metadata": {},
   "source": [
    "* There is a outliers in this beacouse of viscous problem"
   ]
  },
  {
   "cell_type": "code",
   "execution_count": 90,
   "id": "5e71343b",
   "metadata": {},
   "outputs": [
    {
     "data": {
      "text/plain": [
       "(10683, 11)"
      ]
     },
     "execution_count": 90,
     "metadata": {},
     "output_type": "execute_result"
    }
   ],
   "source": [
    "#checking shape\n",
    "df.shape"
   ]
  },
  {
   "cell_type": "markdown",
   "id": "01c13f4a",
   "metadata": {},
   "source": [
    "* dataset contains 10683 rows and 11 columns "
   ]
  },
  {
   "cell_type": "code",
   "execution_count": 91,
   "id": "17cf7e5f",
   "metadata": {},
   "outputs": [
    {
     "data": {
      "text/plain": [
       "<seaborn.axisgrid.PairGrid at 0x7ff205397d60>"
      ]
     },
     "execution_count": 91,
     "metadata": {},
     "output_type": "execute_result"
    },
    {
     "data": {
      "image/png": "[encoded data removed]",
      "text/plain": [
       "<Figure size 180x180 with 2 Axes>"
      ]
     },
     "metadata": {
      "needs_background": "light"
     },
     "output_type": "display_data"
    }
   ],
   "source": [
    "#ploting pairplot\n",
    "sns.pairplot(df)"
   ]
  },
  {
   "cell_type": "markdown",
   "id": "20215a07",
   "metadata": {},
   "source": [
    "* There are some missing values \n",
    "* Have to drop nagative correlated columns\n",
    "* Have to remove the outliers."
   ]
  },
  {
   "cell_type": "code",
   "execution_count": 92,
   "id": "6a077fa5",
   "metadata": {},
   "outputs": [
    {
     "data": {
      "text/html": [
       "<div>\n",
       "<style scoped>\n",
       "    .dataframe tbody tr th:only-of-type {\n",
       "        vertical-align: middle;\n",
       "    }\n",
       "\n",
       "    .dataframe tbody tr th {\n",
       "        vertical-align: top;\n",
       "    }\n",
       "\n",
       "    .dataframe thead th {\n",
       "        text-align: right;\n",
       "    }\n",
       "</style>\n",
       "<table border=\"1\" class=\"dataframe\">\n",
       "  <thead>\n",
       "    <tr style=\"text-align: right;\">\n",
       "      <th></th>\n",
       "      <th>Airline</th>\n",
       "      <th>Source</th>\n",
       "      <th>Destination</th>\n",
       "      <th>Route</th>\n",
       "      <th>Dep_Time</th>\n",
       "      <th>Arrival_Time</th>\n",
       "      <th>Duration</th>\n",
       "      <th>Total_Stops</th>\n",
       "      <th>Additional_Info</th>\n",
       "      <th>Price</th>\n",
       "    </tr>\n",
       "  </thead>\n",
       "  <tbody>\n",
       "    <tr>\n",
       "      <th>0</th>\n",
       "      <td>IndiGo</td>\n",
       "      <td>Banglore</td>\n",
       "      <td>New Delhi</td>\n",
       "      <td>BLR → DEL</td>\n",
       "      <td>22:20</td>\n",
       "      <td>01:10 22 Mar</td>\n",
       "      <td>2h 50m</td>\n",
       "      <td>non-stop</td>\n",
       "      <td>No info</td>\n",
       "      <td>3897</td>\n",
       "    </tr>\n",
       "    <tr>\n",
       "      <th>1</th>\n",
       "      <td>Air India</td>\n",
       "      <td>Kolkata</td>\n",
       "      <td>Banglore</td>\n",
       "      <td>CCU → IXR → BBI → BLR</td>\n",
       "      <td>05:50</td>\n",
       "      <td>13:15</td>\n",
       "      <td>7h 25m</td>\n",
       "      <td>2 stops</td>\n",
       "      <td>No info</td>\n",
       "      <td>7662</td>\n",
       "    </tr>\n",
       "    <tr>\n",
       "      <th>2</th>\n",
       "      <td>Jet Airways</td>\n",
       "      <td>Delhi</td>\n",
       "      <td>Cochin</td>\n",
       "      <td>DEL → LKO → BOM → COK</td>\n",
       "      <td>09:25</td>\n",
       "      <td>04:25 10 Jun</td>\n",
       "      <td>19h</td>\n",
       "      <td>2 stops</td>\n",
       "      <td>No info</td>\n",
       "      <td>13882</td>\n",
       "    </tr>\n",
       "    <tr>\n",
       "      <th>3</th>\n",
       "      <td>IndiGo</td>\n",
       "      <td>Kolkata</td>\n",
       "      <td>Banglore</td>\n",
       "      <td>CCU → NAG → BLR</td>\n",
       "      <td>18:05</td>\n",
       "      <td>23:30</td>\n",
       "      <td>5h 25m</td>\n",
       "      <td>1 stop</td>\n",
       "      <td>No info</td>\n",
       "      <td>6218</td>\n",
       "    </tr>\n",
       "    <tr>\n",
       "      <th>4</th>\n",
       "      <td>IndiGo</td>\n",
       "      <td>Banglore</td>\n",
       "      <td>New Delhi</td>\n",
       "      <td>BLR → NAG → DEL</td>\n",
       "      <td>16:50</td>\n",
       "      <td>21:35</td>\n",
       "      <td>4h 45m</td>\n",
       "      <td>1 stop</td>\n",
       "      <td>No info</td>\n",
       "      <td>13302</td>\n",
       "    </tr>\n",
       "  </tbody>\n",
       "</table>\n",
       "</div>"
      ],
      "text/plain": [
       "       Airline    Source Destination                  Route Dep_Time  \\\n",
       "0       IndiGo  Banglore   New Delhi              BLR → DEL    22:20   \n",
       "1    Air India   Kolkata    Banglore  CCU → IXR → BBI → BLR    05:50   \n",
       "2  Jet Airways     Delhi      Cochin  DEL → LKO → BOM → COK    09:25   \n",
       "3       IndiGo   Kolkata    Banglore        CCU → NAG → BLR    18:05   \n",
       "4       IndiGo  Banglore   New Delhi        BLR → NAG → DEL    16:50   \n",
       "\n",
       "   Arrival_Time Duration Total_Stops Additional_Info  Price  \n",
       "0  01:10 22 Mar   2h 50m    non-stop         No info   3897  \n",
       "1         13:15   7h 25m     2 stops         No info   7662  \n",
       "2  04:25 10 Jun      19h     2 stops         No info  13882  \n",
       "3         23:30   5h 25m      1 stop         No info   6218  \n",
       "4         21:35   4h 45m      1 stop         No info  13302  "
      ]
     },
     "execution_count": 92,
     "metadata": {},
     "output_type": "execute_result"
    }
   ],
   "source": [
    "#droping Date of journey \n",
    "df.drop('Date_of_Journey',axis=1,inplace=True)\n",
    "df.head()"
   ]
  },
  {
   "cell_type": "code",
   "execution_count": 93,
   "id": "d768dd1f",
   "metadata": {},
   "outputs": [
    {
     "data": {
      "text/plain": [
       "(10683, 10)"
      ]
     },
     "execution_count": 93,
     "metadata": {},
     "output_type": "execute_result"
    }
   ],
   "source": [
    "#checking data shape\n",
    "df.shape"
   ]
  },
  {
   "cell_type": "markdown",
   "id": "8fbdd687",
   "metadata": {},
   "source": [
    "* Now dataset conteains 10683 rows and 10 columns"
   ]
  },
  {
   "cell_type": "markdown",
   "id": "bd203854",
   "metadata": {},
   "source": [
    "### Encoding Method"
   ]
  },
  {
   "cell_type": "code",
   "execution_count": 94,
   "id": "16dd55c5",
   "metadata": {},
   "outputs": [],
   "source": [
    "#encoding \n",
    "LE=LabelEncoder()\n",
    "df['Airline']=LE.fit_transform(df['Airline'])"
   ]
  },
  {
   "cell_type": "code",
   "execution_count": 95,
   "id": "97ac5152",
   "metadata": {},
   "outputs": [
    {
     "data": {
      "text/plain": [
       "array([ 3,  1,  4,  8,  6,  2, 10,  0, 11,  5,  7,  9])"
      ]
     },
     "execution_count": 95,
     "metadata": {},
     "output_type": "execute_result"
    }
   ],
   "source": [
    "#checking unique\n",
    "df.Airline.unique()"
   ]
  },
  {
   "cell_type": "code",
   "execution_count": 96,
   "id": "6cb2b081",
   "metadata": {},
   "outputs": [
    {
     "data": {
      "text/html": [
       "<div>\n",
       "<style scoped>\n",
       "    .dataframe tbody tr th:only-of-type {\n",
       "        vertical-align: middle;\n",
       "    }\n",
       "\n",
       "    .dataframe tbody tr th {\n",
       "        vertical-align: top;\n",
       "    }\n",
       "\n",
       "    .dataframe thead th {\n",
       "        text-align: right;\n",
       "    }\n",
       "</style>\n",
       "<table border=\"1\" class=\"dataframe\">\n",
       "  <thead>\n",
       "    <tr style=\"text-align: right;\">\n",
       "      <th></th>\n",
       "      <th>Airline</th>\n",
       "      <th>Source</th>\n",
       "      <th>Destination</th>\n",
       "      <th>Route</th>\n",
       "      <th>Dep_Time</th>\n",
       "      <th>Arrival_Time</th>\n",
       "      <th>Duration</th>\n",
       "      <th>Total_Stops</th>\n",
       "      <th>Additional_Info</th>\n",
       "      <th>Price</th>\n",
       "    </tr>\n",
       "  </thead>\n",
       "  <tbody>\n",
       "    <tr>\n",
       "      <th>0</th>\n",
       "      <td>3</td>\n",
       "      <td>Banglore</td>\n",
       "      <td>New Delhi</td>\n",
       "      <td>BLR → DEL</td>\n",
       "      <td>22:20</td>\n",
       "      <td>01:10 22 Mar</td>\n",
       "      <td>2h 50m</td>\n",
       "      <td>non-stop</td>\n",
       "      <td>No info</td>\n",
       "      <td>3897</td>\n",
       "    </tr>\n",
       "    <tr>\n",
       "      <th>1</th>\n",
       "      <td>1</td>\n",
       "      <td>Kolkata</td>\n",
       "      <td>Banglore</td>\n",
       "      <td>CCU → IXR → BBI → BLR</td>\n",
       "      <td>05:50</td>\n",
       "      <td>13:15</td>\n",
       "      <td>7h 25m</td>\n",
       "      <td>2 stops</td>\n",
       "      <td>No info</td>\n",
       "      <td>7662</td>\n",
       "    </tr>\n",
       "    <tr>\n",
       "      <th>2</th>\n",
       "      <td>4</td>\n",
       "      <td>Delhi</td>\n",
       "      <td>Cochin</td>\n",
       "      <td>DEL → LKO → BOM → COK</td>\n",
       "      <td>09:25</td>\n",
       "      <td>04:25 10 Jun</td>\n",
       "      <td>19h</td>\n",
       "      <td>2 stops</td>\n",
       "      <td>No info</td>\n",
       "      <td>13882</td>\n",
       "    </tr>\n",
       "    <tr>\n",
       "      <th>3</th>\n",
       "      <td>3</td>\n",
       "      <td>Kolkata</td>\n",
       "      <td>Banglore</td>\n",
       "      <td>CCU → NAG → BLR</td>\n",
       "      <td>18:05</td>\n",
       "      <td>23:30</td>\n",
       "      <td>5h 25m</td>\n",
       "      <td>1 stop</td>\n",
       "      <td>No info</td>\n",
       "      <td>6218</td>\n",
       "    </tr>\n",
       "    <tr>\n",
       "      <th>4</th>\n",
       "      <td>3</td>\n",
       "      <td>Banglore</td>\n",
       "      <td>New Delhi</td>\n",
       "      <td>BLR → NAG → DEL</td>\n",
       "      <td>16:50</td>\n",
       "      <td>21:35</td>\n",
       "      <td>4h 45m</td>\n",
       "      <td>1 stop</td>\n",
       "      <td>No info</td>\n",
       "      <td>13302</td>\n",
       "    </tr>\n",
       "  </tbody>\n",
       "</table>\n",
       "</div>"
      ],
      "text/plain": [
       "   Airline    Source Destination                  Route Dep_Time  \\\n",
       "0        3  Banglore   New Delhi              BLR → DEL    22:20   \n",
       "1        1   Kolkata    Banglore  CCU → IXR → BBI → BLR    05:50   \n",
       "2        4     Delhi      Cochin  DEL → LKO → BOM → COK    09:25   \n",
       "3        3   Kolkata    Banglore        CCU → NAG → BLR    18:05   \n",
       "4        3  Banglore   New Delhi        BLR → NAG → DEL    16:50   \n",
       "\n",
       "   Arrival_Time Duration Total_Stops Additional_Info  Price  \n",
       "0  01:10 22 Mar   2h 50m    non-stop         No info   3897  \n",
       "1         13:15   7h 25m     2 stops         No info   7662  \n",
       "2  04:25 10 Jun      19h     2 stops         No info  13882  \n",
       "3         23:30   5h 25m      1 stop         No info   6218  \n",
       "4         21:35   4h 45m      1 stop         No info  13302  "
      ]
     },
     "execution_count": 96,
     "metadata": {},
     "output_type": "execute_result"
    }
   ],
   "source": [
    "#checking head\n",
    "df.head()"
   ]
  },
  {
   "cell_type": "code",
   "execution_count": 99,
   "id": "2059bef6",
   "metadata": {},
   "outputs": [],
   "source": [
    "#encoding \n",
    "LE=LabelEncoder()\n",
    "df['Source']=LE.fit_transform(df['Source'])"
   ]
  },
  {
   "cell_type": "code",
   "execution_count": 100,
   "id": "068161e5",
   "metadata": {},
   "outputs": [
    {
     "data": {
      "text/plain": [
       "array([0, 3, 2, 1, 4])"
      ]
     },
     "execution_count": 100,
     "metadata": {},
     "output_type": "execute_result"
    }
   ],
   "source": [
    "#checking unique\n",
    "df.Source.unique()"
   ]
  },
  {
   "cell_type": "code",
   "execution_count": 101,
   "id": "585e3271",
   "metadata": {},
   "outputs": [],
   "source": [
    "#encoding \n",
    "LE=LabelEncoder()\n",
    "df['Destination']=LE.fit_transform(df['Destination'])"
   ]
  },
  {
   "cell_type": "code",
   "execution_count": 102,
   "id": "183b18c2",
   "metadata": {},
   "outputs": [
    {
     "data": {
      "text/plain": [
       "array([5, 0, 1, 4, 2, 3])"
      ]
     },
     "execution_count": 102,
     "metadata": {},
     "output_type": "execute_result"
    }
   ],
   "source": [
    "#checking unique\n",
    "df.Destination.unique()"
   ]
  },
  {
   "cell_type": "code",
   "execution_count": 103,
   "id": "bb11ff81",
   "metadata": {},
   "outputs": [],
   "source": [
    "#encoding \n",
    "LE=LabelEncoder()\n",
    "df['Arrival_Time']=LE.fit_transform(df['Arrival_Time'])"
   ]
  },
  {
   "cell_type": "code",
   "execution_count": 105,
   "id": "9582c656",
   "metadata": {},
   "outputs": [
    {
     "data": {
      "text/plain": [
       "array([ 233,  906,  413, ...,  495,   25, 1235])"
      ]
     },
     "execution_count": 105,
     "metadata": {},
     "output_type": "execute_result"
    }
   ],
   "source": [
    "#checking unique\n",
    "df.Arrival_Time.unique()"
   ]
  },
  {
   "cell_type": "code",
   "execution_count": 106,
   "id": "76ca7525",
   "metadata": {},
   "outputs": [],
   "source": [
    "#encoding \n",
    "LE=LabelEncoder()\n",
    "df['Additional_Info']=LE.fit_transform(df['Additional_Info'])"
   ]
  },
  {
   "cell_type": "code",
   "execution_count": 107,
   "id": "afa0a7f1",
   "metadata": {},
   "outputs": [
    {
     "data": {
      "text/plain": [
       "array([8, 5, 7, 1, 6, 0, 4, 3, 9, 2])"
      ]
     },
     "execution_count": 107,
     "metadata": {},
     "output_type": "execute_result"
    }
   ],
   "source": [
    "#checking unique\n",
    "df.Additional_Info.unique()"
   ]
  },
  {
   "cell_type": "code",
   "execution_count": 108,
   "id": "5f414999",
   "metadata": {},
   "outputs": [],
   "source": [
    "#encoding \n",
    "LE=LabelEncoder()\n",
    "df['Duration']=LE.fit_transform(df['Duration'])"
   ]
  },
  {
   "cell_type": "code",
   "execution_count": 109,
   "id": "42281902",
   "metadata": {},
   "outputs": [
    {
     "data": {
      "text/plain": [
       "array([240, 336, 106, 311, 303, 235,  65, 145, 185, 341,  38, 237, 233,\n",
       "        25, 198, 300, 151, 156, 128, 308,  63, 241,  39,  61, 315, 317,\n",
       "        40, 146, 312,   4, 309, 236, 322,  22,  23, 349, 155, 239,  24,\n",
       "        83, 116, 282, 183, 280,  74,  71, 325, 191,  28, 206,   2,   5,\n",
       "       121, 120, 197, 335,  41, 307, 117,  57, 238, 147, 362,   0, 137,\n",
       "       103,  27,  95, 358,  88,  78,  26, 337, 168, 354, 333,  53, 245,\n",
       "        60,  32,   1,  64,  59, 125, 157,  96,  72, 234, 344,  82, 281,\n",
       "        48, 165, 141, 136,   9, 346, 350,  21, 209, 348, 132, 304, 345,\n",
       "       172, 162, 188, 193, 222, 182, 359, 357, 288,  17, 361,  89, 318,\n",
       "       189, 123,  36,  99, 169, 305, 186, 323, 102, 110, 226, 367,   8,\n",
       "        19, 154, 274, 187,  46, 351, 161,  30, 170, 119,  12,  14,  54,\n",
       "        34, 356, 339,  20, 178,  94, 231, 148,  55, 334, 124, 130, 204,\n",
       "       173, 127, 313,  56, 314, 306,  70, 340, 218, 298, 285, 353, 164,\n",
       "       176, 140, 355, 324,  69, 196, 177, 192, 167, 342, 195, 158, 310,\n",
       "       295, 364, 347,  87, 343, 265, 331, 316, 332, 299,  44, 108, 150,\n",
       "        76,  45, 214, 216, 302,  67, 301, 100, 276, 326,  29,  15, 338,\n",
       "       228, 202, 163,  33, 365, 144,  10, 135, 129, 242,  37, 352, 321,\n",
       "        91, 142, 287,  86, 247, 138,  31, 174, 107, 152,  58, 134, 328,\n",
       "       221, 363,  79,  75,  80, 118, 330,  16,  51,  35, 179, 217,  92,\n",
       "       126, 224,   3,  50, 266, 268, 199, 215,  52,  47, 273, 270, 190,\n",
       "       269, 114, 213, 293,   6, 122,  73, 277, 320,  81,  49, 159,  90,\n",
       "        18,  98, 327, 250, 175, 230, 219,  85, 153, 184, 143, 259, 244,\n",
       "       284, 210, 246, 104, 211,  62,   7, 194, 271, 201,  68, 113, 149,\n",
       "       112, 180, 200, 275, 297, 181,  97, 329, 166,  93, 160,  84, 171,\n",
       "       220, 205, 109,  66, 360, 139, 263, 101, 229, 203, 232, 207,  77,\n",
       "        13, 223, 225, 262, 248, 249, 257,  11, 267, 258, 252, 115, 261,\n",
       "       243,  43, 111, 251, 264, 212, 278, 292, 296, 279, 286, 319, 256,\n",
       "       254, 260, 208, 105, 366, 290, 133, 253, 291, 283, 272, 227, 255,\n",
       "       131, 289,  42, 294])"
      ]
     },
     "execution_count": 109,
     "metadata": {},
     "output_type": "execute_result"
    }
   ],
   "source": [
    "#checking unique\n",
    "df.Duration.unique()"
   ]
  },
  {
   "cell_type": "code",
   "execution_count": 110,
   "id": "37f82c5a",
   "metadata": {},
   "outputs": [],
   "source": [
    "#encoding \n",
    "LE=LabelEncoder()\n",
    "df['Dep_Time']=LE.fit_transform(df['Dep_Time'])"
   ]
  },
  {
   "cell_type": "code",
   "execution_count": 111,
   "id": "aa0d80be",
   "metadata": {},
   "outputs": [
    {
     "data": {
      "text/plain": [
       "array([211,  31,  70, 164, 149,  66, 172,  55,  65,  91,  74, 188,  94,\n",
       "       198, 154, 147,  63, 118, 187, 141, 120, 207,  16, 201, 205,  45,\n",
       "        46,  75, 125,  83, 130, 121,  42, 195,  88,  30, 173, 218,  86,\n",
       "        72, 199, 221, 181,  64, 137,  34, 129, 117,  32, 111,  23,  38,\n",
       "       157,  58, 183,  39, 119,   7,  73,  59, 189, 110,   9, 150, 193,\n",
       "        25, 182, 184,  35, 178,  19, 106, 165, 155, 134, 217,  98, 127,\n",
       "        96,  92, 126, 175,  33, 220,  52, 108, 103, 131, 105, 167, 145,\n",
       "         3,  43, 107, 176,   4, 151,  77, 179, 135, 100, 142, 191, 212,\n",
       "       197,  28,  24,  41, 132,   2,  60,  47,  27, 123,  26,  80, 160,\n",
       "       109, 209,  21, 161, 200,  37, 140, 190, 156,  71,  51,  11,  85,\n",
       "       153,  67, 171, 133, 215, 128, 122, 112, 210,  87, 143, 186,  44,\n",
       "       174,  54,  53,  79,  57,  93, 196, 162, 148, 166,  15,  61, 177,\n",
       "       185, 159,  18, 158,  76,  22, 163,  12, 192, 216, 213, 202,  56,\n",
       "       152,  50, 138,  68, 139,  95, 208, 169,   1, 180, 194, 214,  82,\n",
       "       219,  97,  84,  89, 102, 124,  48,   5, 170,  69, 206, 116,   6,\n",
       "         0,  17, 115, 168,  36,   8, 101, 113,  40,  78,  62,  14, 203,\n",
       "       146,  10, 144,  29, 136, 114,  49,  20, 104,  81,  99,  90, 204,\n",
       "        13])"
      ]
     },
     "execution_count": 111,
     "metadata": {},
     "output_type": "execute_result"
    }
   ],
   "source": [
    "#checking uniqe\n",
    "df.Dep_Time.unique()"
   ]
  },
  {
   "cell_type": "code",
   "execution_count": 112,
   "id": "3a094f7e",
   "metadata": {},
   "outputs": [
    {
     "data": {
      "text/html": [
       "<div>\n",
       "<style scoped>\n",
       "    .dataframe tbody tr th:only-of-type {\n",
       "        vertical-align: middle;\n",
       "    }\n",
       "\n",
       "    .dataframe tbody tr th {\n",
       "        vertical-align: top;\n",
       "    }\n",
       "\n",
       "    .dataframe thead th {\n",
       "        text-align: right;\n",
       "    }\n",
       "</style>\n",
       "<table border=\"1\" class=\"dataframe\">\n",
       "  <thead>\n",
       "    <tr style=\"text-align: right;\">\n",
       "      <th></th>\n",
       "      <th>Airline</th>\n",
       "      <th>Source</th>\n",
       "      <th>Destination</th>\n",
       "      <th>Route</th>\n",
       "      <th>Dep_Time</th>\n",
       "      <th>Arrival_Time</th>\n",
       "      <th>Duration</th>\n",
       "      <th>Total_Stops</th>\n",
       "      <th>Additional_Info</th>\n",
       "      <th>Price</th>\n",
       "    </tr>\n",
       "  </thead>\n",
       "  <tbody>\n",
       "    <tr>\n",
       "      <th>0</th>\n",
       "      <td>3</td>\n",
       "      <td>0</td>\n",
       "      <td>5</td>\n",
       "      <td>BLR → DEL</td>\n",
       "      <td>211</td>\n",
       "      <td>233</td>\n",
       "      <td>240</td>\n",
       "      <td>non-stop</td>\n",
       "      <td>8</td>\n",
       "      <td>3897</td>\n",
       "    </tr>\n",
       "    <tr>\n",
       "      <th>1</th>\n",
       "      <td>1</td>\n",
       "      <td>3</td>\n",
       "      <td>0</td>\n",
       "      <td>CCU → IXR → BBI → BLR</td>\n",
       "      <td>31</td>\n",
       "      <td>906</td>\n",
       "      <td>336</td>\n",
       "      <td>2 stops</td>\n",
       "      <td>8</td>\n",
       "      <td>7662</td>\n",
       "    </tr>\n",
       "    <tr>\n",
       "      <th>2</th>\n",
       "      <td>4</td>\n",
       "      <td>2</td>\n",
       "      <td>1</td>\n",
       "      <td>DEL → LKO → BOM → COK</td>\n",
       "      <td>70</td>\n",
       "      <td>413</td>\n",
       "      <td>106</td>\n",
       "      <td>2 stops</td>\n",
       "      <td>8</td>\n",
       "      <td>13882</td>\n",
       "    </tr>\n",
       "    <tr>\n",
       "      <th>3</th>\n",
       "      <td>3</td>\n",
       "      <td>3</td>\n",
       "      <td>0</td>\n",
       "      <td>CCU → NAG → BLR</td>\n",
       "      <td>164</td>\n",
       "      <td>1324</td>\n",
       "      <td>311</td>\n",
       "      <td>1 stop</td>\n",
       "      <td>8</td>\n",
       "      <td>6218</td>\n",
       "    </tr>\n",
       "    <tr>\n",
       "      <th>4</th>\n",
       "      <td>3</td>\n",
       "      <td>0</td>\n",
       "      <td>5</td>\n",
       "      <td>BLR → NAG → DEL</td>\n",
       "      <td>149</td>\n",
       "      <td>1237</td>\n",
       "      <td>303</td>\n",
       "      <td>1 stop</td>\n",
       "      <td>8</td>\n",
       "      <td>13302</td>\n",
       "    </tr>\n",
       "  </tbody>\n",
       "</table>\n",
       "</div>"
      ],
      "text/plain": [
       "   Airline  Source  Destination                  Route  Dep_Time  \\\n",
       "0        3       0            5              BLR → DEL       211   \n",
       "1        1       3            0  CCU → IXR → BBI → BLR        31   \n",
       "2        4       2            1  DEL → LKO → BOM → COK        70   \n",
       "3        3       3            0        CCU → NAG → BLR       164   \n",
       "4        3       0            5        BLR → NAG → DEL       149   \n",
       "\n",
       "   Arrival_Time  Duration Total_Stops  Additional_Info  Price  \n",
       "0           233       240    non-stop                8   3897  \n",
       "1           906       336     2 stops                8   7662  \n",
       "2           413       106     2 stops                8  13882  \n",
       "3          1324       311      1 stop                8   6218  \n",
       "4          1237       303      1 stop                8  13302  "
      ]
     },
     "execution_count": 112,
     "metadata": {},
     "output_type": "execute_result"
    }
   ],
   "source": [
    "#cheking head\n",
    "df.head()"
   ]
  },
  {
   "cell_type": "code",
   "execution_count": 113,
   "id": "1e4371a2",
   "metadata": {},
   "outputs": [
    {
     "data": {
      "text/plain": [
       "Index(['Airline', 'Source', 'Destination', 'Route', 'Dep_Time', 'Arrival_Time',\n",
       "       'Duration', 'Total_Stops', 'Additional_Info', 'Price'],\n",
       "      dtype='object')"
      ]
     },
     "execution_count": 113,
     "metadata": {},
     "output_type": "execute_result"
    }
   ],
   "source": [
    "#checking colinms\n",
    "df.columns"
   ]
  },
  {
   "cell_type": "markdown",
   "id": "2227bb9d",
   "metadata": {},
   "source": [
    "* Dataest contains 10 columns."
   ]
  },
  {
   "cell_type": "code",
   "execution_count": 114,
   "id": "0fb4e25f",
   "metadata": {},
   "outputs": [],
   "source": [
    "#droping route and total_stops\n",
    "df.drop(['Route','Total_Stops'],axis=1,inplace=True)"
   ]
  },
  {
   "cell_type": "code",
   "execution_count": 115,
   "id": "59534705",
   "metadata": {},
   "outputs": [
    {
     "data": {
      "text/html": [
       "<div>\n",
       "<style scoped>\n",
       "    .dataframe tbody tr th:only-of-type {\n",
       "        vertical-align: middle;\n",
       "    }\n",
       "\n",
       "    .dataframe tbody tr th {\n",
       "        vertical-align: top;\n",
       "    }\n",
       "\n",
       "    .dataframe thead th {\n",
       "        text-align: right;\n",
       "    }\n",
       "</style>\n",
       "<table border=\"1\" class=\"dataframe\">\n",
       "  <thead>\n",
       "    <tr style=\"text-align: right;\">\n",
       "      <th></th>\n",
       "      <th>Airline</th>\n",
       "      <th>Source</th>\n",
       "      <th>Destination</th>\n",
       "      <th>Dep_Time</th>\n",
       "      <th>Arrival_Time</th>\n",
       "      <th>Duration</th>\n",
       "      <th>Additional_Info</th>\n",
       "      <th>Price</th>\n",
       "    </tr>\n",
       "  </thead>\n",
       "  <tbody>\n",
       "    <tr>\n",
       "      <th>0</th>\n",
       "      <td>3</td>\n",
       "      <td>0</td>\n",
       "      <td>5</td>\n",
       "      <td>211</td>\n",
       "      <td>233</td>\n",
       "      <td>240</td>\n",
       "      <td>8</td>\n",
       "      <td>3897</td>\n",
       "    </tr>\n",
       "    <tr>\n",
       "      <th>1</th>\n",
       "      <td>1</td>\n",
       "      <td>3</td>\n",
       "      <td>0</td>\n",
       "      <td>31</td>\n",
       "      <td>906</td>\n",
       "      <td>336</td>\n",
       "      <td>8</td>\n",
       "      <td>7662</td>\n",
       "    </tr>\n",
       "    <tr>\n",
       "      <th>2</th>\n",
       "      <td>4</td>\n",
       "      <td>2</td>\n",
       "      <td>1</td>\n",
       "      <td>70</td>\n",
       "      <td>413</td>\n",
       "      <td>106</td>\n",
       "      <td>8</td>\n",
       "      <td>13882</td>\n",
       "    </tr>\n",
       "    <tr>\n",
       "      <th>3</th>\n",
       "      <td>3</td>\n",
       "      <td>3</td>\n",
       "      <td>0</td>\n",
       "      <td>164</td>\n",
       "      <td>1324</td>\n",
       "      <td>311</td>\n",
       "      <td>8</td>\n",
       "      <td>6218</td>\n",
       "    </tr>\n",
       "    <tr>\n",
       "      <th>4</th>\n",
       "      <td>3</td>\n",
       "      <td>0</td>\n",
       "      <td>5</td>\n",
       "      <td>149</td>\n",
       "      <td>1237</td>\n",
       "      <td>303</td>\n",
       "      <td>8</td>\n",
       "      <td>13302</td>\n",
       "    </tr>\n",
       "  </tbody>\n",
       "</table>\n",
       "</div>"
      ],
      "text/plain": [
       "   Airline  Source  Destination  Dep_Time  Arrival_Time  Duration  \\\n",
       "0        3       0            5       211           233       240   \n",
       "1        1       3            0        31           906       336   \n",
       "2        4       2            1        70           413       106   \n",
       "3        3       3            0       164          1324       311   \n",
       "4        3       0            5       149          1237       303   \n",
       "\n",
       "   Additional_Info  Price  \n",
       "0                8   3897  \n",
       "1                8   7662  \n",
       "2                8  13882  \n",
       "3                8   6218  \n",
       "4                8  13302  "
      ]
     },
     "execution_count": 115,
     "metadata": {},
     "output_type": "execute_result"
    }
   ],
   "source": [
    "#checking dataset head\n",
    "df.head()"
   ]
  },
  {
   "cell_type": "code",
   "execution_count": 116,
   "id": "e64f8e71",
   "metadata": {},
   "outputs": [
    {
     "data": {
      "text/plain": [
       "Airline            0\n",
       "Source             0\n",
       "Destination        0\n",
       "Dep_Time           0\n",
       "Arrival_Time       0\n",
       "Duration           0\n",
       "Additional_Info    0\n",
       "Price              0\n",
       "dtype: int64"
      ]
     },
     "execution_count": 116,
     "metadata": {},
     "output_type": "execute_result"
    }
   ],
   "source": [
    "#checking null value\n",
    "df.isnull().sum()"
   ]
  },
  {
   "cell_type": "markdown",
   "id": "0edd8fe7",
   "metadata": {},
   "source": [
    "* Dataset contains some of null values is zero"
   ]
  },
  {
   "cell_type": "code",
   "execution_count": 117,
   "id": "cac837da",
   "metadata": {},
   "outputs": [],
   "source": [
    "#removing null values by mean and median\n",
    "df['Airline']=df['Airline'].fillna(df['Airline'].mean())\n",
    "df['Source']=df['Source'].fillna(df['Source'].median())"
   ]
  },
  {
   "cell_type": "code",
   "execution_count": 118,
   "id": "f6f1880e",
   "metadata": {},
   "outputs": [
    {
     "data": {
      "text/plain": [
       "Airline            0.731095\n",
       "Source            -0.424054\n",
       "Destination        1.244169\n",
       "Dep_Time           0.195055\n",
       "Arrival_Time      -0.606530\n",
       "Duration          -0.213427\n",
       "Additional_Info   -1.779838\n",
       "Price              1.812552\n",
       "dtype: float64"
      ]
     },
     "execution_count": 118,
     "metadata": {},
     "output_type": "execute_result"
    }
   ],
   "source": [
    "#checking skewness\n",
    "df.skew()"
   ]
  },
  {
   "cell_type": "markdown",
   "id": "3d48f270",
   "metadata": {},
   "source": [
    "* Dataset contains skewness in some columns "
   ]
  },
  {
   "cell_type": "markdown",
   "id": "2fca2428",
   "metadata": {},
   "source": [
    "### Removing Outliers"
   ]
  },
  {
   "cell_type": "code",
   "execution_count": 119,
   "id": "5a97896f",
   "metadata": {},
   "outputs": [
    {
     "data": {
      "text/plain": [
       "array([[0.41067545, 1.65844074, 2.41666505, ..., 0.42287466, 0.49989167,\n",
       "        1.12554821],\n",
       "       [1.26099927, 0.89005213, 0.97382594, ..., 1.30672664, 0.49989167,\n",
       "        0.30904789],\n",
       "       [0.01448647, 0.04055451, 0.29572775, ..., 0.81083539, 0.49989167,\n",
       "        1.03985835],\n",
       "       ...,\n",
       "       [0.01448647, 1.65844074, 0.38237045, ..., 0.79114632, 0.49989167,\n",
       "        0.40295085],\n",
       "       [2.56545795, 1.65844074, 2.41666505, ..., 0.40446108, 0.49989167,\n",
       "        0.77224576],\n",
       "       [1.26099927, 0.04055451, 0.29572775, ..., 1.40800134, 0.49989167,\n",
       "        0.57815073]])"
      ]
     },
     "execution_count": 119,
     "metadata": {},
     "output_type": "execute_result"
    }
   ],
   "source": [
    "#importing zscore\n",
    "from scipy.stats import zscore\n",
    "z=np.abs(zscore(df))\n",
    "z"
   ]
  },
  {
   "cell_type": "markdown",
   "id": "c8531b92",
   "metadata": {},
   "source": [
    "* Removed the outliers"
   ]
  },
  {
   "cell_type": "code",
   "execution_count": 120,
   "id": "e4b801c6",
   "metadata": {},
   "outputs": [
    {
     "name": "stdout",
     "output_type": "stream",
     "text": [
      "(array([  123,   396,   486,   510,   597,   628,   657,   785,   785,\n",
      "         826,   936,   946,   959,   975,  1043,  1196,  1246,  1341,\n",
      "        1424,  1466,  1478,  1629,  1654,  1785,  1918,  2055,  2079,\n",
      "        2099,  2108,  2405,  2481,  2495,  2495,  2556,  2556,  2618,\n",
      "        2635,  2693,  2924,  2924,  3032,  3032,  3111,  3111,  3257,\n",
      "        3400,  3535,  3700,  3700,  3788,  4012,  4521,  4521,  4676,\n",
      "        4829,  5013,  5013,  5136,  5372,  5372,  5439,  5628,  5662,\n",
      "        5701,  5710,  5719,  5738,  5745,  5856,  5986,  6024,  6314,\n",
      "        6336,  6407,  6576,  6576,  6588,  6605,  6991,  7351,  7356,\n",
      "        7377,  7537,  7554,  7617,  7713,  7724,  7724,  7756,  7902,\n",
      "        8020,  8080,  8451,  8470,  8536,  8598,  8856,  8940,  8957,\n",
      "        8957,  8990,  9019,  9019,  9193,  9239,  9632,  9657,  9715,\n",
      "        9974, 10052, 10113, 10160, 10182, 10189, 10353, 10364, 10364,\n",
      "       10383, 10439, 10511, 10511]), array([7, 7, 7, 7, 7, 7, 7, 6, 7, 7, 7, 7, 7, 7, 6, 7, 7, 7, 7, 7, 7, 7,\n",
      "       7, 7, 7, 7, 6, 7, 7, 6, 6, 6, 7, 6, 7, 7, 7, 7, 6, 7, 6, 7, 6, 7,\n",
      "       7, 7, 7, 6, 7, 6, 7, 6, 7, 7, 7, 6, 7, 7, 6, 7, 7, 6, 7, 7, 7, 7,\n",
      "       7, 7, 7, 7, 6, 7, 6, 7, 6, 7, 7, 7, 7, 7, 7, 7, 7, 7, 7, 7, 6, 7,\n",
      "       7, 7, 7, 7, 7, 7, 7, 7, 7, 7, 6, 7, 7, 6, 7, 7, 7, 7, 6, 7, 7, 7,\n",
      "       7, 7, 7, 7, 7, 6, 7, 7, 7, 6, 7]))\n"
     ]
    }
   ],
   "source": [
    "#threshold\n",
    "threshold=3\n",
    "print(np.where(z>3))"
   ]
  },
  {
   "cell_type": "code",
   "execution_count": 121,
   "id": "064e233e",
   "metadata": {},
   "outputs": [
    {
     "data": {
      "text/html": [
       "<div>\n",
       "<style scoped>\n",
       "    .dataframe tbody tr th:only-of-type {\n",
       "        vertical-align: middle;\n",
       "    }\n",
       "\n",
       "    .dataframe tbody tr th {\n",
       "        vertical-align: top;\n",
       "    }\n",
       "\n",
       "    .dataframe thead th {\n",
       "        text-align: right;\n",
       "    }\n",
       "</style>\n",
       "<table border=\"1\" class=\"dataframe\">\n",
       "  <thead>\n",
       "    <tr style=\"text-align: right;\">\n",
       "      <th></th>\n",
       "      <th>Airline</th>\n",
       "      <th>Source</th>\n",
       "      <th>Destination</th>\n",
       "      <th>Dep_Time</th>\n",
       "      <th>Arrival_Time</th>\n",
       "      <th>Duration</th>\n",
       "      <th>Additional_Info</th>\n",
       "      <th>Price</th>\n",
       "    </tr>\n",
       "  </thead>\n",
       "  <tbody>\n",
       "    <tr>\n",
       "      <th>0</th>\n",
       "      <td>3</td>\n",
       "      <td>0</td>\n",
       "      <td>5</td>\n",
       "      <td>211</td>\n",
       "      <td>233</td>\n",
       "      <td>240</td>\n",
       "      <td>8</td>\n",
       "      <td>3897</td>\n",
       "    </tr>\n",
       "    <tr>\n",
       "      <th>1</th>\n",
       "      <td>1</td>\n",
       "      <td>3</td>\n",
       "      <td>0</td>\n",
       "      <td>31</td>\n",
       "      <td>906</td>\n",
       "      <td>336</td>\n",
       "      <td>8</td>\n",
       "      <td>7662</td>\n",
       "    </tr>\n",
       "    <tr>\n",
       "      <th>2</th>\n",
       "      <td>4</td>\n",
       "      <td>2</td>\n",
       "      <td>1</td>\n",
       "      <td>70</td>\n",
       "      <td>413</td>\n",
       "      <td>106</td>\n",
       "      <td>8</td>\n",
       "      <td>13882</td>\n",
       "    </tr>\n",
       "    <tr>\n",
       "      <th>3</th>\n",
       "      <td>3</td>\n",
       "      <td>3</td>\n",
       "      <td>0</td>\n",
       "      <td>164</td>\n",
       "      <td>1324</td>\n",
       "      <td>311</td>\n",
       "      <td>8</td>\n",
       "      <td>6218</td>\n",
       "    </tr>\n",
       "    <tr>\n",
       "      <th>4</th>\n",
       "      <td>3</td>\n",
       "      <td>0</td>\n",
       "      <td>5</td>\n",
       "      <td>149</td>\n",
       "      <td>1237</td>\n",
       "      <td>303</td>\n",
       "      <td>8</td>\n",
       "      <td>13302</td>\n",
       "    </tr>\n",
       "    <tr>\n",
       "      <th>...</th>\n",
       "      <td>...</td>\n",
       "      <td>...</td>\n",
       "      <td>...</td>\n",
       "      <td>...</td>\n",
       "      <td>...</td>\n",
       "      <td>...</td>\n",
       "      <td>...</td>\n",
       "      <td>...</td>\n",
       "    </tr>\n",
       "    <tr>\n",
       "      <th>10678</th>\n",
       "      <td>0</td>\n",
       "      <td>3</td>\n",
       "      <td>0</td>\n",
       "      <td>183</td>\n",
       "      <td>1259</td>\n",
       "      <td>236</td>\n",
       "      <td>8</td>\n",
       "      <td>4107</td>\n",
       "    </tr>\n",
       "    <tr>\n",
       "      <th>10679</th>\n",
       "      <td>1</td>\n",
       "      <td>3</td>\n",
       "      <td>0</td>\n",
       "      <td>193</td>\n",
       "      <td>1305</td>\n",
       "      <td>237</td>\n",
       "      <td>8</td>\n",
       "      <td>4145</td>\n",
       "    </tr>\n",
       "    <tr>\n",
       "      <th>10680</th>\n",
       "      <td>4</td>\n",
       "      <td>0</td>\n",
       "      <td>2</td>\n",
       "      <td>58</td>\n",
       "      <td>824</td>\n",
       "      <td>280</td>\n",
       "      <td>8</td>\n",
       "      <td>7229</td>\n",
       "    </tr>\n",
       "    <tr>\n",
       "      <th>10681</th>\n",
       "      <td>10</td>\n",
       "      <td>0</td>\n",
       "      <td>5</td>\n",
       "      <td>92</td>\n",
       "      <td>938</td>\n",
       "      <td>238</td>\n",
       "      <td>8</td>\n",
       "      <td>12648</td>\n",
       "    </tr>\n",
       "    <tr>\n",
       "      <th>10682</th>\n",
       "      <td>1</td>\n",
       "      <td>2</td>\n",
       "      <td>1</td>\n",
       "      <td>85</td>\n",
       "      <td>1124</td>\n",
       "      <td>347</td>\n",
       "      <td>8</td>\n",
       "      <td>11753</td>\n",
       "    </tr>\n",
       "  </tbody>\n",
       "</table>\n",
       "<p>10578 rows × 8 columns</p>\n",
       "</div>"
      ],
      "text/plain": [
       "       Airline  Source  Destination  Dep_Time  Arrival_Time  Duration  \\\n",
       "0            3       0            5       211           233       240   \n",
       "1            1       3            0        31           906       336   \n",
       "2            4       2            1        70           413       106   \n",
       "3            3       3            0       164          1324       311   \n",
       "4            3       0            5       149          1237       303   \n",
       "...        ...     ...          ...       ...           ...       ...   \n",
       "10678        0       3            0       183          1259       236   \n",
       "10679        1       3            0       193          1305       237   \n",
       "10680        4       0            2        58           824       280   \n",
       "10681       10       0            5        92           938       238   \n",
       "10682        1       2            1        85          1124       347   \n",
       "\n",
       "       Additional_Info  Price  \n",
       "0                    8   3897  \n",
       "1                    8   7662  \n",
       "2                    8  13882  \n",
       "3                    8   6218  \n",
       "4                    8  13302  \n",
       "...                ...    ...  \n",
       "10678                8   4107  \n",
       "10679                8   4145  \n",
       "10680                8   7229  \n",
       "10681                8  12648  \n",
       "10682                8  11753  \n",
       "\n",
       "[10578 rows x 8 columns]"
      ]
     },
     "execution_count": 121,
     "metadata": {},
     "output_type": "execute_result"
    }
   ],
   "source": [
    "# new dataset\n",
    "df_new=df[(z<3).all(axis=1)]\n",
    "df_new"
   ]
  },
  {
   "cell_type": "markdown",
   "id": "082c6065",
   "metadata": {},
   "source": [
    "* Dataset contains 10578 rows and 8 columns."
   ]
  },
  {
   "cell_type": "code",
   "execution_count": 122,
   "id": "97ba5b43",
   "metadata": {},
   "outputs": [
    {
     "data": {
      "text/plain": [
       "(10683, 8)"
      ]
     },
     "execution_count": 122,
     "metadata": {},
     "output_type": "execute_result"
    }
   ],
   "source": [
    "#checking shape\n",
    "df.shape\n"
   ]
  },
  {
   "cell_type": "markdown",
   "id": "8478d02b",
   "metadata": {},
   "source": [
    "* dataset contains 10683 rows and 8 columns"
   ]
  },
  {
   "cell_type": "code",
   "execution_count": 124,
   "id": "11b81c94",
   "metadata": {},
   "outputs": [
    {
     "data": {
      "text/plain": [
       "(10578, 8)"
      ]
     },
     "execution_count": 124,
     "metadata": {},
     "output_type": "execute_result"
    }
   ],
   "source": [
    "#checking shape\n",
    "df_new.shape"
   ]
  },
  {
   "cell_type": "markdown",
   "id": "df7ac834",
   "metadata": {},
   "source": [
    "* new dataset contains 10578 rows and 8 columns"
   ]
  },
  {
   "cell_type": "code",
   "execution_count": 128,
   "id": "f342a97b",
   "metadata": {},
   "outputs": [],
   "source": [
    "#importing standered method \n",
    "from sklearn.preprocessing import StandardScaler"
   ]
  },
  {
   "cell_type": "code",
   "execution_count": 129,
   "id": "ef05c33b",
   "metadata": {},
   "outputs": [],
   "source": [
    "# standard scaler method\n",
    "scaler=StandardScaler()\n",
    "scaledX=scaler.fit_transform(df)"
   ]
  },
  {
   "cell_type": "code",
   "execution_count": 130,
   "id": "338dc39d",
   "metadata": {},
   "outputs": [
    {
     "data": {
      "text/plain": [
       "array([[-0.41067545, -1.65844074,  2.41666505, ...,  0.42287466,\n",
       "         0.49989167, -1.12554821],\n",
       "       [-1.26099927,  0.89005213, -0.97382594, ...,  1.30672664,\n",
       "         0.49989167, -0.30904789],\n",
       "       [ 0.01448647,  0.04055451, -0.29572775, ..., -0.81083539,\n",
       "         0.49989167,  1.03985835],\n",
       "       ...,\n",
       "       [ 0.01448647, -1.65844074,  0.38237045, ...,  0.79114632,\n",
       "         0.49989167, -0.40295085],\n",
       "       [ 2.56545795, -1.65844074,  2.41666505, ...,  0.40446108,\n",
       "         0.49989167,  0.77224576],\n",
       "       [-1.26099927,  0.04055451, -0.29572775, ...,  1.40800134,\n",
       "         0.49989167,  0.57815073]])"
      ]
     },
     "execution_count": 130,
     "metadata": {},
     "output_type": "execute_result"
    }
   ],
   "source": [
    "scaledX"
   ]
  },
  {
   "cell_type": "code",
   "execution_count": 131,
   "id": "24dd3850",
   "metadata": {},
   "outputs": [],
   "source": [
    "#importing PCA\n",
    "from sklearn.decomposition import PCA"
   ]
  },
  {
   "cell_type": "code",
   "execution_count": 132,
   "id": "9459e94e",
   "metadata": {},
   "outputs": [],
   "source": [
    "#applying PCA\n",
    "testpca=PCA()\n",
    "Y=testpca.fit(scaledX)"
   ]
  },
  {
   "cell_type": "code",
   "execution_count": 133,
   "id": "3d9ee46d",
   "metadata": {},
   "outputs": [
    {
     "data": {
      "text/plain": [
       "array([0.2076876 , 0.14460308, 0.13320377, 0.12959327, 0.12464396,\n",
       "       0.10903691, 0.10426519, 0.04696621])"
      ]
     },
     "execution_count": 133,
     "metadata": {},
     "output_type": "execute_result"
    }
   ],
   "source": [
    "#variance\n",
    "Y.explained_variance_ratio_"
   ]
  },
  {
   "cell_type": "code",
   "execution_count": 135,
   "id": "d345f84e",
   "metadata": {},
   "outputs": [
    {
     "data": {
      "text/plain": [
       "array([ 20.76875986,  35.22906744,  48.54944475,  61.50877202,\n",
       "        73.97316832,  84.8768598 ,  95.30337909, 100.        ])"
      ]
     },
     "execution_count": 135,
     "metadata": {},
     "output_type": "execute_result"
    }
   ],
   "source": [
    "var_cumu=np.cumsum(Y.explained_variance_ratio_)*100\n",
    "var_cumu"
   ]
  },
  {
   "cell_type": "code",
   "execution_count": 136,
   "id": "99cc0036",
   "metadata": {},
   "outputs": [
    {
     "name": "stdout",
     "output_type": "stream",
     "text": [
      "Number of componets explaining 99% variance: 7\n"
     ]
    }
   ],
   "source": [
    "k=np.argmax(var_cumu>99)\n",
    "print('Number of componets explaining 99% variance:',k)"
   ]
  },
  {
   "cell_type": "code",
   "execution_count": 138,
   "id": "b445bc6f",
   "metadata": {},
   "outputs": [
    {
     "data": {
      "image/png": "[encoded data removed]",
      "text/plain": [
       "<Figure size 432x288 with 1 Axes>"
      ]
     },
     "metadata": {
      "needs_background": "light"
     },
     "output_type": "display_data"
    }
   ],
   "source": [
    "#ploting \n",
    "plt.ylabel('Cumulative Explaining 99% variance:')\n",
    "plt.xlabel('Principle components')\n",
    "plt.axvline(x=k, color='k',linestyle='--')\n",
    "plt.axhline(y=9, color='r',linestyle='--')\n",
    "\n",
    "plt.plot(var_cumu)\n",
    "plt.show()"
   ]
  },
  {
   "cell_type": "markdown",
   "id": "994a41c9",
   "metadata": {},
   "source": [
    "* Here y label contains cumulative explained varience and xlabel contains principle components."
   ]
  },
  {
   "cell_type": "markdown",
   "id": "e03a0365",
   "metadata": {},
   "source": [
    "## Model Building "
   ]
  },
  {
   "cell_type": "code",
   "execution_count": 139,
   "id": "8ad304bb",
   "metadata": {},
   "outputs": [],
   "source": [
    "x_train=df.drop(['Source'],axis=1)\n",
    "y_train=df.Source"
   ]
  },
  {
   "cell_type": "code",
   "execution_count": 140,
   "id": "ddaed318",
   "metadata": {},
   "outputs": [
    {
     "data": {
      "text/html": [
       "<div>\n",
       "<style scoped>\n",
       "    .dataframe tbody tr th:only-of-type {\n",
       "        vertical-align: middle;\n",
       "    }\n",
       "\n",
       "    .dataframe tbody tr th {\n",
       "        vertical-align: top;\n",
       "    }\n",
       "\n",
       "    .dataframe thead th {\n",
       "        text-align: right;\n",
       "    }\n",
       "</style>\n",
       "<table border=\"1\" class=\"dataframe\">\n",
       "  <thead>\n",
       "    <tr style=\"text-align: right;\">\n",
       "      <th></th>\n",
       "      <th>Airline</th>\n",
       "      <th>Destination</th>\n",
       "      <th>Dep_Time</th>\n",
       "      <th>Arrival_Time</th>\n",
       "      <th>Duration</th>\n",
       "      <th>Additional_Info</th>\n",
       "      <th>Price</th>\n",
       "    </tr>\n",
       "  </thead>\n",
       "  <tbody>\n",
       "    <tr>\n",
       "      <th>0</th>\n",
       "      <td>3</td>\n",
       "      <td>5</td>\n",
       "      <td>211</td>\n",
       "      <td>233</td>\n",
       "      <td>240</td>\n",
       "      <td>8</td>\n",
       "      <td>3897</td>\n",
       "    </tr>\n",
       "    <tr>\n",
       "      <th>1</th>\n",
       "      <td>1</td>\n",
       "      <td>0</td>\n",
       "      <td>31</td>\n",
       "      <td>906</td>\n",
       "      <td>336</td>\n",
       "      <td>8</td>\n",
       "      <td>7662</td>\n",
       "    </tr>\n",
       "    <tr>\n",
       "      <th>2</th>\n",
       "      <td>4</td>\n",
       "      <td>1</td>\n",
       "      <td>70</td>\n",
       "      <td>413</td>\n",
       "      <td>106</td>\n",
       "      <td>8</td>\n",
       "      <td>13882</td>\n",
       "    </tr>\n",
       "    <tr>\n",
       "      <th>3</th>\n",
       "      <td>3</td>\n",
       "      <td>0</td>\n",
       "      <td>164</td>\n",
       "      <td>1324</td>\n",
       "      <td>311</td>\n",
       "      <td>8</td>\n",
       "      <td>6218</td>\n",
       "    </tr>\n",
       "    <tr>\n",
       "      <th>4</th>\n",
       "      <td>3</td>\n",
       "      <td>5</td>\n",
       "      <td>149</td>\n",
       "      <td>1237</td>\n",
       "      <td>303</td>\n",
       "      <td>8</td>\n",
       "      <td>13302</td>\n",
       "    </tr>\n",
       "  </tbody>\n",
       "</table>\n",
       "</div>"
      ],
      "text/plain": [
       "   Airline  Destination  Dep_Time  Arrival_Time  Duration  Additional_Info  \\\n",
       "0        3            5       211           233       240                8   \n",
       "1        1            0        31           906       336                8   \n",
       "2        4            1        70           413       106                8   \n",
       "3        3            0       164          1324       311                8   \n",
       "4        3            5       149          1237       303                8   \n",
       "\n",
       "   Price  \n",
       "0   3897  \n",
       "1   7662  \n",
       "2  13882  \n",
       "3   6218  \n",
       "4  13302  "
      ]
     },
     "execution_count": 140,
     "metadata": {},
     "output_type": "execute_result"
    }
   ],
   "source": [
    "x_train.head()"
   ]
  },
  {
   "cell_type": "code",
   "execution_count": 141,
   "id": "e645b737",
   "metadata": {},
   "outputs": [
    {
     "data": {
      "text/plain": [
       "0    0\n",
       "1    3\n",
       "2    2\n",
       "3    3\n",
       "4    0\n",
       "Name: Source, dtype: int64"
      ]
     },
     "execution_count": 141,
     "metadata": {},
     "output_type": "execute_result"
    }
   ],
   "source": [
    "y_train.head()"
   ]
  },
  {
   "cell_type": "code",
   "execution_count": 142,
   "id": "9ffcdb54",
   "metadata": {},
   "outputs": [
    {
     "data": {
      "text/plain": [
       "(10683, 7)"
      ]
     },
     "execution_count": 142,
     "metadata": {},
     "output_type": "execute_result"
    }
   ],
   "source": [
    "x_train.shape"
   ]
  },
  {
   "cell_type": "markdown",
   "id": "206b678b",
   "metadata": {},
   "source": [
    "* x trian contains 10683 rows and zero columns."
   ]
  },
  {
   "cell_type": "code",
   "execution_count": 143,
   "id": "faa2bec9",
   "metadata": {},
   "outputs": [
    {
     "data": {
      "text/plain": [
       "(10683,)"
      ]
     },
     "execution_count": 143,
     "metadata": {},
     "output_type": "execute_result"
    }
   ],
   "source": [
    "y_train.shape"
   ]
  },
  {
   "cell_type": "markdown",
   "id": "3adb471d",
   "metadata": {},
   "source": [
    "* y_train contains 10683 rows and zero columns."
   ]
  },
  {
   "cell_type": "markdown",
   "id": "570fc85c",
   "metadata": {},
   "source": [
    "## Regressor Methods"
   ]
  },
  {
   "cell_type": "code",
   "execution_count": 144,
   "id": "434ec5dd",
   "metadata": {},
   "outputs": [],
   "source": [
    "#importing train test split \n",
    "from sklearn.model_selection import train_test_split\n",
    "from sklearn.metrics import accuracy_score"
   ]
  },
  {
   "cell_type": "code",
   "execution_count": 145,
   "id": "21d8d9a4",
   "metadata": {},
   "outputs": [],
   "source": [
    "x=df.drop(['Source'],axis=1)\n",
    "y=df['Source']\n",
    "x_train, x_test, y_train, y_test=train_test_split(x,y, random_state=0, test_size=0.2)"
   ]
  },
  {
   "cell_type": "code",
   "execution_count": 146,
   "id": "1e61a9f6",
   "metadata": {},
   "outputs": [
    {
     "name": "stdout",
     "output_type": "stream",
     "text": [
      "0.023816275411477048\n",
      "0.07144882623443113\n",
      "0.11788454892243297\n",
      "0.06943577811935481\n",
      "0.09674216804911331\n",
      "0.0673625993842474\n",
      "0.0\n",
      "0.09526510164590819\n",
      "0.09526510164590819\n",
      "0.11908137705738524\n",
      "0.0673625993842474\n",
      "0.13577365970779495\n",
      "0.023816275411477048\n",
      "0.0\n",
      "0.0673625993842474\n",
      "0.11667544466342449\n",
      "0.09674216804911331\n",
      "0.07144882623443113\n",
      "0.07144882623443113\n",
      "0.0\n",
      "0.11908137705738524\n",
      "0.07144882623443113\n",
      "0.09674216804911331\n",
      "0.0673625993842474\n",
      "0.09819701913032057\n",
      "0.06943577811935481\n",
      "0.0673625993842474\n",
      "0.12026629556580187\n",
      "0.0\n",
      "0.16500399623892645\n",
      "0.07144882623443113\n",
      "0.07144882623443113\n",
      "0.09674216804911331\n",
      "0.11788454892243297\n",
      "0.06943577811935481\n",
      "0.09526510164590819\n",
      "0.09526510164590819\n",
      "0.1347251987684948\n",
      "0.09819701913032057\n",
      "0.09674216804911331\n",
      "0.07340669082253741\n",
      "0.023816275411477048\n",
      "0.023816275411477048\n",
      "0.11908137705738524\n",
      "0.09526510164590819\n",
      "0.0673625993842474\n",
      "0.09526510164590819\n",
      "0.0673625993842474\n",
      "0.01684064984606185\n",
      "0.06943577811935481\n",
      "0.0\n",
      "0.023816275411477048\n",
      "0.0\n",
      "0.06943577811935481\n",
      "0.1347251987684948\n",
      "0.01684064984606185\n",
      "0.0673625993842474\n",
      "0.09674216804911331\n",
      "0.07144882623443113\n",
      "0.0\n",
      "0.01684064984606185\n",
      "0.0673625993842474\n",
      "0.01684064984606185\n",
      "0.023816275411477048\n",
      "0.07340669082253741\n",
      "0.02916886116585612\n",
      "0.01684064984606185\n",
      "0.02916886116585612\n",
      "0.0673625993842474\n",
      "0.07144882623443113\n",
      "0.15249857033260467\n",
      "0.01684064984606185\n",
      "0.0\n",
      "0.09674216804911331\n",
      "0.09819701913032057\n",
      "0.1347251987684948\n",
      "0.11908137705738524\n",
      "0.023816275411477048\n",
      "0.023816275411477048\n",
      "0.06943577811935481\n",
      "0.09526510164590819\n",
      "0.09526510164590819\n",
      "0.0673625993842474\n",
      "0.01684064984606185\n",
      "0.07340669082253741\n",
      "0.0\n",
      "0.0\n",
      "0.0\n",
      "0.0\n",
      "0.09963062808854618\n",
      "0.0673625993842474\n",
      "0.0\n",
      "0.06943577811935481\n",
      "0.0673625993842474\n",
      "0.06943577811935481\n",
      "0.0\n",
      "0.01684064984606185\n",
      "0.07144882623443113\n",
      "0.0673625993842474\n",
      "0.09819701913032057\n",
      "0.0673625993842474\n",
      "0.09963062808854618\n",
      "0.09674216804911331\n",
      "0.11788454892243297\n",
      "0.06943577811935481\n",
      "0.09674216804911331\n",
      "0.07144882623443113\n",
      "0.07340669082253741\n",
      "0.0\n",
      "0.0\n",
      "0.0\n",
      "0.01684064984606185\n",
      "0.0\n",
      "0.0673625993842474\n",
      "0.09819701913032057\n",
      "0.11908137705738524\n",
      "0.06943577811935481\n",
      "0.01684064984606185\n",
      "0.07144882623443113\n",
      "0.0\n",
      "0.0673625993842474\n",
      "0.09526510164590819\n",
      "0.0673625993842474\n",
      "0.0\n",
      "0.023816275411477048\n",
      "0.09963062808854618\n",
      "0.01684064984606185\n",
      "0.02916886116585612\n",
      "0.023816275411477048\n",
      "0.0673625993842474\n",
      "0.02916886116585612\n",
      "0.09526510164590819\n",
      "0.1347251987684948\n",
      "0.11908137705738524\n",
      "0.11788454892243297\n",
      "0.023816275411477048\n",
      "0.01684064984606185\n",
      "0.15249857033260467\n",
      "0.0673625993842474\n",
      "0.09526510164590819\n",
      "0.01684064984606185\n",
      "0.1347251987684948\n",
      "0.01684064984606185\n",
      "0.06943577811935481\n",
      "0.07144882623443113\n",
      "0.0\n",
      "0.09819701913032057\n",
      "0.023816275411477048\n",
      "0.0673625993842474\n",
      "0.0\n",
      "0.023816275411477048\n",
      "0.0\n",
      "0.02916886116585612\n",
      "0.0673625993842474\n",
      "0.0\n",
      "0.07144882623443113\n",
      "0.09819701913032057\n",
      "0.09819701913032057\n",
      "0.01684064984606185\n",
      "0.0\n",
      "0.01684064984606185\n",
      "0.0673625993842474\n",
      "0.0\n",
      "0.06943577811935481\n",
      "0.0673625993842474\n",
      "0.13784665989759573\n",
      "0.10243767386949752\n",
      "0.0673625993842474\n",
      "0.09674216804911331\n",
      "0.07144882623443113\n",
      "0.07340669082253741\n",
      "0.01684064984606185\n",
      "0.09526510164590819\n",
      "0.0673625993842474\n",
      "0.1347251987684948\n",
      "0.01684064984606185\n",
      "0.0\n",
      "0.13887155623870961\n",
      "0.023816275411477048\n",
      "0.09819701913032057\n",
      "0.0\n",
      "0.06943577811935481\n",
      "0.06943577811935481\n",
      "0.07340669082253741\n",
      "0.09963062808854618\n",
      "0.01684064984606185\n",
      "0.0673625993842474\n",
      "0.09674216804911331\n",
      "0.17901856344484482\n",
      "0.0673625993842474\n",
      "0.09819701913032057\n",
      "0.0\n",
      "0.0673625993842474\n",
      "0.11667544466342449\n",
      "0.11667544466342449\n",
      "0.01684064984606185\n",
      "0.06943577811935481\n",
      "0.01684064984606185\n",
      "0.07144882623443113\n",
      "0.0\n"
     ]
    }
   ],
   "source": [
    "#importing mean squared error\n",
    "from sklearn.metrics import mean_squared_error\n",
    "for i in range(200):\n",
    "    x_train, x_test, y_train, y_test=train_test_split(x,y, test_size=0.33, random_state=i)\n",
    "    from sklearn.tree import DecisionTreeRegressor\n",
    "    lm=DecisionTreeRegressor()\n",
    "    lm.fit(x_train,y_train)\n",
    "    y_pred=lm.predict(x_test)\n",
    "    mse=mean_squared_error(y_test,y_pred)\n",
    "    rmse=np.sqrt(mse)\n",
    "    print(rmse)"
   ]
  },
  {
   "cell_type": "markdown",
   "id": "c3e32215",
   "metadata": {},
   "source": [
    "## Decision Tree Regresstion"
   ]
  },
  {
   "cell_type": "code",
   "execution_count": 147,
   "id": "42dc503f",
   "metadata": {},
   "outputs": [
    {
     "data": {
      "text/plain": [
       "DecisionTreeRegressor()"
      ]
     },
     "execution_count": 147,
     "metadata": {},
     "output_type": "execute_result"
    }
   ],
   "source": [
    "from sklearn.tree import DecisionTreeRegressor\n",
    "regressor=DecisionTreeRegressor()\n",
    "regressor.fit(x_train,y_train)"
   ]
  },
  {
   "cell_type": "code",
   "execution_count": 148,
   "id": "1ae40360",
   "metadata": {},
   "outputs": [],
   "source": [
    "y_pred=regressor.predict(x_test)"
   ]
  },
  {
   "cell_type": "code",
   "execution_count": 149,
   "id": "ff9e08a7",
   "metadata": {},
   "outputs": [
    {
     "data": {
      "text/plain": [
       "array([3., 2., 3., ..., 2., 3., 4.])"
      ]
     },
     "execution_count": 149,
     "metadata": {},
     "output_type": "execute_result"
    }
   ],
   "source": [
    "y_pred"
   ]
  },
  {
   "cell_type": "code",
   "execution_count": 154,
   "id": "a80f8b9e",
   "metadata": {},
   "outputs": [
    {
     "data": {
      "text/plain": [
       "99.95"
      ]
     },
     "execution_count": 154,
     "metadata": {},
     "output_type": "execute_result"
    }
   ],
   "source": [
    "dt=round(regressor.score(x_train,y_train)*100,2)\n",
    "dt"
   ]
  },
  {
   "cell_type": "markdown",
   "id": "221446c1",
   "metadata": {},
   "source": [
    "* Decision Tree hit almost 100% accuracy"
   ]
  },
  {
   "cell_type": "markdown",
   "id": "4362b81b",
   "metadata": {},
   "source": [
    "## Random Forest Regressor"
   ]
  },
  {
   "cell_type": "code",
   "execution_count": 151,
   "id": "cad99f20",
   "metadata": {},
   "outputs": [
    {
     "data": {
      "text/plain": [
       "RandomForestRegressor()"
      ]
     },
     "execution_count": 151,
     "metadata": {},
     "output_type": "execute_result"
    }
   ],
   "source": [
    "from sklearn.ensemble import RandomForestRegressor\n",
    "regressor=RandomForestRegressor()\n",
    "regressor.fit(x_train,y_train)"
   ]
  },
  {
   "cell_type": "code",
   "execution_count": 152,
   "id": "2359fcaf",
   "metadata": {},
   "outputs": [
    {
     "data": {
      "text/plain": [
       "array([3., 2., 3., ..., 2., 3., 4.])"
      ]
     },
     "execution_count": 152,
     "metadata": {},
     "output_type": "execute_result"
    }
   ],
   "source": [
    "y_pred=regressor.predict(x_test)\n",
    "y_pred"
   ]
  },
  {
   "cell_type": "code",
   "execution_count": 155,
   "id": "632d10f8",
   "metadata": {},
   "outputs": [
    {
     "data": {
      "text/plain": [
       "99.95"
      ]
     },
     "execution_count": 155,
     "metadata": {},
     "output_type": "execute_result"
    }
   ],
   "source": [
    "rf=round(regressor.score(x_train,y_train)*100,2)\n",
    "rf"
   ]
  },
  {
   "cell_type": "markdown",
   "id": "df525b1e",
   "metadata": {},
   "source": [
    "* The Random Forest Regressor give 99.95% accuracy"
   ]
  },
  {
   "cell_type": "markdown",
   "id": "d595d95d",
   "metadata": {},
   "source": [
    "## Linear Regression"
   ]
  },
  {
   "cell_type": "code",
   "execution_count": 157,
   "id": "27136ca4",
   "metadata": {},
   "outputs": [
    {
     "data": {
      "text/plain": [
       "LinearRegression()"
      ]
     },
     "execution_count": 157,
     "metadata": {},
     "output_type": "execute_result"
    }
   ],
   "source": [
    "from sklearn.linear_model import LinearRegression\n",
    "regressor=LinearRegression()\n",
    "regressor.fit(x_train,y_train)"
   ]
  },
  {
   "cell_type": "code",
   "execution_count": 158,
   "id": "bad54aee",
   "metadata": {},
   "outputs": [
    {
     "data": {
      "text/plain": [
       "array([2.58589889, 1.78149605, 2.78661624, ..., 2.61326875, 2.30429324,\n",
       "       1.32403676])"
      ]
     },
     "execution_count": 158,
     "metadata": {},
     "output_type": "execute_result"
    }
   ],
   "source": [
    "y_pred=regressor.predict(x_test)\n",
    "y_pred"
   ]
  },
  {
   "cell_type": "code",
   "execution_count": 159,
   "id": "90dec386",
   "metadata": {},
   "outputs": [
    {
     "data": {
      "text/plain": [
       "38.17"
      ]
     },
     "execution_count": 159,
     "metadata": {},
     "output_type": "execute_result"
    }
   ],
   "source": [
    "lr=round(regressor.score(x_train,y_train)*100,2)\n",
    "lr"
   ]
  },
  {
   "cell_type": "markdown",
   "id": "9c4e2ad0",
   "metadata": {},
   "source": [
    "* The Linear Regression hit 38.17% accuracy"
   ]
  },
  {
   "cell_type": "markdown",
   "id": "52d365a6",
   "metadata": {},
   "source": [
    "## GaussianNB"
   ]
  },
  {
   "cell_type": "code",
   "execution_count": 161,
   "id": "fc03e04d",
   "metadata": {},
   "outputs": [
    {
     "data": {
      "text/plain": [
       "GaussianNB()"
      ]
     },
     "execution_count": 161,
     "metadata": {},
     "output_type": "execute_result"
    }
   ],
   "source": [
    "from sklearn.naive_bayes import GaussianNB\n",
    "regressor=GaussianNB()\n",
    "regressor.fit(x_train,y_train)"
   ]
  },
  {
   "cell_type": "code",
   "execution_count": 162,
   "id": "69ec8204",
   "metadata": {},
   "outputs": [
    {
     "data": {
      "text/plain": [
       "array([3, 2, 3, ..., 2, 3, 4])"
      ]
     },
     "execution_count": 162,
     "metadata": {},
     "output_type": "execute_result"
    }
   ],
   "source": [
    "y_pred=regressor.predict(x_test)\n",
    "y_pred"
   ]
  },
  {
   "cell_type": "code",
   "execution_count": 163,
   "id": "2d9d2538",
   "metadata": {},
   "outputs": [
    {
     "data": {
      "text/plain": [
       "99.46"
      ]
     },
     "execution_count": 163,
     "metadata": {},
     "output_type": "execute_result"
    }
   ],
   "source": [
    "nb=round(regressor.score(x_train,y_train)*100,2)\n",
    "nb"
   ]
  },
  {
   "cell_type": "markdown",
   "id": "046a95a9",
   "metadata": {},
   "source": [
    "* the GaussianNB hit 99.46% accuracy."
   ]
  },
  {
   "cell_type": "markdown",
   "id": "63a15721",
   "metadata": {},
   "source": [
    "## SVR"
   ]
  },
  {
   "cell_type": "code",
   "execution_count": 165,
   "id": "ebe565aa",
   "metadata": {},
   "outputs": [
    {
     "data": {
      "text/plain": [
       "SVR()"
      ]
     },
     "execution_count": 165,
     "metadata": {},
     "output_type": "execute_result"
    }
   ],
   "source": [
    "from sklearn.svm import SVR\n",
    "regressor=SVR()\n",
    "regressor.fit(x_train,y_train)"
   ]
  },
  {
   "cell_type": "code",
   "execution_count": 166,
   "id": "4ae9c430",
   "metadata": {},
   "outputs": [
    {
     "data": {
      "text/plain": [
       "array([2.21643584, 2.09116445, 1.99192579, ..., 2.11599819, 2.10227686,\n",
       "       2.13312899])"
      ]
     },
     "execution_count": 166,
     "metadata": {},
     "output_type": "execute_result"
    }
   ],
   "source": [
    "y_pred=regressor.predict(x_test)\n",
    "y_pred"
   ]
  },
  {
   "cell_type": "code",
   "execution_count": 167,
   "id": "f05dcf72",
   "metadata": {},
   "outputs": [
    {
     "data": {
      "text/plain": [
       "1.26"
      ]
     },
     "execution_count": 167,
     "metadata": {},
     "output_type": "execute_result"
    }
   ],
   "source": [
    "svm=round(regressor.score(x_train,y_train)*100,2)\n",
    "svm"
   ]
  },
  {
   "cell_type": "markdown",
   "id": "e862790d",
   "metadata": {},
   "source": [
    "* The SVM hitb 1.26 accuracy."
   ]
  },
  {
   "cell_type": "markdown",
   "id": "1890f392",
   "metadata": {},
   "source": [
    "## KNeighbors Regressor"
   ]
  },
  {
   "cell_type": "code",
   "execution_count": 169,
   "id": "dc7e9da8",
   "metadata": {},
   "outputs": [
    {
     "data": {
      "text/plain": [
       "KNeighborsRegressor()"
      ]
     },
     "execution_count": 169,
     "metadata": {},
     "output_type": "execute_result"
    }
   ],
   "source": [
    "from sklearn.neighbors import KNeighborsRegressor\n",
    "regressor=KNeighborsRegressor()\n",
    "regressor.fit(x_train,y_train)"
   ]
  },
  {
   "cell_type": "code",
   "execution_count": 170,
   "id": "c33e77ab",
   "metadata": {},
   "outputs": [
    {
     "data": {
      "text/plain": [
       "array([3. , 2.2, 2. , ..., 2. , 3. , 2. ])"
      ]
     },
     "execution_count": 170,
     "metadata": {},
     "output_type": "execute_result"
    }
   ],
   "source": [
    "y_pred=regressor.predict(x_test)\n",
    "y_pred"
   ]
  },
  {
   "cell_type": "code",
   "execution_count": 172,
   "id": "35fd4eb7",
   "metadata": {},
   "outputs": [
    {
     "data": {
      "text/plain": [
       "75.24"
      ]
     },
     "execution_count": 172,
     "metadata": {},
     "output_type": "execute_result"
    }
   ],
   "source": [
    "knn=round(regressor.score(x_train,y_train)*100,2)\n",
    "knn"
   ]
  },
  {
   "cell_type": "markdown",
   "id": "232a4b08",
   "metadata": {},
   "source": [
    "* The knn hit 75.24% accuracy."
   ]
  },
  {
   "cell_type": "markdown",
   "id": "af81234f",
   "metadata": {},
   "source": [
    "## Cross Validation Method"
   ]
  },
  {
   "cell_type": "code",
   "execution_count": 174,
   "id": "4cdccdbb",
   "metadata": {},
   "outputs": [],
   "source": [
    "#importing cross vaidation\n",
    "from sklearn.model_selection import cross_val_score"
   ]
  },
  {
   "cell_type": "code",
   "execution_count": 175,
   "id": "8d0150ff",
   "metadata": {},
   "outputs": [
    {
     "name": "stdout",
     "output_type": "stream",
     "text": [
      "0.9976991834900915\n"
     ]
    }
   ],
   "source": [
    "from sklearn.tree import DecisionTreeRegressor\n",
    "regressor=DecisionTreeRegressor()\n",
    "print(cross_val_score(regressor,x,y,cv=5).mean())"
   ]
  },
  {
   "cell_type": "code",
   "execution_count": 176,
   "id": "fdb28986",
   "metadata": {},
   "outputs": [
    {
     "name": "stdout",
     "output_type": "stream",
     "text": [
      "0.9971883018241996\n"
     ]
    }
   ],
   "source": [
    "from sklearn.ensemble import RandomForestRegressor\n",
    "regressor=RandomForestRegressor()\n",
    "print(cross_val_score(regressor,x,y,cv=5).mean())"
   ]
  },
  {
   "cell_type": "code",
   "execution_count": 178,
   "id": "8d630376",
   "metadata": {},
   "outputs": [
    {
     "name": "stdout",
     "output_type": "stream",
     "text": [
      "0.015245839722675281\n"
     ]
    }
   ],
   "source": [
    "from sklearn.svm import SVR\n",
    "regressor=SVR()\n",
    "print(cross_val_score(regressor,x,y,cv=5).mean())"
   ]
  },
  {
   "cell_type": "code",
   "execution_count": 179,
   "id": "969cd20e",
   "metadata": {},
   "outputs": [
    {
     "name": "stdout",
     "output_type": "stream",
     "text": [
      "0.3853045693095896\n"
     ]
    }
   ],
   "source": [
    "from sklearn.linear_model import LinearRegression\n",
    "regressor=LinearRegression()\n",
    "print(cross_val_score(regressor,x,y,cv=5).mean())"
   ]
  },
  {
   "cell_type": "code",
   "execution_count": 180,
   "id": "be103ebc",
   "metadata": {},
   "outputs": [
    {
     "name": "stdout",
     "output_type": "stream",
     "text": [
      "0.6410485696020395\n"
     ]
    }
   ],
   "source": [
    "from sklearn.neighbors import KNeighborsRegressor\n",
    "regressor=KNeighborsRegressor()\n",
    "print(cross_val_score(regressor,x,y,cv=5).mean())"
   ]
  },
  {
   "cell_type": "code",
   "execution_count": 181,
   "id": "d7a80a4e",
   "metadata": {},
   "outputs": [
    {
     "name": "stdout",
     "output_type": "stream",
     "text": [
      "0.9944773204061137\n"
     ]
    }
   ],
   "source": [
    "from sklearn.naive_bayes import GaussianNB\n",
    "regressor=GaussianNB()\n",
    "print(cross_val_score(regressor,x,y,cv=5).mean())"
   ]
  },
  {
   "cell_type": "markdown",
   "id": "98a9ce82",
   "metadata": {},
   "source": [
    "## Hyperparameter Tunings"
   ]
  },
  {
   "cell_type": "code",
   "execution_count": 182,
   "id": "e82f0baa",
   "metadata": {},
   "outputs": [],
   "source": [
    "#importing GridSearchCV\n",
    "from sklearn.model_selection import GridSearchCV"
   ]
  },
  {
   "cell_type": "code",
   "execution_count": 183,
   "id": "e40ca676",
   "metadata": {},
   "outputs": [],
   "source": [
    "parameter={'max_depth':[1,3,5,7,9,11,12],\n",
    "           'criterion':['mse','friedman_mse']}"
   ]
  },
  {
   "cell_type": "code",
   "execution_count": 184,
   "id": "e9b151d6",
   "metadata": {},
   "outputs": [],
   "source": [
    "GCV=GridSearchCV(DecisionTreeRegressor(),parameter,cv=5)"
   ]
  },
  {
   "cell_type": "code",
   "execution_count": 185,
   "id": "a1e7c137",
   "metadata": {},
   "outputs": [
    {
     "data": {
      "text/plain": [
       "GridSearchCV(cv=5, estimator=DecisionTreeRegressor(),\n",
       "             param_grid={'criterion': ['mse', 'friedman_mse'],\n",
       "                         'max_depth': [1, 3, 5, 7, 9, 11, 12]})"
      ]
     },
     "execution_count": 185,
     "metadata": {},
     "output_type": "execute_result"
    }
   ],
   "source": [
    "GCV.fit(x_train,y_train)"
   ]
  },
  {
   "cell_type": "code",
   "execution_count": 186,
   "id": "14e9c85c",
   "metadata": {},
   "outputs": [
    {
     "data": {
      "text/plain": [
       "GridSearchCV(cv=5, estimator=DecisionTreeRegressor(),\n",
       "             param_grid={'criterion': ['mse', 'friedman_mse'],\n",
       "                         'max_depth': [1, 3, 5, 7, 9, 11, 12]})"
      ]
     },
     "execution_count": 186,
     "metadata": {},
     "output_type": "execute_result"
    }
   ],
   "source": [
    "GCV.fit(x_train,y_train)"
   ]
  },
  {
   "cell_type": "code",
   "execution_count": 187,
   "id": "b9ebee91",
   "metadata": {},
   "outputs": [
    {
     "data": {
      "text/plain": [
       "{'criterion': 'mse', 'max_depth': 12}"
      ]
     },
     "execution_count": 187,
     "metadata": {},
     "output_type": "execute_result"
    }
   ],
   "source": [
    "GCV.best_params_"
   ]
  },
  {
   "cell_type": "markdown",
   "id": "7cbfe55f",
   "metadata": {},
   "source": [
    "## Evaluating Final Model"
   ]
  },
  {
   "cell_type": "code",
   "execution_count": 188,
   "id": "a57979ca",
   "metadata": {},
   "outputs": [
    {
     "name": "stdout",
     "output_type": "stream",
     "text": [
      "99.95854993178548\n"
     ]
    }
   ],
   "source": [
    "from sklearn.tree import DecisionTreeRegressor\n",
    "regressor=DecisionTreeRegressor()\n",
    "regressor.fit(x_train,y_train)\n",
    "Final_mod=DecisionTreeRegressor()\n",
    "Final_mod.fit(x_train,y_train)\n",
    "pred=Final_mod.predict(x_test)\n",
    "print(regressor.score(x_test,y_test)*100)"
   ]
  },
  {
   "cell_type": "markdown",
   "id": "865ed4fd",
   "metadata": {},
   "source": [
    "## Saving Model"
   ]
  },
  {
   "cell_type": "code",
   "execution_count": 189,
   "id": "ac2e479c",
   "metadata": {},
   "outputs": [
    {
     "data": {
      "text/plain": [
       "['Flight Price Prediction.csv']"
      ]
     },
     "execution_count": 189,
     "metadata": {},
     "output_type": "execute_result"
    }
   ],
   "source": [
    "import joblib\n",
    "joblib.dump(Final_mod,'Flight Price Prediction.csv')"
   ]
  },
  {
   "cell_type": "markdown",
   "id": "c664f5dc",
   "metadata": {},
   "source": [
    "* Model Saved"
   ]
  },
  {
   "cell_type": "markdown",
   "id": "272f1eec",
   "metadata": {},
   "source": [
    "## Prediction Method"
   ]
  },
  {
   "cell_type": "code",
   "execution_count": 191,
   "id": "3b159a3d",
   "metadata": {},
   "outputs": [
    {
     "name": "stdout",
     "output_type": "stream",
     "text": [
      "[3. 2. 3. 3. 2. 2. 0. 2. 3. 2. 0. 2. 3. 2. 3. 0. 0. 2. 2. 0. 2. 3. 0. 0.\n",
      " 0. 2. 0. 2. 2. 3. 3. 3. 1. 2. 3. 3.]\n",
      "[3 2 3 3 2 2 0 2 3 2 0 2 3 2 3 0 0 2 2 0 2 3 0 0 0 2 0 2 2 3 3 3 1 2 3 3]\n"
     ]
    }
   ],
   "source": [
    "Final_mod=DecisionTreeRegressor()\n",
    "Final_mod.fit(x_train,y_train)\n",
    "pred=Final_mod.predict(x_test)\n",
    "preds=regressor.predict(x_test)\n",
    "print(preds[:36])\n",
    "print(y_test[:36].values)"
   ]
  },
  {
   "cell_type": "markdown",
   "id": "f00846eb",
   "metadata": {},
   "source": [
    "* The train test data is balanced most of the regressor method hit 99% accuracy with the dataset."
   ]
  },
  {
   "cell_type": "code",
   "execution_count": null,
   "id": "ec1681bf",
   "metadata": {},
   "outputs": [],
   "source": []
  }
 ],
 "metadata": {
  "kernelspec": {
   "display_name": "Python 3",
   "language": "python",
   "name": "python3"
  },
  "language_info": {
   "codemirror_mode": {
    "name": "ipython",
    "version": 3
   },
   "file_extension": ".py",
   "mimetype": "text/x-python",
   "name": "python",
   "nbconvert_exporter": "python",
   "pygments_lexer": "ipython3",
   "version": "3.8.8"
  }
 },
 "nbformat": 4,
 "nbformat_minor": 5
}
