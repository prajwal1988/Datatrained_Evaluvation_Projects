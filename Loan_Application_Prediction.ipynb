{
 "cells": [
  {
   "cell_type": "code",
   "execution_count": null,
   "id": "e29dd1d9",
   "metadata": {},
   "outputs": [],
   "source": []
  },
  {
   "cell_type": "markdown",
   "id": "975078ad",
   "metadata": {},
   "source": [
    "# Loan Application Status Prediction"
   ]
  },
  {
   "cell_type": "code",
   "execution_count": 201,
   "id": "7eb22c66",
   "metadata": {},
   "outputs": [],
   "source": [
    "#importing all the required library.\n",
    "import numpy as np\n",
    "import pandas as pd\n",
    "import seaborn as sns\n",
    "import matplotlib.pyplot as plt\n",
    "from sklearn.svm import SVC\n",
    "from sklearn.tree import DecisionTreeClassifier,export_graphviz\n",
    "from sklearn.metrics import accuracy_score,confusion_matrix,classification_report,precision_recall_curve,roc_curve\n",
    "from scipy.stats import zscore\n",
    "from sklearn.ensemble import RandomForestClassifier\n",
    "from sklearn.preprocessing import MinMaxScaler\n",
    "from sklearn.preprocessing import PowerTransformer\n",
    "from sklearn.preprocessing import MinMaxScaler\n",
    "from sklearn.ensemble import AdaBoostClassifier\n",
    "import warnings\n",
    "warnings.filterwarnings('ignore')\n"
   ]
  },
  {
   "cell_type": "markdown",
   "id": "0f2a0fa6",
   "metadata": {},
   "source": [
    "# Examining the Data"
   ]
  },
  {
   "cell_type": "code",
   "execution_count": 79,
   "id": "779ebb72",
   "metadata": {},
   "outputs": [],
   "source": [
    "#reading loan prediction dataset\n",
    "df= pd.read_csv('https://raw.githubusercontent.com/dsrscientist/DSData/master/loan_prediction.csv')"
   ]
  },
  {
   "cell_type": "code",
   "execution_count": 81,
   "id": "b1052a3a",
   "metadata": {},
   "outputs": [
    {
     "data": {
      "text/html": [
       "<div>\n",
       "<style scoped>\n",
       "    .dataframe tbody tr th:only-of-type {\n",
       "        vertical-align: middle;\n",
       "    }\n",
       "\n",
       "    .dataframe tbody tr th {\n",
       "        vertical-align: top;\n",
       "    }\n",
       "\n",
       "    .dataframe thead th {\n",
       "        text-align: right;\n",
       "    }\n",
       "</style>\n",
       "<table border=\"1\" class=\"dataframe\">\n",
       "  <thead>\n",
       "    <tr style=\"text-align: right;\">\n",
       "      <th></th>\n",
       "      <th>Loan_ID</th>\n",
       "      <th>Gender</th>\n",
       "      <th>Married</th>\n",
       "      <th>Dependents</th>\n",
       "      <th>Education</th>\n",
       "      <th>Self_Employed</th>\n",
       "      <th>ApplicantIncome</th>\n",
       "      <th>CoapplicantIncome</th>\n",
       "      <th>LoanAmount</th>\n",
       "      <th>Loan_Amount_Term</th>\n",
       "      <th>Credit_History</th>\n",
       "      <th>Property_Area</th>\n",
       "      <th>Loan_Status</th>\n",
       "    </tr>\n",
       "  </thead>\n",
       "  <tbody>\n",
       "    <tr>\n",
       "      <th>0</th>\n",
       "      <td>LP001002</td>\n",
       "      <td>Male</td>\n",
       "      <td>No</td>\n",
       "      <td>0</td>\n",
       "      <td>Graduate</td>\n",
       "      <td>No</td>\n",
       "      <td>5849</td>\n",
       "      <td>0.0</td>\n",
       "      <td>NaN</td>\n",
       "      <td>360.0</td>\n",
       "      <td>1.0</td>\n",
       "      <td>Urban</td>\n",
       "      <td>Y</td>\n",
       "    </tr>\n",
       "    <tr>\n",
       "      <th>1</th>\n",
       "      <td>LP001003</td>\n",
       "      <td>Male</td>\n",
       "      <td>Yes</td>\n",
       "      <td>1</td>\n",
       "      <td>Graduate</td>\n",
       "      <td>No</td>\n",
       "      <td>4583</td>\n",
       "      <td>1508.0</td>\n",
       "      <td>128.0</td>\n",
       "      <td>360.0</td>\n",
       "      <td>1.0</td>\n",
       "      <td>Rural</td>\n",
       "      <td>N</td>\n",
       "    </tr>\n",
       "    <tr>\n",
       "      <th>2</th>\n",
       "      <td>LP001005</td>\n",
       "      <td>Male</td>\n",
       "      <td>Yes</td>\n",
       "      <td>0</td>\n",
       "      <td>Graduate</td>\n",
       "      <td>Yes</td>\n",
       "      <td>3000</td>\n",
       "      <td>0.0</td>\n",
       "      <td>66.0</td>\n",
       "      <td>360.0</td>\n",
       "      <td>1.0</td>\n",
       "      <td>Urban</td>\n",
       "      <td>Y</td>\n",
       "    </tr>\n",
       "    <tr>\n",
       "      <th>3</th>\n",
       "      <td>LP001006</td>\n",
       "      <td>Male</td>\n",
       "      <td>Yes</td>\n",
       "      <td>0</td>\n",
       "      <td>Not Graduate</td>\n",
       "      <td>No</td>\n",
       "      <td>2583</td>\n",
       "      <td>2358.0</td>\n",
       "      <td>120.0</td>\n",
       "      <td>360.0</td>\n",
       "      <td>1.0</td>\n",
       "      <td>Urban</td>\n",
       "      <td>Y</td>\n",
       "    </tr>\n",
       "    <tr>\n",
       "      <th>4</th>\n",
       "      <td>LP001008</td>\n",
       "      <td>Male</td>\n",
       "      <td>No</td>\n",
       "      <td>0</td>\n",
       "      <td>Graduate</td>\n",
       "      <td>No</td>\n",
       "      <td>6000</td>\n",
       "      <td>0.0</td>\n",
       "      <td>141.0</td>\n",
       "      <td>360.0</td>\n",
       "      <td>1.0</td>\n",
       "      <td>Urban</td>\n",
       "      <td>Y</td>\n",
       "    </tr>\n",
       "  </tbody>\n",
       "</table>\n",
       "</div>"
      ],
      "text/plain": [
       "    Loan_ID Gender Married Dependents     Education Self_Employed  \\\n",
       "0  LP001002   Male      No          0      Graduate            No   \n",
       "1  LP001003   Male     Yes          1      Graduate            No   \n",
       "2  LP001005   Male     Yes          0      Graduate           Yes   \n",
       "3  LP001006   Male     Yes          0  Not Graduate            No   \n",
       "4  LP001008   Male      No          0      Graduate            No   \n",
       "\n",
       "   ApplicantIncome  CoapplicantIncome  LoanAmount  Loan_Amount_Term  \\\n",
       "0             5849                0.0         NaN             360.0   \n",
       "1             4583             1508.0       128.0             360.0   \n",
       "2             3000                0.0        66.0             360.0   \n",
       "3             2583             2358.0       120.0             360.0   \n",
       "4             6000                0.0       141.0             360.0   \n",
       "\n",
       "   Credit_History Property_Area Loan_Status  \n",
       "0             1.0         Urban           Y  \n",
       "1             1.0         Rural           N  \n",
       "2             1.0         Urban           Y  \n",
       "3             1.0         Urban           Y  \n",
       "4             1.0         Urban           Y  "
      ]
     },
     "execution_count": 81,
     "metadata": {},
     "output_type": "execute_result"
    }
   ],
   "source": [
    "#analysing dataset head\n",
    "df.head()"
   ]
  },
  {
   "cell_type": "code",
   "execution_count": 82,
   "id": "68aefb04",
   "metadata": {},
   "outputs": [],
   "source": [
    "#droping Loan_id column\n",
    "df=df.drop(columns=['Loan_ID'])"
   ]
  },
  {
   "cell_type": "code",
   "execution_count": 83,
   "id": "a0b5c730",
   "metadata": {},
   "outputs": [
    {
     "name": "stdout",
     "output_type": "stream",
     "text": [
      "['Gender', 'Married', 'Dependents', 'Education', 'Self_Employed', 'Property_Area', 'Credit_History', 'Loan_Amount_Term']\n"
     ]
    }
   ],
   "source": [
    "# categorical data\n",
    "categorical_columns=['Gender','Married','Dependents','Education','Self_Employed','Property_Area','Credit_History','Loan_Amount_Term']\n",
    "print(categorical_columns)"
   ]
  },
  {
   "cell_type": "code",
   "execution_count": 84,
   "id": "c3dcf078",
   "metadata": {},
   "outputs": [
    {
     "name": "stdout",
     "output_type": "stream",
     "text": [
      "['ApplicantIncome', 'CoapplicantIncome', 'LoanAmount']\n"
     ]
    }
   ],
   "source": [
    "# numerical data\n",
    "numerical_columns=['ApplicantIncome','CoapplicantIncome','LoanAmount']\n",
    "print(numerical_columns)"
   ]
  },
  {
   "cell_type": "code",
   "execution_count": 85,
   "id": "6c566360",
   "metadata": {},
   "outputs": [
    {
     "name": "stdout",
     "output_type": "stream",
     "text": [
      "<class 'pandas.core.frame.DataFrame'>\n",
      "RangeIndex: 614 entries, 0 to 613\n",
      "Data columns (total 12 columns):\n",
      " #   Column             Non-Null Count  Dtype  \n",
      "---  ------             --------------  -----  \n",
      " 0   Gender             601 non-null    object \n",
      " 1   Married            611 non-null    object \n",
      " 2   Dependents         599 non-null    object \n",
      " 3   Education          614 non-null    object \n",
      " 4   Self_Employed      582 non-null    object \n",
      " 5   ApplicantIncome    614 non-null    int64  \n",
      " 6   CoapplicantIncome  614 non-null    float64\n",
      " 7   LoanAmount         592 non-null    float64\n",
      " 8   Loan_Amount_Term   600 non-null    float64\n",
      " 9   Credit_History     564 non-null    float64\n",
      " 10  Property_Area      614 non-null    object \n",
      " 11  Loan_Status        614 non-null    object \n",
      "dtypes: float64(4), int64(1), object(7)\n",
      "memory usage: 57.7+ KB\n"
     ]
    }
   ],
   "source": [
    "#checking information \n",
    "df.info()"
   ]
  },
  {
   "cell_type": "markdown",
   "id": "572f9a23",
   "metadata": {},
   "source": [
    "* there are  float64(4), int64(1), object(7) type   of data\n",
    "* there are no null values "
   ]
  },
  {
   "cell_type": "code",
   "execution_count": 86,
   "id": "beda5d89",
   "metadata": {},
   "outputs": [
    {
     "data": {
      "text/plain": [
       "(614, 12)"
      ]
     },
     "execution_count": 86,
     "metadata": {},
     "output_type": "execute_result"
    }
   ],
   "source": [
    "#checking data shape\n",
    "df.shape"
   ]
  },
  {
   "cell_type": "markdown",
   "id": "6654dd3e",
   "metadata": {},
   "source": [
    "* there are 614 rows 12 columns"
   ]
  },
  {
   "cell_type": "code",
   "execution_count": 87,
   "id": "36fff15a",
   "metadata": {},
   "outputs": [
    {
     "data": {
      "text/plain": [
       "Gender                object\n",
       "Married               object\n",
       "Dependents            object\n",
       "Education             object\n",
       "Self_Employed         object\n",
       "ApplicantIncome        int64\n",
       "CoapplicantIncome    float64\n",
       "LoanAmount           float64\n",
       "Loan_Amount_Term     float64\n",
       "Credit_History       float64\n",
       "Property_Area         object\n",
       "Loan_Status           object\n",
       "dtype: object"
      ]
     },
     "execution_count": 87,
     "metadata": {},
     "output_type": "execute_result"
    }
   ],
   "source": [
    "# checking data type\n",
    "df.dtypes"
   ]
  },
  {
   "cell_type": "markdown",
   "id": "089b2f99",
   "metadata": {},
   "source": [
    "* there are two types of dataset"
   ]
  },
  {
   "cell_type": "code",
   "execution_count": 88,
   "id": "b31a42bf",
   "metadata": {
    "scrolled": true
   },
   "outputs": [
    {
     "data": {
      "text/plain": [
       "Index(['Gender', 'Married', 'Dependents', 'Education', 'Self_Employed',\n",
       "       'ApplicantIncome', 'CoapplicantIncome', 'LoanAmount',\n",
       "       'Loan_Amount_Term', 'Credit_History', 'Property_Area', 'Loan_Status'],\n",
       "      dtype='object')"
      ]
     },
     "execution_count": 88,
     "metadata": {},
     "output_type": "execute_result"
    }
   ],
   "source": [
    "#checking dataset columns\n",
    "df.columns"
   ]
  },
  {
   "cell_type": "markdown",
   "id": "88ba506b",
   "metadata": {},
   "source": [
    "* there are 12 columns"
   ]
  },
  {
   "cell_type": "code",
   "execution_count": 89,
   "id": "da73ac38",
   "metadata": {},
   "outputs": [
    {
     "data": {
      "text/plain": [
       "Gender               13\n",
       "Married               3\n",
       "Dependents           15\n",
       "Education             0\n",
       "Self_Employed        32\n",
       "ApplicantIncome       0\n",
       "CoapplicantIncome     0\n",
       "LoanAmount           22\n",
       "Loan_Amount_Term     14\n",
       "Credit_History       50\n",
       "Property_Area         0\n",
       "Loan_Status           0\n",
       "dtype: int64"
      ]
     },
     "execution_count": 89,
     "metadata": {},
     "output_type": "execute_result"
    }
   ],
   "source": [
    "#checking null values\n",
    "df.isnull().sum()"
   ]
  },
  {
   "cell_type": "markdown",
   "id": "6d6aebfb",
   "metadata": {},
   "source": [
    "* Dataset contains some null values"
   ]
  },
  {
   "cell_type": "markdown",
   "id": "69bbbbb1",
   "metadata": {},
   "source": [
    "# Summary Statistics"
   ]
  },
  {
   "cell_type": "code",
   "execution_count": 90,
   "id": "0ce2f7b0",
   "metadata": {
    "scrolled": true
   },
   "outputs": [
    {
     "data": {
      "text/html": [
       "<div>\n",
       "<style scoped>\n",
       "    .dataframe tbody tr th:only-of-type {\n",
       "        vertical-align: middle;\n",
       "    }\n",
       "\n",
       "    .dataframe tbody tr th {\n",
       "        vertical-align: top;\n",
       "    }\n",
       "\n",
       "    .dataframe thead th {\n",
       "        text-align: right;\n",
       "    }\n",
       "</style>\n",
       "<table border=\"1\" class=\"dataframe\">\n",
       "  <thead>\n",
       "    <tr style=\"text-align: right;\">\n",
       "      <th></th>\n",
       "      <th>ApplicantIncome</th>\n",
       "      <th>CoapplicantIncome</th>\n",
       "      <th>LoanAmount</th>\n",
       "      <th>Loan_Amount_Term</th>\n",
       "      <th>Credit_History</th>\n",
       "    </tr>\n",
       "  </thead>\n",
       "  <tbody>\n",
       "    <tr>\n",
       "      <th>count</th>\n",
       "      <td>614.000000</td>\n",
       "      <td>614.000000</td>\n",
       "      <td>592.000000</td>\n",
       "      <td>600.00000</td>\n",
       "      <td>564.000000</td>\n",
       "    </tr>\n",
       "    <tr>\n",
       "      <th>mean</th>\n",
       "      <td>5403.459283</td>\n",
       "      <td>1621.245798</td>\n",
       "      <td>146.412162</td>\n",
       "      <td>342.00000</td>\n",
       "      <td>0.842199</td>\n",
       "    </tr>\n",
       "    <tr>\n",
       "      <th>std</th>\n",
       "      <td>6109.041673</td>\n",
       "      <td>2926.248369</td>\n",
       "      <td>85.587325</td>\n",
       "      <td>65.12041</td>\n",
       "      <td>0.364878</td>\n",
       "    </tr>\n",
       "    <tr>\n",
       "      <th>min</th>\n",
       "      <td>150.000000</td>\n",
       "      <td>0.000000</td>\n",
       "      <td>9.000000</td>\n",
       "      <td>12.00000</td>\n",
       "      <td>0.000000</td>\n",
       "    </tr>\n",
       "    <tr>\n",
       "      <th>25%</th>\n",
       "      <td>2877.500000</td>\n",
       "      <td>0.000000</td>\n",
       "      <td>100.000000</td>\n",
       "      <td>360.00000</td>\n",
       "      <td>1.000000</td>\n",
       "    </tr>\n",
       "    <tr>\n",
       "      <th>50%</th>\n",
       "      <td>3812.500000</td>\n",
       "      <td>1188.500000</td>\n",
       "      <td>128.000000</td>\n",
       "      <td>360.00000</td>\n",
       "      <td>1.000000</td>\n",
       "    </tr>\n",
       "    <tr>\n",
       "      <th>75%</th>\n",
       "      <td>5795.000000</td>\n",
       "      <td>2297.250000</td>\n",
       "      <td>168.000000</td>\n",
       "      <td>360.00000</td>\n",
       "      <td>1.000000</td>\n",
       "    </tr>\n",
       "    <tr>\n",
       "      <th>max</th>\n",
       "      <td>81000.000000</td>\n",
       "      <td>41667.000000</td>\n",
       "      <td>700.000000</td>\n",
       "      <td>480.00000</td>\n",
       "      <td>1.000000</td>\n",
       "    </tr>\n",
       "  </tbody>\n",
       "</table>\n",
       "</div>"
      ],
      "text/plain": [
       "       ApplicantIncome  CoapplicantIncome  LoanAmount  Loan_Amount_Term  \\\n",
       "count       614.000000         614.000000  592.000000         600.00000   \n",
       "mean       5403.459283        1621.245798  146.412162         342.00000   \n",
       "std        6109.041673        2926.248369   85.587325          65.12041   \n",
       "min         150.000000           0.000000    9.000000          12.00000   \n",
       "25%        2877.500000           0.000000  100.000000         360.00000   \n",
       "50%        3812.500000        1188.500000  128.000000         360.00000   \n",
       "75%        5795.000000        2297.250000  168.000000         360.00000   \n",
       "max       81000.000000       41667.000000  700.000000         480.00000   \n",
       "\n",
       "       Credit_History  \n",
       "count      564.000000  \n",
       "mean         0.842199  \n",
       "std          0.364878  \n",
       "min          0.000000  \n",
       "25%          1.000000  \n",
       "50%          1.000000  \n",
       "75%          1.000000  \n",
       "max          1.000000  "
      ]
     },
     "execution_count": 90,
     "metadata": {},
     "output_type": "execute_result"
    }
   ],
   "source": [
    "#describing dataset\n",
    "df.describe()"
   ]
  },
  {
   "cell_type": "markdown",
   "id": "7bb6a034",
   "metadata": {},
   "source": [
    "* There are some missing values\n",
    "* The mean is more than median in some of the       columns\n",
    "* There are extreme outliers in some of the         columns"
   ]
  },
  {
   "cell_type": "code",
   "execution_count": 91,
   "id": "4a5cfa45",
   "metadata": {},
   "outputs": [
    {
     "data": {
      "text/plain": [
       "array(['Y', 'N'], dtype=object)"
      ]
     },
     "execution_count": 91,
     "metadata": {},
     "output_type": "execute_result"
    }
   ],
   "source": [
    "#loan status\n",
    "df.Loan_Status.unique()"
   ]
  },
  {
   "cell_type": "code",
   "execution_count": 92,
   "id": "00c48de0",
   "metadata": {},
   "outputs": [
    {
     "data": {
      "text/plain": [
       "Y    422\n",
       "N    192\n",
       "Name: Loan_Status, dtype: int64"
      ]
     },
     "execution_count": 92,
     "metadata": {},
     "output_type": "execute_result"
    }
   ],
   "source": [
    "#value count\n",
    "df.Loan_Status.value_counts()"
   ]
  },
  {
   "cell_type": "markdown",
   "id": "3934dfd7",
   "metadata": {},
   "source": [
    "* There are X and Y categories "
   ]
  },
  {
   "cell_type": "markdown",
   "id": "96fbabe6",
   "metadata": {},
   "source": [
    "# Data Visualizations"
   ]
  },
  {
   "cell_type": "code",
   "execution_count": 93,
   "id": "85788018",
   "metadata": {},
   "outputs": [
    {
     "data": {
      "text/plain": [
       "<AxesSubplot:xlabel='Gender', ylabel='count'>"
      ]
     },
     "execution_count": 93,
     "metadata": {},
     "output_type": "execute_result"
    },
    {
     "data": {
      "image/png": "[encoded data removed]",
      "text/plain": [
       "<Figure size 432x288 with 1 Axes>"
      ]
     },
     "metadata": {
      "needs_background": "light"
     },
     "output_type": "display_data"
    }
   ],
   "source": [
    "sns.countplot(df['Gender'])"
   ]
  },
  {
   "cell_type": "markdown",
   "id": "5303dbeb",
   "metadata": {},
   "source": [
    "* Here data not distributed normally in these       columns."
   ]
  },
  {
   "cell_type": "code",
   "execution_count": 94,
   "id": "aa10bf59",
   "metadata": {},
   "outputs": [
    {
     "data": {
      "text/plain": [
       "<AxesSubplot:xlabel='Married', ylabel='count'>"
      ]
     },
     "execution_count": 94,
     "metadata": {},
     "output_type": "execute_result"
    },
    {
     "data": {
      "image/png": "[encoded data removed]",
      "text/plain": [
       "<Figure size 432x288 with 1 Axes>"
      ]
     },
     "metadata": {
      "needs_background": "light"
     },
     "output_type": "display_data"
    }
   ],
   "source": [
    "sns.countplot(df['Married'])"
   ]
  },
  {
   "cell_type": "markdown",
   "id": "ee5364c2",
   "metadata": {},
   "source": [
    "* Here data not distributed normally in these       columns."
   ]
  },
  {
   "cell_type": "code",
   "execution_count": 95,
   "id": "b9e39bc6",
   "metadata": {},
   "outputs": [
    {
     "data": {
      "text/plain": [
       "<AxesSubplot:xlabel='Dependents', ylabel='count'>"
      ]
     },
     "execution_count": 95,
     "metadata": {},
     "output_type": "execute_result"
    },
    {
     "data": {
      "image/png": "[encoded data removed]",
      "text/plain": [
       "<Figure size 432x288 with 1 Axes>"
      ]
     },
     "metadata": {
      "needs_background": "light"
     },
     "output_type": "display_data"
    }
   ],
   "source": [
    "sns.countplot(df['Dependents'])"
   ]
  },
  {
   "cell_type": "markdown",
   "id": "02742311",
   "metadata": {},
   "source": [
    "* Here data not distributed normally in these       columns."
   ]
  },
  {
   "cell_type": "code",
   "execution_count": 96,
   "id": "4a49b3ef",
   "metadata": {},
   "outputs": [
    {
     "data": {
      "text/plain": [
       "<AxesSubplot:xlabel='Education', ylabel='count'>"
      ]
     },
     "execution_count": 96,
     "metadata": {},
     "output_type": "execute_result"
    },
    {
     "data": {
      "image/png": "[encoded data removed]",
      "text/plain": [
       "<Figure size 432x288 with 1 Axes>"
      ]
     },
     "metadata": {
      "needs_background": "light"
     },
     "output_type": "display_data"
    }
   ],
   "source": [
    "sns.countplot(df['Education'])"
   ]
  },
  {
   "cell_type": "markdown",
   "id": "ab796b32",
   "metadata": {},
   "source": [
    "* Here data not distributed normally in these       columns."
   ]
  },
  {
   "cell_type": "code",
   "execution_count": 97,
   "id": "3c1ce035",
   "metadata": {},
   "outputs": [
    {
     "data": {
      "text/plain": [
       "<AxesSubplot:xlabel='Self_Employed', ylabel='count'>"
      ]
     },
     "execution_count": 97,
     "metadata": {},
     "output_type": "execute_result"
    },
    {
     "data": {
      "image/png": "[encoded data removed]",
      "text/plain": [
       "<Figure size 432x288 with 1 Axes>"
      ]
     },
     "metadata": {
      "needs_background": "light"
     },
     "output_type": "display_data"
    }
   ],
   "source": [
    "sns.countplot(df['Self_Employed'])"
   ]
  },
  {
   "cell_type": "markdown",
   "id": "a800b400",
   "metadata": {},
   "source": [
    "* Here data not distributed normally in these       columns."
   ]
  },
  {
   "cell_type": "code",
   "execution_count": 98,
   "id": "495ade27",
   "metadata": {},
   "outputs": [
    {
     "data": {
      "text/plain": [
       "<AxesSubplot:xlabel='ApplicantIncome', ylabel='count'>"
      ]
     },
     "execution_count": 98,
     "metadata": {},
     "output_type": "execute_result"
    },
    {
     "data": {
      "image/png": "[encoded data removed]",
      "text/plain": [
       "<Figure size 432x288 with 1 Axes>"
      ]
     },
     "metadata": {
      "needs_background": "light"
     },
     "output_type": "display_data"
    }
   ],
   "source": [
    "sns.countplot(df['ApplicantIncome'])"
   ]
  },
  {
   "cell_type": "markdown",
   "id": "402b740a",
   "metadata": {},
   "source": [
    "* Here data not distributed normally in these       columns."
   ]
  },
  {
   "cell_type": "code",
   "execution_count": 99,
   "id": "1becc931",
   "metadata": {},
   "outputs": [
    {
     "data": {
      "text/plain": [
       "<seaborn.axisgrid.FacetGrid at 0x7fdd048dba30>"
      ]
     },
     "execution_count": 99,
     "metadata": {},
     "output_type": "execute_result"
    },
    {
     "data": {
      "image/png": "[encoded data removed]",
      "text/plain": [
       "<Figure size 360x360 with 1 Axes>"
      ]
     },
     "metadata": {
      "needs_background": "light"
     },
     "output_type": "display_data"
    }
   ],
   "source": [
    "sns.displot(df['Loan_Status'])"
   ]
  },
  {
   "cell_type": "markdown",
   "id": "96a27aed",
   "metadata": {},
   "source": [
    "* Here data not distributed normally in these       columns and viscuse problem."
   ]
  },
  {
   "cell_type": "code",
   "execution_count": 100,
   "id": "d2edaee5",
   "metadata": {},
   "outputs": [
    {
     "data": {
      "text/plain": [
       "<seaborn.axisgrid.FacetGrid at 0x7fdd048dbd90>"
      ]
     },
     "execution_count": 100,
     "metadata": {},
     "output_type": "execute_result"
    },
    {
     "data": {
      "image/png": "[encoded data removed]",
      "text/plain": [
       "<Figure size 360x360 with 1 Axes>"
      ]
     },
     "metadata": {
      "needs_background": "light"
     },
     "output_type": "display_data"
    }
   ],
   "source": [
    "sns.displot(df['Property_Area'])"
   ]
  },
  {
   "cell_type": "markdown",
   "id": "4c6db7fa",
   "metadata": {},
   "source": [
    "* Here data not distributed normally in these       columns and viscuse problem."
   ]
  },
  {
   "cell_type": "code",
   "execution_count": 101,
   "id": "4e6f8657",
   "metadata": {},
   "outputs": [
    {
     "data": {
      "text/plain": [
       "<seaborn.axisgrid.FacetGrid at 0x7fdcf0a48df0>"
      ]
     },
     "execution_count": 101,
     "metadata": {},
     "output_type": "execute_result"
    },
    {
     "data": {
      "image/png": "[encoded data removed]",
      "text/plain": [
       "<Figure size 360x360 with 1 Axes>"
      ]
     },
     "metadata": {
      "needs_background": "light"
     },
     "output_type": "display_data"
    }
   ],
   "source": [
    "sns.displot(df['Credit_History'])"
   ]
  },
  {
   "cell_type": "markdown",
   "id": "5f17c40c",
   "metadata": {},
   "source": [
    "* Here data not distributed normally in these       columns."
   ]
  },
  {
   "cell_type": "code",
   "execution_count": 102,
   "id": "b83f3818",
   "metadata": {},
   "outputs": [
    {
     "data": {
      "text/plain": [
       "<seaborn.axisgrid.FacetGrid at 0x7fdd04d8bac0>"
      ]
     },
     "execution_count": 102,
     "metadata": {},
     "output_type": "execute_result"
    },
    {
     "data": {
      "image/png": "[encoded data removed]",
      "text/plain": [
       "<Figure size 360x360 with 1 Axes>"
      ]
     },
     "metadata": {
      "needs_background": "light"
     },
     "output_type": "display_data"
    }
   ],
   "source": [
    "sns.displot(df['Loan_Amount_Term'])"
   ]
  },
  {
   "cell_type": "markdown",
   "id": "0324fc29",
   "metadata": {},
   "source": [
    "* Here data not distributed normally in these       columns."
   ]
  },
  {
   "cell_type": "code",
   "execution_count": 103,
   "id": "5421ff22",
   "metadata": {},
   "outputs": [
    {
     "data": {
      "text/plain": [
       "<seaborn.axisgrid.FacetGrid at 0x7fdce203d6a0>"
      ]
     },
     "execution_count": 103,
     "metadata": {},
     "output_type": "execute_result"
    },
    {
     "data": {
      "image/png": "[encoded data removed]",
      "text/plain": [
       "<Figure size 360x360 with 1 Axes>"
      ]
     },
     "metadata": {
      "needs_background": "light"
     },
     "output_type": "display_data"
    }
   ],
   "source": [
    "sns.displot(df['LoanAmount'])"
   ]
  },
  {
   "cell_type": "markdown",
   "id": "6e859637",
   "metadata": {},
   "source": [
    "* Here data not distributed normally in these       columns."
   ]
  },
  {
   "cell_type": "code",
   "execution_count": 104,
   "id": "a20b635d",
   "metadata": {},
   "outputs": [
    {
     "data": {
      "text/plain": [
       "<AxesSubplot:>"
      ]
     },
     "execution_count": 104,
     "metadata": {},
     "output_type": "execute_result"
    },
    {
     "data": {
      "image/png": "[encoded data removed]",
      "text/plain": [
       "<Figure size 432x288 with 2 Axes>"
      ]
     },
     "metadata": {
      "needs_background": "light"
     },
     "output_type": "display_data"
    }
   ],
   "source": [
    "sns.heatmap(df.isnull())"
   ]
  },
  {
   "cell_type": "markdown",
   "id": "732c9540",
   "metadata": {},
   "source": [
    "* we can see there are some null values in almost   all the columns."
   ]
  },
  {
   "cell_type": "code",
   "execution_count": 105,
   "id": "27d98b62",
   "metadata": {},
   "outputs": [
    {
     "data": {
      "text/html": [
       "<div>\n",
       "<style scoped>\n",
       "    .dataframe tbody tr th:only-of-type {\n",
       "        vertical-align: middle;\n",
       "    }\n",
       "\n",
       "    .dataframe tbody tr th {\n",
       "        vertical-align: top;\n",
       "    }\n",
       "\n",
       "    .dataframe thead th {\n",
       "        text-align: right;\n",
       "    }\n",
       "</style>\n",
       "<table border=\"1\" class=\"dataframe\">\n",
       "  <thead>\n",
       "    <tr style=\"text-align: right;\">\n",
       "      <th></th>\n",
       "      <th>ApplicantIncome</th>\n",
       "      <th>CoapplicantIncome</th>\n",
       "      <th>LoanAmount</th>\n",
       "      <th>Loan_Amount_Term</th>\n",
       "      <th>Credit_History</th>\n",
       "    </tr>\n",
       "  </thead>\n",
       "  <tbody>\n",
       "    <tr>\n",
       "      <th>ApplicantIncome</th>\n",
       "      <td>1.000000</td>\n",
       "      <td>-0.116605</td>\n",
       "      <td>0.570909</td>\n",
       "      <td>-0.045306</td>\n",
       "      <td>-0.014715</td>\n",
       "    </tr>\n",
       "    <tr>\n",
       "      <th>CoapplicantIncome</th>\n",
       "      <td>-0.116605</td>\n",
       "      <td>1.000000</td>\n",
       "      <td>0.188619</td>\n",
       "      <td>-0.059878</td>\n",
       "      <td>-0.002056</td>\n",
       "    </tr>\n",
       "    <tr>\n",
       "      <th>LoanAmount</th>\n",
       "      <td>0.570909</td>\n",
       "      <td>0.188619</td>\n",
       "      <td>1.000000</td>\n",
       "      <td>0.039447</td>\n",
       "      <td>-0.008433</td>\n",
       "    </tr>\n",
       "    <tr>\n",
       "      <th>Loan_Amount_Term</th>\n",
       "      <td>-0.045306</td>\n",
       "      <td>-0.059878</td>\n",
       "      <td>0.039447</td>\n",
       "      <td>1.000000</td>\n",
       "      <td>0.001470</td>\n",
       "    </tr>\n",
       "    <tr>\n",
       "      <th>Credit_History</th>\n",
       "      <td>-0.014715</td>\n",
       "      <td>-0.002056</td>\n",
       "      <td>-0.008433</td>\n",
       "      <td>0.001470</td>\n",
       "      <td>1.000000</td>\n",
       "    </tr>\n",
       "  </tbody>\n",
       "</table>\n",
       "</div>"
      ],
      "text/plain": [
       "                   ApplicantIncome  CoapplicantIncome  LoanAmount  \\\n",
       "ApplicantIncome           1.000000          -0.116605    0.570909   \n",
       "CoapplicantIncome        -0.116605           1.000000    0.188619   \n",
       "LoanAmount                0.570909           0.188619    1.000000   \n",
       "Loan_Amount_Term         -0.045306          -0.059878    0.039447   \n",
       "Credit_History           -0.014715          -0.002056   -0.008433   \n",
       "\n",
       "                   Loan_Amount_Term  Credit_History  \n",
       "ApplicantIncome           -0.045306       -0.014715  \n",
       "CoapplicantIncome         -0.059878       -0.002056  \n",
       "LoanAmount                 0.039447       -0.008433  \n",
       "Loan_Amount_Term           1.000000        0.001470  \n",
       "Credit_History             0.001470        1.000000  "
      ]
     },
     "execution_count": 105,
     "metadata": {},
     "output_type": "execute_result"
    }
   ],
   "source": [
    "#cheking correlation \n",
    "dfcor=df.corr()\n",
    "dfcor"
   ]
  },
  {
   "cell_type": "code",
   "execution_count": 106,
   "id": "4e0fa6a7",
   "metadata": {},
   "outputs": [
    {
     "data": {
      "text/plain": [
       "<AxesSubplot:>"
      ]
     },
     "execution_count": 106,
     "metadata": {},
     "output_type": "execute_result"
    },
    {
     "data": {
      "image/png": "[encoded data removed]",
      "text/plain": [
       "<Figure size 432x288 with 2 Axes>"
      ]
     },
     "metadata": {
      "needs_background": "light"
     },
     "output_type": "display_data"
    }
   ],
   "source": [
    "#ploting heatmap for correlation\n",
    "sns.heatmap(dfcor)"
   ]
  },
  {
   "cell_type": "markdown",
   "id": "86a54812",
   "metadata": {},
   "source": [
    "* Heatmap contains the difference of corresponding   values of dataset.\n",
    "* Light shades are higly correlated."
   ]
  },
  {
   "cell_type": "code",
   "execution_count": 107,
   "id": "fc2cdc04",
   "metadata": {},
   "outputs": [
    {
     "data": {
      "text/plain": [
       "<AxesSubplot:>"
      ]
     },
     "execution_count": 107,
     "metadata": {},
     "output_type": "execute_result"
    },
    {
     "data": {
      "image/png": "[encoded data removed]",
      "text/plain": [
       "<Figure size 432x288 with 2 Axes>"
      ]
     },
     "metadata": {
      "needs_background": "light"
     },
     "output_type": "display_data"
    }
   ],
   "source": [
    "#ploting heatmap\n",
    "plt.figure(figsize=(6,4))\n",
    "sns.heatmap(dfcor,cmap='Blues',annot=True)"
   ]
  },
  {
   "cell_type": "markdown",
   "id": "3e91f327",
   "metadata": {},
   "source": [
    "* Dark shades are higly correlated"
   ]
  },
  {
   "cell_type": "code",
   "execution_count": 108,
   "id": "cd88f0d0",
   "metadata": {
    "scrolled": true
   },
   "outputs": [
    {
     "data": {
      "text/plain": [
       "<AxesSubplot:>"
      ]
     },
     "execution_count": 108,
     "metadata": {},
     "output_type": "execute_result"
    },
    {
     "data": {
      "image/png": "[encoded data removed]",
      "text/plain": [
       "<Figure size 864x576 with 2 Axes>"
      ]
     },
     "metadata": {
      "needs_background": "light"
     },
     "output_type": "display_data"
    }
   ],
   "source": [
    "#ploting heatmap\n",
    "plt.figure(figsize=(12,8))\n",
    "sns.heatmap(dfcor,cmap='Oranges',annot=True)"
   ]
  },
  {
   "cell_type": "markdown",
   "id": "6d67f24f",
   "metadata": {},
   "source": [
    "* Light shades are higly correlated\n",
    "* Credit History is higly correlated with Loan       Amount Term\n",
    "* Loan Amount Term is higly negatively correlated   with Loan Amount\n",
    "* Loan Amount is higly positvely correlated with     Application Income\n",
    "* Application Income is negatively correlated with   Credit History"
   ]
  },
  {
   "cell_type": "markdown",
   "id": "a994de43",
   "metadata": {},
   "source": [
    "# Plotting Outliers"
   ]
  },
  {
   "cell_type": "code",
   "execution_count": 109,
   "id": "343ea6ef",
   "metadata": {},
   "outputs": [
    {
     "data": {
      "text/plain": [
       "Index(['Gender', 'Married', 'Dependents', 'Education', 'Self_Employed',\n",
       "       'ApplicantIncome', 'CoapplicantIncome', 'LoanAmount',\n",
       "       'Loan_Amount_Term', 'Credit_History', 'Property_Area', 'Loan_Status'],\n",
       "      dtype='object')"
      ]
     },
     "execution_count": 109,
     "metadata": {},
     "output_type": "execute_result"
    }
   ],
   "source": [
    "#columns\n",
    "df.columns"
   ]
  },
  {
   "cell_type": "code",
   "execution_count": 110,
   "id": "91e1f03f",
   "metadata": {},
   "outputs": [
    {
     "data": {
      "text/plain": [
       "<AxesSubplot:>"
      ]
     },
     "execution_count": 110,
     "metadata": {},
     "output_type": "execute_result"
    },
    {
     "data": {
      "image/png": "[encoded data removed]",
      "text/plain": [
       "<Figure size 432x288 with 1 Axes>"
      ]
     },
     "metadata": {
      "needs_background": "light"
     },
     "output_type": "display_data"
    }
   ],
   "source": [
    "#ploting credit history\n",
    "df['Credit_History'].plot.box()"
   ]
  },
  {
   "cell_type": "markdown",
   "id": "9d0bc527",
   "metadata": {},
   "source": [
    "* Viscous is outside so there is a outliers in credit history."
   ]
  },
  {
   "cell_type": "code",
   "execution_count": 111,
   "id": "320fbccc",
   "metadata": {},
   "outputs": [
    {
     "data": {
      "text/plain": [
       "<AxesSubplot:>"
      ]
     },
     "execution_count": 111,
     "metadata": {},
     "output_type": "execute_result"
    },
    {
     "data": {
      "image/png": "[encoded data removed]",
      "text/plain": [
       "<Figure size 432x288 with 1 Axes>"
      ]
     },
     "metadata": {
      "needs_background": "light"
     },
     "output_type": "display_data"
    }
   ],
   "source": [
    "#ploting loan amount term\n",
    "df['Loan_Amount_Term'].plot.box()"
   ]
  },
  {
   "cell_type": "markdown",
   "id": "082f3125",
   "metadata": {},
   "source": [
    "* Here Loan Amount Term have outside the viscous so we can find the outliers here."
   ]
  },
  {
   "cell_type": "code",
   "execution_count": 112,
   "id": "211ccd54",
   "metadata": {},
   "outputs": [
    {
     "data": {
      "text/plain": [
       "<AxesSubplot:>"
      ]
     },
     "execution_count": 112,
     "metadata": {},
     "output_type": "execute_result"
    },
    {
     "data": {
      "image/png": "[encoded data removed]",
      "text/plain": [
       "<Figure size 432x288 with 1 Axes>"
      ]
     },
     "metadata": {
      "needs_background": "light"
     },
     "output_type": "display_data"
    }
   ],
   "source": [
    "#ploting loan amount\n",
    "df['LoanAmount'].plot.box()"
   ]
  },
  {
   "cell_type": "markdown",
   "id": "d08b7e72",
   "metadata": {},
   "source": [
    "* Here LoanAmount is outside the viscous so we can find outliers here."
   ]
  },
  {
   "cell_type": "code",
   "execution_count": 113,
   "id": "1e7c4cec",
   "metadata": {},
   "outputs": [
    {
     "data": {
      "text/plain": [
       "<AxesSubplot:>"
      ]
     },
     "execution_count": 113,
     "metadata": {},
     "output_type": "execute_result"
    },
    {
     "data": {
      "image/png": "[encoded data removed]",
      "text/plain": [
       "<Figure size 432x288 with 1 Axes>"
      ]
     },
     "metadata": {
      "needs_background": "light"
     },
     "output_type": "display_data"
    }
   ],
   "source": [
    "#ploting applicant income \n",
    "df['ApplicantIncome'].plot.box()"
   ]
  },
  {
   "cell_type": "markdown",
   "id": "ebb377bd",
   "metadata": {},
   "source": [
    "* Here applicant income is outside the viscous so we can find outliers here."
   ]
  },
  {
   "cell_type": "code",
   "execution_count": 114,
   "id": "bcfcb45b",
   "metadata": {},
   "outputs": [
    {
     "data": {
      "text/plain": [
       "<AxesSubplot:>"
      ]
     },
     "execution_count": 114,
     "metadata": {},
     "output_type": "execute_result"
    },
    {
     "data": {
      "image/png": "[encoded data removed]",
      "text/plain": [
       "<Figure size 432x288 with 1 Axes>"
      ]
     },
     "metadata": {
      "needs_background": "light"
     },
     "output_type": "display_data"
    }
   ],
   "source": [
    "#ploting coapplicant income\n",
    "df['CoapplicantIncome'].plot.box()"
   ]
  },
  {
   "cell_type": "markdown",
   "id": "d4cc59e6",
   "metadata": {},
   "source": [
    "* Here co applicant income is outside the viscous so we can find outliers here."
   ]
  },
  {
   "cell_type": "code",
   "execution_count": 115,
   "id": "6e6087df",
   "metadata": {},
   "outputs": [
    {
     "data": {
      "text/plain": [
       "(614, 12)"
      ]
     },
     "execution_count": 115,
     "metadata": {},
     "output_type": "execute_result"
    }
   ],
   "source": [
    "#dataset shape\n",
    "df.shape"
   ]
  },
  {
   "cell_type": "markdown",
   "id": "18c6832c",
   "metadata": {},
   "source": [
    "* There are 614 rows and 12 columns"
   ]
  },
  {
   "cell_type": "markdown",
   "id": "4a19649e",
   "metadata": {},
   "source": [
    "## Checking Skewness of Dataset"
   ]
  },
  {
   "cell_type": "code",
   "execution_count": 116,
   "id": "0aa0fdf0",
   "metadata": {},
   "outputs": [
    {
     "data": {
      "text/plain": [
       "<matplotlib.collections.PathCollection at 0x7fdd052cd520>"
      ]
     },
     "execution_count": 116,
     "metadata": {},
     "output_type": "execute_result"
    },
    {
     "data": {
      "image/png": "[encoded data removed]",
      "text/plain": [
       "<Figure size 432x288 with 1 Axes>"
      ]
     },
     "metadata": {
      "needs_background": "light"
     },
     "output_type": "display_data"
    }
   ],
   "source": [
    "#ploting scatter to loan amount term and loan status\n",
    "plt.scatter(df['Loan_Amount_Term'],df['Loan_Status'])"
   ]
  },
  {
   "cell_type": "markdown",
   "id": "1fbe0622",
   "metadata": {},
   "source": [
    "* we ca n see the values distributed in loan amount term and loan status"
   ]
  },
  {
   "cell_type": "code",
   "execution_count": 117,
   "id": "cd391593",
   "metadata": {},
   "outputs": [
    {
     "data": {
      "text/plain": [
       "<seaborn.axisgrid.PairGrid at 0x7fdce2246f10>"
      ]
     },
     "execution_count": 117,
     "metadata": {},
     "output_type": "execute_result"
    },
    {
     "data": {
      "image/png": "[encoded data removed]",
      "text/plain": [
       "<Figure size 900x900 with 30 Axes>"
      ]
     },
     "metadata": {
      "needs_background": "light"
     },
     "output_type": "display_data"
    }
   ],
   "source": [
    "#ploting pairplot\n",
    "sns.pairplot(df)"
   ]
  },
  {
   "cell_type": "markdown",
   "id": "eee82024",
   "metadata": {},
   "source": [
    "* Have to remove the missing values\n",
    "* Have Drop the negative correlated\n",
    "* Have to remove the outliers"
   ]
  },
  {
   "cell_type": "code",
   "execution_count": 118,
   "id": "afecd033",
   "metadata": {},
   "outputs": [
    {
     "data": {
      "image/png": "[encoded data removed]",
      "text/plain": [
       "<Figure size 432x288 with 1 Axes>"
      ]
     },
     "metadata": {
      "needs_background": "light"
     },
     "output_type": "display_data"
    }
   ],
   "source": [
    "# plotting scatter to applicant income and loan status\n",
    "plt.scatter(df['ApplicantIncome'],df['Loan_Status'])\n",
    "plt.show()"
   ]
  },
  {
   "cell_type": "markdown",
   "id": "7b3838b8",
   "metadata": {},
   "source": [
    "* We can see the destribution of applicant income and loan status"
   ]
  },
  {
   "cell_type": "code",
   "execution_count": 119,
   "id": "73bc1be8",
   "metadata": {},
   "outputs": [
    {
     "data": {
      "text/html": [
       "<div>\n",
       "<style scoped>\n",
       "    .dataframe tbody tr th:only-of-type {\n",
       "        vertical-align: middle;\n",
       "    }\n",
       "\n",
       "    .dataframe tbody tr th {\n",
       "        vertical-align: top;\n",
       "    }\n",
       "\n",
       "    .dataframe thead th {\n",
       "        text-align: right;\n",
       "    }\n",
       "</style>\n",
       "<table border=\"1\" class=\"dataframe\">\n",
       "  <thead>\n",
       "    <tr style=\"text-align: right;\">\n",
       "      <th></th>\n",
       "      <th>Gender</th>\n",
       "      <th>Married</th>\n",
       "      <th>Dependents</th>\n",
       "      <th>Education</th>\n",
       "      <th>Self_Employed</th>\n",
       "      <th>CoapplicantIncome</th>\n",
       "      <th>LoanAmount</th>\n",
       "      <th>Loan_Amount_Term</th>\n",
       "      <th>Credit_History</th>\n",
       "      <th>Property_Area</th>\n",
       "      <th>Loan_Status</th>\n",
       "    </tr>\n",
       "  </thead>\n",
       "  <tbody>\n",
       "    <tr>\n",
       "      <th>0</th>\n",
       "      <td>Male</td>\n",
       "      <td>No</td>\n",
       "      <td>0</td>\n",
       "      <td>Graduate</td>\n",
       "      <td>No</td>\n",
       "      <td>0.0</td>\n",
       "      <td>NaN</td>\n",
       "      <td>360.0</td>\n",
       "      <td>1.0</td>\n",
       "      <td>Urban</td>\n",
       "      <td>Y</td>\n",
       "    </tr>\n",
       "    <tr>\n",
       "      <th>1</th>\n",
       "      <td>Male</td>\n",
       "      <td>Yes</td>\n",
       "      <td>1</td>\n",
       "      <td>Graduate</td>\n",
       "      <td>No</td>\n",
       "      <td>1508.0</td>\n",
       "      <td>128.0</td>\n",
       "      <td>360.0</td>\n",
       "      <td>1.0</td>\n",
       "      <td>Rural</td>\n",
       "      <td>N</td>\n",
       "    </tr>\n",
       "    <tr>\n",
       "      <th>2</th>\n",
       "      <td>Male</td>\n",
       "      <td>Yes</td>\n",
       "      <td>0</td>\n",
       "      <td>Graduate</td>\n",
       "      <td>Yes</td>\n",
       "      <td>0.0</td>\n",
       "      <td>66.0</td>\n",
       "      <td>360.0</td>\n",
       "      <td>1.0</td>\n",
       "      <td>Urban</td>\n",
       "      <td>Y</td>\n",
       "    </tr>\n",
       "    <tr>\n",
       "      <th>3</th>\n",
       "      <td>Male</td>\n",
       "      <td>Yes</td>\n",
       "      <td>0</td>\n",
       "      <td>Not Graduate</td>\n",
       "      <td>No</td>\n",
       "      <td>2358.0</td>\n",
       "      <td>120.0</td>\n",
       "      <td>360.0</td>\n",
       "      <td>1.0</td>\n",
       "      <td>Urban</td>\n",
       "      <td>Y</td>\n",
       "    </tr>\n",
       "    <tr>\n",
       "      <th>4</th>\n",
       "      <td>Male</td>\n",
       "      <td>No</td>\n",
       "      <td>0</td>\n",
       "      <td>Graduate</td>\n",
       "      <td>No</td>\n",
       "      <td>0.0</td>\n",
       "      <td>141.0</td>\n",
       "      <td>360.0</td>\n",
       "      <td>1.0</td>\n",
       "      <td>Urban</td>\n",
       "      <td>Y</td>\n",
       "    </tr>\n",
       "  </tbody>\n",
       "</table>\n",
       "</div>"
      ],
      "text/plain": [
       "  Gender Married Dependents     Education Self_Employed  CoapplicantIncome  \\\n",
       "0   Male      No          0      Graduate            No                0.0   \n",
       "1   Male     Yes          1      Graduate            No             1508.0   \n",
       "2   Male     Yes          0      Graduate           Yes                0.0   \n",
       "3   Male     Yes          0  Not Graduate            No             2358.0   \n",
       "4   Male      No          0      Graduate            No                0.0   \n",
       "\n",
       "   LoanAmount  Loan_Amount_Term  Credit_History Property_Area Loan_Status  \n",
       "0         NaN             360.0             1.0         Urban           Y  \n",
       "1       128.0             360.0             1.0         Rural           N  \n",
       "2        66.0             360.0             1.0         Urban           Y  \n",
       "3       120.0             360.0             1.0         Urban           Y  \n",
       "4       141.0             360.0             1.0         Urban           Y  "
      ]
     },
     "execution_count": 119,
     "metadata": {},
     "output_type": "execute_result"
    }
   ],
   "source": [
    "#droping Applicant income \n",
    "df.drop('ApplicantIncome',axis=1,inplace=True)\n",
    "df.head()"
   ]
  },
  {
   "cell_type": "code",
   "execution_count": 120,
   "id": "31325a8b",
   "metadata": {},
   "outputs": [
    {
     "data": {
      "text/plain": [
       "(614, 11)"
      ]
     },
     "execution_count": 120,
     "metadata": {},
     "output_type": "execute_result"
    }
   ],
   "source": [
    "#data shape\n",
    "df.shape"
   ]
  },
  {
   "cell_type": "markdown",
   "id": "35f344fd",
   "metadata": {},
   "source": [
    "* Now dataset contains 614 rows and 11 columns "
   ]
  },
  {
   "cell_type": "code",
   "execution_count": 121,
   "id": "ca1d5ffc",
   "metadata": {},
   "outputs": [
    {
     "data": {
      "text/plain": [
       "Index(['Gender', 'Married', 'Dependents', 'Education', 'Self_Employed',\n",
       "       'CoapplicantIncome', 'LoanAmount', 'Loan_Amount_Term', 'Credit_History',\n",
       "       'Property_Area', 'Loan_Status'],\n",
       "      dtype='object')"
      ]
     },
     "execution_count": 121,
     "metadata": {},
     "output_type": "execute_result"
    }
   ],
   "source": [
    "#data columns\n",
    "df.columns"
   ]
  },
  {
   "cell_type": "markdown",
   "id": "817afa6a",
   "metadata": {},
   "source": [
    "* Dataset contains 11 columns"
   ]
  },
  {
   "cell_type": "markdown",
   "id": "88e2686b",
   "metadata": {},
   "source": [
    "# Encoding Method"
   ]
  },
  {
   "cell_type": "code",
   "execution_count": 122,
   "id": "c66b3d14",
   "metadata": {},
   "outputs": [],
   "source": [
    "#importing sklearn preprocessing\n",
    "from sklearn.preprocessing import LabelEncoder"
   ]
  },
  {
   "cell_type": "code",
   "execution_count": 123,
   "id": "bd85d01b",
   "metadata": {},
   "outputs": [
    {
     "data": {
      "text/html": [
       "<div>\n",
       "<style scoped>\n",
       "    .dataframe tbody tr th:only-of-type {\n",
       "        vertical-align: middle;\n",
       "    }\n",
       "\n",
       "    .dataframe tbody tr th {\n",
       "        vertical-align: top;\n",
       "    }\n",
       "\n",
       "    .dataframe thead th {\n",
       "        text-align: right;\n",
       "    }\n",
       "</style>\n",
       "<table border=\"1\" class=\"dataframe\">\n",
       "  <thead>\n",
       "    <tr style=\"text-align: right;\">\n",
       "      <th></th>\n",
       "      <th>CoapplicantIncome</th>\n",
       "      <th>LoanAmount</th>\n",
       "      <th>Loan_Amount_Term</th>\n",
       "      <th>Credit_History</th>\n",
       "      <th>Gender_Male</th>\n",
       "      <th>Married_Yes</th>\n",
       "      <th>Dependents_1</th>\n",
       "      <th>Dependents_2</th>\n",
       "      <th>Dependents_3+</th>\n",
       "      <th>Education_Not Graduate</th>\n",
       "      <th>Self_Employed_Yes</th>\n",
       "      <th>Property_Area_Semiurban</th>\n",
       "      <th>Property_Area_Urban</th>\n",
       "      <th>Loan_Status_Y</th>\n",
       "    </tr>\n",
       "  </thead>\n",
       "  <tbody>\n",
       "    <tr>\n",
       "      <th>0</th>\n",
       "      <td>0.0</td>\n",
       "      <td>NaN</td>\n",
       "      <td>360.0</td>\n",
       "      <td>1.0</td>\n",
       "      <td>1</td>\n",
       "      <td>0</td>\n",
       "      <td>0</td>\n",
       "      <td>0</td>\n",
       "      <td>0</td>\n",
       "      <td>0</td>\n",
       "      <td>0</td>\n",
       "      <td>0</td>\n",
       "      <td>1</td>\n",
       "      <td>1</td>\n",
       "    </tr>\n",
       "    <tr>\n",
       "      <th>1</th>\n",
       "      <td>1508.0</td>\n",
       "      <td>128.0</td>\n",
       "      <td>360.0</td>\n",
       "      <td>1.0</td>\n",
       "      <td>1</td>\n",
       "      <td>1</td>\n",
       "      <td>1</td>\n",
       "      <td>0</td>\n",
       "      <td>0</td>\n",
       "      <td>0</td>\n",
       "      <td>0</td>\n",
       "      <td>0</td>\n",
       "      <td>0</td>\n",
       "      <td>0</td>\n",
       "    </tr>\n",
       "    <tr>\n",
       "      <th>2</th>\n",
       "      <td>0.0</td>\n",
       "      <td>66.0</td>\n",
       "      <td>360.0</td>\n",
       "      <td>1.0</td>\n",
       "      <td>1</td>\n",
       "      <td>1</td>\n",
       "      <td>0</td>\n",
       "      <td>0</td>\n",
       "      <td>0</td>\n",
       "      <td>0</td>\n",
       "      <td>1</td>\n",
       "      <td>0</td>\n",
       "      <td>1</td>\n",
       "      <td>1</td>\n",
       "    </tr>\n",
       "    <tr>\n",
       "      <th>3</th>\n",
       "      <td>2358.0</td>\n",
       "      <td>120.0</td>\n",
       "      <td>360.0</td>\n",
       "      <td>1.0</td>\n",
       "      <td>1</td>\n",
       "      <td>1</td>\n",
       "      <td>0</td>\n",
       "      <td>0</td>\n",
       "      <td>0</td>\n",
       "      <td>1</td>\n",
       "      <td>0</td>\n",
       "      <td>0</td>\n",
       "      <td>1</td>\n",
       "      <td>1</td>\n",
       "    </tr>\n",
       "    <tr>\n",
       "      <th>4</th>\n",
       "      <td>0.0</td>\n",
       "      <td>141.0</td>\n",
       "      <td>360.0</td>\n",
       "      <td>1.0</td>\n",
       "      <td>1</td>\n",
       "      <td>0</td>\n",
       "      <td>0</td>\n",
       "      <td>0</td>\n",
       "      <td>0</td>\n",
       "      <td>0</td>\n",
       "      <td>0</td>\n",
       "      <td>0</td>\n",
       "      <td>1</td>\n",
       "      <td>1</td>\n",
       "    </tr>\n",
       "  </tbody>\n",
       "</table>\n",
       "</div>"
      ],
      "text/plain": [
       "   CoapplicantIncome  LoanAmount  Loan_Amount_Term  Credit_History  \\\n",
       "0                0.0         NaN             360.0             1.0   \n",
       "1             1508.0       128.0             360.0             1.0   \n",
       "2                0.0        66.0             360.0             1.0   \n",
       "3             2358.0       120.0             360.0             1.0   \n",
       "4                0.0       141.0             360.0             1.0   \n",
       "\n",
       "   Gender_Male  Married_Yes  Dependents_1  Dependents_2  Dependents_3+  \\\n",
       "0            1            0             0             0              0   \n",
       "1            1            1             1             0              0   \n",
       "2            1            1             0             0              0   \n",
       "3            1            1             0             0              0   \n",
       "4            1            0             0             0              0   \n",
       "\n",
       "   Education_Not Graduate  Self_Employed_Yes  Property_Area_Semiurban  \\\n",
       "0                       0                  0                        0   \n",
       "1                       0                  0                        0   \n",
       "2                       0                  1                        0   \n",
       "3                       1                  0                        0   \n",
       "4                       0                  0                        0   \n",
       "\n",
       "   Property_Area_Urban  Loan_Status_Y  \n",
       "0                    1              1  \n",
       "1                    0              0  \n",
       "2                    1              1  \n",
       "3                    1              1  \n",
       "4                    1              1  "
      ]
     },
     "execution_count": 123,
     "metadata": {},
     "output_type": "execute_result"
    }
   ],
   "source": [
    "#Encoding the dataset\n",
    "df_encoded=pd.get_dummies(df,drop_first=True)\n",
    "df_encoded.head()"
   ]
  },
  {
   "cell_type": "markdown",
   "id": "c5004903",
   "metadata": {},
   "source": [
    "# Handling Missing Value"
   ]
  },
  {
   "cell_type": "code",
   "execution_count": 124,
   "id": "b5807d3e",
   "metadata": {},
   "outputs": [
    {
     "data": {
      "text/plain": [
       "Gender               13\n",
       "Married               3\n",
       "Dependents           15\n",
       "Education             0\n",
       "Self_Employed        32\n",
       "CoapplicantIncome     0\n",
       "LoanAmount           22\n",
       "Loan_Amount_Term     14\n",
       "Credit_History       50\n",
       "Property_Area         0\n",
       "Loan_Status           0\n",
       "dtype: int64"
      ]
     },
     "execution_count": 124,
     "metadata": {},
     "output_type": "execute_result"
    }
   ],
   "source": [
    "#checking null value\n",
    "df.isnull().sum()"
   ]
  },
  {
   "cell_type": "markdown",
   "id": "2b9d6d9f",
   "metadata": {},
   "source": [
    "* There are some null values in some columns"
   ]
  },
  {
   "cell_type": "code",
   "execution_count": 125,
   "id": "7b49f5c1",
   "metadata": {},
   "outputs": [
    {
     "name": "stdout",
     "output_type": "stream",
     "text": [
      "Gender 13\n",
      "Married 3\n",
      "Dependents 15\n",
      "Self_Employed 32\n",
      "LoanAmount 22\n",
      "Loan_Amount_Term 14\n",
      "Credit_History 50\n"
     ]
    }
   ],
   "source": [
    "#writing for loop\n",
    "for col in df.columns:\n",
    "    missing_series=df[col][df[col].isna()==True]\n",
    "    if missing_series.size>0:\n",
    "        print(col,missing_series.size)\n",
    "        plt.show()"
   ]
  },
  {
   "cell_type": "code",
   "execution_count": 126,
   "id": "ab225aef",
   "metadata": {},
   "outputs": [],
   "source": [
    "#filling null values\n",
    "categ_cols=['Gender','Married','Dependents','Self_Employed','Loan_Amount_Term','Credit_History','Loan_Status']\n",
    "for col in categ_cols:\n",
    "    df[col]=df[col].fillna(df[col].mode()[0])\n",
    "    df[col]=df[col].fillna(df[col].mode()[0])"
   ]
  },
  {
   "cell_type": "code",
   "execution_count": 127,
   "id": "214ab280",
   "metadata": {},
   "outputs": [],
   "source": [
    "#removieng dummies\n",
    "dummy_cols=['Gender','Married','Dependents','Self_Employed','Education','Credit_History','Property_Area']\n",
    "train_dummies=pd.get_dummies(df[dummy_cols],drop_first=True)\n",
    "test_dummies=pd.get_dummies(df[dummy_cols],drop_first=True)"
   ]
  },
  {
   "cell_type": "code",
   "execution_count": 128,
   "id": "bb8e8867",
   "metadata": {},
   "outputs": [],
   "source": [
    "#filling nan values\n",
    "num_cols=['CoapplicantIncome','Loan_Amount_Term','LoanAmount']\n",
    "df_train_num=(df[num_cols]-df[num_cols].mean())/df[num_cols].std()\n",
    "df_test_num=(df[num_cols]-df[num_cols].mean())/df[num_cols].std()"
   ]
  },
  {
   "cell_type": "code",
   "execution_count": 129,
   "id": "99ceec19",
   "metadata": {},
   "outputs": [],
   "source": [
    "#concatinating\n",
    "Loan_Status=df.Loan_Status.apply(lambda x:0 if x=='N' else 1)\n",
    "df=pd.concat([df,train_dummies,Loan_Status],axis=1)\n",
    "df=pd.concat([df,test_dummies],axis=1)"
   ]
  },
  {
   "cell_type": "code",
   "execution_count": 130,
   "id": "9b4e9046",
   "metadata": {},
   "outputs": [
    {
     "data": {
      "text/html": [
       "<div>\n",
       "<style scoped>\n",
       "    .dataframe tbody tr th:only-of-type {\n",
       "        vertical-align: middle;\n",
       "    }\n",
       "\n",
       "    .dataframe tbody tr th {\n",
       "        vertical-align: top;\n",
       "    }\n",
       "\n",
       "    .dataframe thead th {\n",
       "        text-align: right;\n",
       "    }\n",
       "</style>\n",
       "<table border=\"1\" class=\"dataframe\">\n",
       "  <thead>\n",
       "    <tr style=\"text-align: right;\">\n",
       "      <th></th>\n",
       "      <th>Gender</th>\n",
       "      <th>Married</th>\n",
       "      <th>Dependents</th>\n",
       "      <th>Education</th>\n",
       "      <th>Self_Employed</th>\n",
       "      <th>CoapplicantIncome</th>\n",
       "      <th>LoanAmount</th>\n",
       "      <th>Loan_Amount_Term</th>\n",
       "      <th>Credit_History</th>\n",
       "      <th>Property_Area</th>\n",
       "      <th>...</th>\n",
       "      <th>Credit_History</th>\n",
       "      <th>Gender_Male</th>\n",
       "      <th>Married_Yes</th>\n",
       "      <th>Dependents_1</th>\n",
       "      <th>Dependents_2</th>\n",
       "      <th>Dependents_3+</th>\n",
       "      <th>Self_Employed_Yes</th>\n",
       "      <th>Education_Not Graduate</th>\n",
       "      <th>Property_Area_Semiurban</th>\n",
       "      <th>Property_Area_Urban</th>\n",
       "    </tr>\n",
       "  </thead>\n",
       "  <tbody>\n",
       "    <tr>\n",
       "      <th>0</th>\n",
       "      <td>Male</td>\n",
       "      <td>No</td>\n",
       "      <td>0</td>\n",
       "      <td>Graduate</td>\n",
       "      <td>No</td>\n",
       "      <td>0.0</td>\n",
       "      <td>NaN</td>\n",
       "      <td>360.0</td>\n",
       "      <td>1.0</td>\n",
       "      <td>Urban</td>\n",
       "      <td>...</td>\n",
       "      <td>1.0</td>\n",
       "      <td>1</td>\n",
       "      <td>0</td>\n",
       "      <td>0</td>\n",
       "      <td>0</td>\n",
       "      <td>0</td>\n",
       "      <td>0</td>\n",
       "      <td>0</td>\n",
       "      <td>0</td>\n",
       "      <td>1</td>\n",
       "    </tr>\n",
       "    <tr>\n",
       "      <th>1</th>\n",
       "      <td>Male</td>\n",
       "      <td>Yes</td>\n",
       "      <td>1</td>\n",
       "      <td>Graduate</td>\n",
       "      <td>No</td>\n",
       "      <td>1508.0</td>\n",
       "      <td>128.0</td>\n",
       "      <td>360.0</td>\n",
       "      <td>1.0</td>\n",
       "      <td>Rural</td>\n",
       "      <td>...</td>\n",
       "      <td>1.0</td>\n",
       "      <td>1</td>\n",
       "      <td>1</td>\n",
       "      <td>1</td>\n",
       "      <td>0</td>\n",
       "      <td>0</td>\n",
       "      <td>0</td>\n",
       "      <td>0</td>\n",
       "      <td>0</td>\n",
       "      <td>0</td>\n",
       "    </tr>\n",
       "    <tr>\n",
       "      <th>2</th>\n",
       "      <td>Male</td>\n",
       "      <td>Yes</td>\n",
       "      <td>0</td>\n",
       "      <td>Graduate</td>\n",
       "      <td>Yes</td>\n",
       "      <td>0.0</td>\n",
       "      <td>66.0</td>\n",
       "      <td>360.0</td>\n",
       "      <td>1.0</td>\n",
       "      <td>Urban</td>\n",
       "      <td>...</td>\n",
       "      <td>1.0</td>\n",
       "      <td>1</td>\n",
       "      <td>1</td>\n",
       "      <td>0</td>\n",
       "      <td>0</td>\n",
       "      <td>0</td>\n",
       "      <td>1</td>\n",
       "      <td>0</td>\n",
       "      <td>0</td>\n",
       "      <td>1</td>\n",
       "    </tr>\n",
       "    <tr>\n",
       "      <th>3</th>\n",
       "      <td>Male</td>\n",
       "      <td>Yes</td>\n",
       "      <td>0</td>\n",
       "      <td>Not Graduate</td>\n",
       "      <td>No</td>\n",
       "      <td>2358.0</td>\n",
       "      <td>120.0</td>\n",
       "      <td>360.0</td>\n",
       "      <td>1.0</td>\n",
       "      <td>Urban</td>\n",
       "      <td>...</td>\n",
       "      <td>1.0</td>\n",
       "      <td>1</td>\n",
       "      <td>1</td>\n",
       "      <td>0</td>\n",
       "      <td>0</td>\n",
       "      <td>0</td>\n",
       "      <td>0</td>\n",
       "      <td>1</td>\n",
       "      <td>0</td>\n",
       "      <td>1</td>\n",
       "    </tr>\n",
       "    <tr>\n",
       "      <th>4</th>\n",
       "      <td>Male</td>\n",
       "      <td>No</td>\n",
       "      <td>0</td>\n",
       "      <td>Graduate</td>\n",
       "      <td>No</td>\n",
       "      <td>0.0</td>\n",
       "      <td>141.0</td>\n",
       "      <td>360.0</td>\n",
       "      <td>1.0</td>\n",
       "      <td>Urban</td>\n",
       "      <td>...</td>\n",
       "      <td>1.0</td>\n",
       "      <td>1</td>\n",
       "      <td>0</td>\n",
       "      <td>0</td>\n",
       "      <td>0</td>\n",
       "      <td>0</td>\n",
       "      <td>0</td>\n",
       "      <td>0</td>\n",
       "      <td>0</td>\n",
       "      <td>1</td>\n",
       "    </tr>\n",
       "  </tbody>\n",
       "</table>\n",
       "<p>5 rows × 32 columns</p>\n",
       "</div>"
      ],
      "text/plain": [
       "  Gender Married Dependents     Education Self_Employed  CoapplicantIncome  \\\n",
       "0   Male      No          0      Graduate            No                0.0   \n",
       "1   Male     Yes          1      Graduate            No             1508.0   \n",
       "2   Male     Yes          0      Graduate           Yes                0.0   \n",
       "3   Male     Yes          0  Not Graduate            No             2358.0   \n",
       "4   Male      No          0      Graduate            No                0.0   \n",
       "\n",
       "   LoanAmount  Loan_Amount_Term Credit_History Property_Area  ...  \\\n",
       "0         NaN             360.0            1.0         Urban  ...   \n",
       "1       128.0             360.0            1.0         Rural  ...   \n",
       "2        66.0             360.0            1.0         Urban  ...   \n",
       "3       120.0             360.0            1.0         Urban  ...   \n",
       "4       141.0             360.0            1.0         Urban  ...   \n",
       "\n",
       "  Credit_History  Gender_Male  Married_Yes  Dependents_1  Dependents_2  \\\n",
       "0            1.0            1            0             0             0   \n",
       "1            1.0            1            1             1             0   \n",
       "2            1.0            1            1             0             0   \n",
       "3            1.0            1            1             0             0   \n",
       "4            1.0            1            0             0             0   \n",
       "\n",
       "   Dependents_3+  Self_Employed_Yes  Education_Not Graduate  \\\n",
       "0              0                  0                       0   \n",
       "1              0                  0                       0   \n",
       "2              0                  1                       0   \n",
       "3              0                  0                       1   \n",
       "4              0                  0                       0   \n",
       "\n",
       "   Property_Area_Semiurban  Property_Area_Urban  \n",
       "0                        0                    1  \n",
       "1                        0                    0  \n",
       "2                        0                    1  \n",
       "3                        0                    1  \n",
       "4                        0                    1  \n",
       "\n",
       "[5 rows x 32 columns]"
      ]
     },
     "execution_count": 130,
     "metadata": {},
     "output_type": "execute_result"
    }
   ],
   "source": [
    "#droping null vales and filling with median\n",
    "df_drop=df.dropna()\n",
    "df_fill_median=df.fillna(df.median())\n",
    "df_drop=df.dropna()\n",
    "df_fill_median=df.fillna(df.median())\n",
    "df_fill_median.head()"
   ]
  },
  {
   "cell_type": "markdown",
   "id": "935eb2a1",
   "metadata": {},
   "source": [
    "# Label Encoding Method"
   ]
  },
  {
   "cell_type": "code",
   "execution_count": 131,
   "id": "71b9e43b",
   "metadata": {},
   "outputs": [],
   "source": [
    "#encoding gender\n",
    "from sklearn.preprocessing import LabelEncoder\n",
    "LE=LabelEncoder()\n",
    "df['Gender']=LE.fit_transform(df['Gender'])"
   ]
  },
  {
   "cell_type": "code",
   "execution_count": 132,
   "id": "811df749",
   "metadata": {},
   "outputs": [
    {
     "data": {
      "text/plain": [
       "array([1, 0])"
      ]
     },
     "execution_count": 132,
     "metadata": {},
     "output_type": "execute_result"
    }
   ],
   "source": [
    "df.Gender.unique()"
   ]
  },
  {
   "cell_type": "code",
   "execution_count": 133,
   "id": "3f61f641",
   "metadata": {},
   "outputs": [
    {
     "data": {
      "text/html": [
       "<div>\n",
       "<style scoped>\n",
       "    .dataframe tbody tr th:only-of-type {\n",
       "        vertical-align: middle;\n",
       "    }\n",
       "\n",
       "    .dataframe tbody tr th {\n",
       "        vertical-align: top;\n",
       "    }\n",
       "\n",
       "    .dataframe thead th {\n",
       "        text-align: right;\n",
       "    }\n",
       "</style>\n",
       "<table border=\"1\" class=\"dataframe\">\n",
       "  <thead>\n",
       "    <tr style=\"text-align: right;\">\n",
       "      <th></th>\n",
       "      <th>Gender</th>\n",
       "      <th>Married</th>\n",
       "      <th>Dependents</th>\n",
       "      <th>Education</th>\n",
       "      <th>Self_Employed</th>\n",
       "      <th>CoapplicantIncome</th>\n",
       "      <th>LoanAmount</th>\n",
       "      <th>Loan_Amount_Term</th>\n",
       "      <th>Credit_History</th>\n",
       "      <th>Property_Area</th>\n",
       "      <th>...</th>\n",
       "      <th>Credit_History</th>\n",
       "      <th>Gender_Male</th>\n",
       "      <th>Married_Yes</th>\n",
       "      <th>Dependents_1</th>\n",
       "      <th>Dependents_2</th>\n",
       "      <th>Dependents_3+</th>\n",
       "      <th>Self_Employed_Yes</th>\n",
       "      <th>Education_Not Graduate</th>\n",
       "      <th>Property_Area_Semiurban</th>\n",
       "      <th>Property_Area_Urban</th>\n",
       "    </tr>\n",
       "  </thead>\n",
       "  <tbody>\n",
       "    <tr>\n",
       "      <th>0</th>\n",
       "      <td>1</td>\n",
       "      <td>No</td>\n",
       "      <td>0</td>\n",
       "      <td>Graduate</td>\n",
       "      <td>No</td>\n",
       "      <td>0.0</td>\n",
       "      <td>NaN</td>\n",
       "      <td>360.0</td>\n",
       "      <td>1.0</td>\n",
       "      <td>Urban</td>\n",
       "      <td>...</td>\n",
       "      <td>1.0</td>\n",
       "      <td>1</td>\n",
       "      <td>0</td>\n",
       "      <td>0</td>\n",
       "      <td>0</td>\n",
       "      <td>0</td>\n",
       "      <td>0</td>\n",
       "      <td>0</td>\n",
       "      <td>0</td>\n",
       "      <td>1</td>\n",
       "    </tr>\n",
       "    <tr>\n",
       "      <th>1</th>\n",
       "      <td>1</td>\n",
       "      <td>Yes</td>\n",
       "      <td>1</td>\n",
       "      <td>Graduate</td>\n",
       "      <td>No</td>\n",
       "      <td>1508.0</td>\n",
       "      <td>128.0</td>\n",
       "      <td>360.0</td>\n",
       "      <td>1.0</td>\n",
       "      <td>Rural</td>\n",
       "      <td>...</td>\n",
       "      <td>1.0</td>\n",
       "      <td>1</td>\n",
       "      <td>1</td>\n",
       "      <td>1</td>\n",
       "      <td>0</td>\n",
       "      <td>0</td>\n",
       "      <td>0</td>\n",
       "      <td>0</td>\n",
       "      <td>0</td>\n",
       "      <td>0</td>\n",
       "    </tr>\n",
       "    <tr>\n",
       "      <th>2</th>\n",
       "      <td>1</td>\n",
       "      <td>Yes</td>\n",
       "      <td>0</td>\n",
       "      <td>Graduate</td>\n",
       "      <td>Yes</td>\n",
       "      <td>0.0</td>\n",
       "      <td>66.0</td>\n",
       "      <td>360.0</td>\n",
       "      <td>1.0</td>\n",
       "      <td>Urban</td>\n",
       "      <td>...</td>\n",
       "      <td>1.0</td>\n",
       "      <td>1</td>\n",
       "      <td>1</td>\n",
       "      <td>0</td>\n",
       "      <td>0</td>\n",
       "      <td>0</td>\n",
       "      <td>1</td>\n",
       "      <td>0</td>\n",
       "      <td>0</td>\n",
       "      <td>1</td>\n",
       "    </tr>\n",
       "    <tr>\n",
       "      <th>3</th>\n",
       "      <td>1</td>\n",
       "      <td>Yes</td>\n",
       "      <td>0</td>\n",
       "      <td>Not Graduate</td>\n",
       "      <td>No</td>\n",
       "      <td>2358.0</td>\n",
       "      <td>120.0</td>\n",
       "      <td>360.0</td>\n",
       "      <td>1.0</td>\n",
       "      <td>Urban</td>\n",
       "      <td>...</td>\n",
       "      <td>1.0</td>\n",
       "      <td>1</td>\n",
       "      <td>1</td>\n",
       "      <td>0</td>\n",
       "      <td>0</td>\n",
       "      <td>0</td>\n",
       "      <td>0</td>\n",
       "      <td>1</td>\n",
       "      <td>0</td>\n",
       "      <td>1</td>\n",
       "    </tr>\n",
       "    <tr>\n",
       "      <th>4</th>\n",
       "      <td>1</td>\n",
       "      <td>No</td>\n",
       "      <td>0</td>\n",
       "      <td>Graduate</td>\n",
       "      <td>No</td>\n",
       "      <td>0.0</td>\n",
       "      <td>141.0</td>\n",
       "      <td>360.0</td>\n",
       "      <td>1.0</td>\n",
       "      <td>Urban</td>\n",
       "      <td>...</td>\n",
       "      <td>1.0</td>\n",
       "      <td>1</td>\n",
       "      <td>0</td>\n",
       "      <td>0</td>\n",
       "      <td>0</td>\n",
       "      <td>0</td>\n",
       "      <td>0</td>\n",
       "      <td>0</td>\n",
       "      <td>0</td>\n",
       "      <td>1</td>\n",
       "    </tr>\n",
       "  </tbody>\n",
       "</table>\n",
       "<p>5 rows × 32 columns</p>\n",
       "</div>"
      ],
      "text/plain": [
       "   Gender Married Dependents     Education Self_Employed  CoapplicantIncome  \\\n",
       "0       1      No          0      Graduate            No                0.0   \n",
       "1       1     Yes          1      Graduate            No             1508.0   \n",
       "2       1     Yes          0      Graduate           Yes                0.0   \n",
       "3       1     Yes          0  Not Graduate            No             2358.0   \n",
       "4       1      No          0      Graduate            No                0.0   \n",
       "\n",
       "   LoanAmount  Loan_Amount_Term Credit_History Property_Area  ...  \\\n",
       "0         NaN             360.0            1.0         Urban  ...   \n",
       "1       128.0             360.0            1.0         Rural  ...   \n",
       "2        66.0             360.0            1.0         Urban  ...   \n",
       "3       120.0             360.0            1.0         Urban  ...   \n",
       "4       141.0             360.0            1.0         Urban  ...   \n",
       "\n",
       "  Credit_History  Gender_Male  Married_Yes  Dependents_1  Dependents_2  \\\n",
       "0            1.0            1            0             0             0   \n",
       "1            1.0            1            1             1             0   \n",
       "2            1.0            1            1             0             0   \n",
       "3            1.0            1            1             0             0   \n",
       "4            1.0            1            0             0             0   \n",
       "\n",
       "   Dependents_3+  Self_Employed_Yes  Education_Not Graduate  \\\n",
       "0              0                  0                       0   \n",
       "1              0                  0                       0   \n",
       "2              0                  1                       0   \n",
       "3              0                  0                       1   \n",
       "4              0                  0                       0   \n",
       "\n",
       "   Property_Area_Semiurban  Property_Area_Urban  \n",
       "0                        0                    1  \n",
       "1                        0                    0  \n",
       "2                        0                    1  \n",
       "3                        0                    1  \n",
       "4                        0                    1  \n",
       "\n",
       "[5 rows x 32 columns]"
      ]
     },
     "execution_count": 133,
     "metadata": {},
     "output_type": "execute_result"
    }
   ],
   "source": [
    "df.head()"
   ]
  },
  {
   "cell_type": "code",
   "execution_count": 134,
   "id": "0cae4546",
   "metadata": {},
   "outputs": [],
   "source": [
    "# encoding married\n",
    "LE=LabelEncoder()\n",
    "df['Married']=LE.fit_transform(df['Married'])"
   ]
  },
  {
   "cell_type": "code",
   "execution_count": 135,
   "id": "5c8544cf",
   "metadata": {},
   "outputs": [
    {
     "data": {
      "text/plain": [
       "array([0, 1])"
      ]
     },
     "execution_count": 135,
     "metadata": {},
     "output_type": "execute_result"
    }
   ],
   "source": [
    "df.Married.unique()"
   ]
  },
  {
   "cell_type": "code",
   "execution_count": 136,
   "id": "6b12a813",
   "metadata": {},
   "outputs": [
    {
     "data": {
      "text/html": [
       "<div>\n",
       "<style scoped>\n",
       "    .dataframe tbody tr th:only-of-type {\n",
       "        vertical-align: middle;\n",
       "    }\n",
       "\n",
       "    .dataframe tbody tr th {\n",
       "        vertical-align: top;\n",
       "    }\n",
       "\n",
       "    .dataframe thead th {\n",
       "        text-align: right;\n",
       "    }\n",
       "</style>\n",
       "<table border=\"1\" class=\"dataframe\">\n",
       "  <thead>\n",
       "    <tr style=\"text-align: right;\">\n",
       "      <th></th>\n",
       "      <th>Gender</th>\n",
       "      <th>Married</th>\n",
       "      <th>Dependents</th>\n",
       "      <th>Education</th>\n",
       "      <th>Self_Employed</th>\n",
       "      <th>CoapplicantIncome</th>\n",
       "      <th>LoanAmount</th>\n",
       "      <th>Loan_Amount_Term</th>\n",
       "      <th>Credit_History</th>\n",
       "      <th>Property_Area</th>\n",
       "      <th>...</th>\n",
       "      <th>Credit_History</th>\n",
       "      <th>Gender_Male</th>\n",
       "      <th>Married_Yes</th>\n",
       "      <th>Dependents_1</th>\n",
       "      <th>Dependents_2</th>\n",
       "      <th>Dependents_3+</th>\n",
       "      <th>Self_Employed_Yes</th>\n",
       "      <th>Education_Not Graduate</th>\n",
       "      <th>Property_Area_Semiurban</th>\n",
       "      <th>Property_Area_Urban</th>\n",
       "    </tr>\n",
       "  </thead>\n",
       "  <tbody>\n",
       "    <tr>\n",
       "      <th>0</th>\n",
       "      <td>1</td>\n",
       "      <td>0</td>\n",
       "      <td>0</td>\n",
       "      <td>Graduate</td>\n",
       "      <td>No</td>\n",
       "      <td>0.0</td>\n",
       "      <td>NaN</td>\n",
       "      <td>360.0</td>\n",
       "      <td>1.0</td>\n",
       "      <td>Urban</td>\n",
       "      <td>...</td>\n",
       "      <td>1.0</td>\n",
       "      <td>1</td>\n",
       "      <td>0</td>\n",
       "      <td>0</td>\n",
       "      <td>0</td>\n",
       "      <td>0</td>\n",
       "      <td>0</td>\n",
       "      <td>0</td>\n",
       "      <td>0</td>\n",
       "      <td>1</td>\n",
       "    </tr>\n",
       "    <tr>\n",
       "      <th>1</th>\n",
       "      <td>1</td>\n",
       "      <td>1</td>\n",
       "      <td>1</td>\n",
       "      <td>Graduate</td>\n",
       "      <td>No</td>\n",
       "      <td>1508.0</td>\n",
       "      <td>128.0</td>\n",
       "      <td>360.0</td>\n",
       "      <td>1.0</td>\n",
       "      <td>Rural</td>\n",
       "      <td>...</td>\n",
       "      <td>1.0</td>\n",
       "      <td>1</td>\n",
       "      <td>1</td>\n",
       "      <td>1</td>\n",
       "      <td>0</td>\n",
       "      <td>0</td>\n",
       "      <td>0</td>\n",
       "      <td>0</td>\n",
       "      <td>0</td>\n",
       "      <td>0</td>\n",
       "    </tr>\n",
       "    <tr>\n",
       "      <th>2</th>\n",
       "      <td>1</td>\n",
       "      <td>1</td>\n",
       "      <td>0</td>\n",
       "      <td>Graduate</td>\n",
       "      <td>Yes</td>\n",
       "      <td>0.0</td>\n",
       "      <td>66.0</td>\n",
       "      <td>360.0</td>\n",
       "      <td>1.0</td>\n",
       "      <td>Urban</td>\n",
       "      <td>...</td>\n",
       "      <td>1.0</td>\n",
       "      <td>1</td>\n",
       "      <td>1</td>\n",
       "      <td>0</td>\n",
       "      <td>0</td>\n",
       "      <td>0</td>\n",
       "      <td>1</td>\n",
       "      <td>0</td>\n",
       "      <td>0</td>\n",
       "      <td>1</td>\n",
       "    </tr>\n",
       "    <tr>\n",
       "      <th>3</th>\n",
       "      <td>1</td>\n",
       "      <td>1</td>\n",
       "      <td>0</td>\n",
       "      <td>Not Graduate</td>\n",
       "      <td>No</td>\n",
       "      <td>2358.0</td>\n",
       "      <td>120.0</td>\n",
       "      <td>360.0</td>\n",
       "      <td>1.0</td>\n",
       "      <td>Urban</td>\n",
       "      <td>...</td>\n",
       "      <td>1.0</td>\n",
       "      <td>1</td>\n",
       "      <td>1</td>\n",
       "      <td>0</td>\n",
       "      <td>0</td>\n",
       "      <td>0</td>\n",
       "      <td>0</td>\n",
       "      <td>1</td>\n",
       "      <td>0</td>\n",
       "      <td>1</td>\n",
       "    </tr>\n",
       "    <tr>\n",
       "      <th>4</th>\n",
       "      <td>1</td>\n",
       "      <td>0</td>\n",
       "      <td>0</td>\n",
       "      <td>Graduate</td>\n",
       "      <td>No</td>\n",
       "      <td>0.0</td>\n",
       "      <td>141.0</td>\n",
       "      <td>360.0</td>\n",
       "      <td>1.0</td>\n",
       "      <td>Urban</td>\n",
       "      <td>...</td>\n",
       "      <td>1.0</td>\n",
       "      <td>1</td>\n",
       "      <td>0</td>\n",
       "      <td>0</td>\n",
       "      <td>0</td>\n",
       "      <td>0</td>\n",
       "      <td>0</td>\n",
       "      <td>0</td>\n",
       "      <td>0</td>\n",
       "      <td>1</td>\n",
       "    </tr>\n",
       "  </tbody>\n",
       "</table>\n",
       "<p>5 rows × 32 columns</p>\n",
       "</div>"
      ],
      "text/plain": [
       "   Gender  Married Dependents     Education Self_Employed  CoapplicantIncome  \\\n",
       "0       1        0          0      Graduate            No                0.0   \n",
       "1       1        1          1      Graduate            No             1508.0   \n",
       "2       1        1          0      Graduate           Yes                0.0   \n",
       "3       1        1          0  Not Graduate            No             2358.0   \n",
       "4       1        0          0      Graduate            No                0.0   \n",
       "\n",
       "   LoanAmount  Loan_Amount_Term Credit_History Property_Area  ...  \\\n",
       "0         NaN             360.0            1.0         Urban  ...   \n",
       "1       128.0             360.0            1.0         Rural  ...   \n",
       "2        66.0             360.0            1.0         Urban  ...   \n",
       "3       120.0             360.0            1.0         Urban  ...   \n",
       "4       141.0             360.0            1.0         Urban  ...   \n",
       "\n",
       "  Credit_History  Gender_Male  Married_Yes  Dependents_1  Dependents_2  \\\n",
       "0            1.0            1            0             0             0   \n",
       "1            1.0            1            1             1             0   \n",
       "2            1.0            1            1             0             0   \n",
       "3            1.0            1            1             0             0   \n",
       "4            1.0            1            0             0             0   \n",
       "\n",
       "   Dependents_3+  Self_Employed_Yes  Education_Not Graduate  \\\n",
       "0              0                  0                       0   \n",
       "1              0                  0                       0   \n",
       "2              0                  1                       0   \n",
       "3              0                  0                       1   \n",
       "4              0                  0                       0   \n",
       "\n",
       "   Property_Area_Semiurban  Property_Area_Urban  \n",
       "0                        0                    1  \n",
       "1                        0                    0  \n",
       "2                        0                    1  \n",
       "3                        0                    1  \n",
       "4                        0                    1  \n",
       "\n",
       "[5 rows x 32 columns]"
      ]
     },
     "execution_count": 136,
     "metadata": {},
     "output_type": "execute_result"
    }
   ],
   "source": [
    "df.head()"
   ]
  },
  {
   "cell_type": "code",
   "execution_count": 137,
   "id": "e0d111a7",
   "metadata": {},
   "outputs": [],
   "source": [
    "#encoding Education and Loan Status\n",
    "LE=LabelEncoder()\n",
    "df['Education']=LE.fit_transform(df['Education'])\n",
    "df['Loan_Status']=df['Loan_Status'].replace({'N':0,'Y':1})\n"
   ]
  },
  {
   "cell_type": "code",
   "execution_count": 138,
   "id": "9b62f84f",
   "metadata": {},
   "outputs": [
    {
     "data": {
      "text/html": [
       "<div>\n",
       "<style scoped>\n",
       "    .dataframe tbody tr th:only-of-type {\n",
       "        vertical-align: middle;\n",
       "    }\n",
       "\n",
       "    .dataframe tbody tr th {\n",
       "        vertical-align: top;\n",
       "    }\n",
       "\n",
       "    .dataframe thead th {\n",
       "        text-align: right;\n",
       "    }\n",
       "</style>\n",
       "<table border=\"1\" class=\"dataframe\">\n",
       "  <thead>\n",
       "    <tr style=\"text-align: right;\">\n",
       "      <th></th>\n",
       "      <th>Gender</th>\n",
       "      <th>Married</th>\n",
       "      <th>Dependents</th>\n",
       "      <th>Education</th>\n",
       "      <th>Self_Employed</th>\n",
       "      <th>CoapplicantIncome</th>\n",
       "      <th>LoanAmount</th>\n",
       "      <th>Loan_Amount_Term</th>\n",
       "      <th>Credit_History</th>\n",
       "      <th>Property_Area</th>\n",
       "      <th>...</th>\n",
       "      <th>Credit_History</th>\n",
       "      <th>Gender_Male</th>\n",
       "      <th>Married_Yes</th>\n",
       "      <th>Dependents_1</th>\n",
       "      <th>Dependents_2</th>\n",
       "      <th>Dependents_3+</th>\n",
       "      <th>Self_Employed_Yes</th>\n",
       "      <th>Education_Not Graduate</th>\n",
       "      <th>Property_Area_Semiurban</th>\n",
       "      <th>Property_Area_Urban</th>\n",
       "    </tr>\n",
       "  </thead>\n",
       "  <tbody>\n",
       "    <tr>\n",
       "      <th>0</th>\n",
       "      <td>1</td>\n",
       "      <td>0</td>\n",
       "      <td>0</td>\n",
       "      <td>0</td>\n",
       "      <td>No</td>\n",
       "      <td>0.0</td>\n",
       "      <td>NaN</td>\n",
       "      <td>360.0</td>\n",
       "      <td>1.0</td>\n",
       "      <td>Urban</td>\n",
       "      <td>...</td>\n",
       "      <td>1.0</td>\n",
       "      <td>1</td>\n",
       "      <td>0</td>\n",
       "      <td>0</td>\n",
       "      <td>0</td>\n",
       "      <td>0</td>\n",
       "      <td>0</td>\n",
       "      <td>0</td>\n",
       "      <td>0</td>\n",
       "      <td>1</td>\n",
       "    </tr>\n",
       "    <tr>\n",
       "      <th>1</th>\n",
       "      <td>1</td>\n",
       "      <td>1</td>\n",
       "      <td>1</td>\n",
       "      <td>0</td>\n",
       "      <td>No</td>\n",
       "      <td>1508.0</td>\n",
       "      <td>128.0</td>\n",
       "      <td>360.0</td>\n",
       "      <td>1.0</td>\n",
       "      <td>Rural</td>\n",
       "      <td>...</td>\n",
       "      <td>1.0</td>\n",
       "      <td>1</td>\n",
       "      <td>1</td>\n",
       "      <td>1</td>\n",
       "      <td>0</td>\n",
       "      <td>0</td>\n",
       "      <td>0</td>\n",
       "      <td>0</td>\n",
       "      <td>0</td>\n",
       "      <td>0</td>\n",
       "    </tr>\n",
       "    <tr>\n",
       "      <th>2</th>\n",
       "      <td>1</td>\n",
       "      <td>1</td>\n",
       "      <td>0</td>\n",
       "      <td>0</td>\n",
       "      <td>Yes</td>\n",
       "      <td>0.0</td>\n",
       "      <td>66.0</td>\n",
       "      <td>360.0</td>\n",
       "      <td>1.0</td>\n",
       "      <td>Urban</td>\n",
       "      <td>...</td>\n",
       "      <td>1.0</td>\n",
       "      <td>1</td>\n",
       "      <td>1</td>\n",
       "      <td>0</td>\n",
       "      <td>0</td>\n",
       "      <td>0</td>\n",
       "      <td>1</td>\n",
       "      <td>0</td>\n",
       "      <td>0</td>\n",
       "      <td>1</td>\n",
       "    </tr>\n",
       "    <tr>\n",
       "      <th>3</th>\n",
       "      <td>1</td>\n",
       "      <td>1</td>\n",
       "      <td>0</td>\n",
       "      <td>1</td>\n",
       "      <td>No</td>\n",
       "      <td>2358.0</td>\n",
       "      <td>120.0</td>\n",
       "      <td>360.0</td>\n",
       "      <td>1.0</td>\n",
       "      <td>Urban</td>\n",
       "      <td>...</td>\n",
       "      <td>1.0</td>\n",
       "      <td>1</td>\n",
       "      <td>1</td>\n",
       "      <td>0</td>\n",
       "      <td>0</td>\n",
       "      <td>0</td>\n",
       "      <td>0</td>\n",
       "      <td>1</td>\n",
       "      <td>0</td>\n",
       "      <td>1</td>\n",
       "    </tr>\n",
       "    <tr>\n",
       "      <th>4</th>\n",
       "      <td>1</td>\n",
       "      <td>0</td>\n",
       "      <td>0</td>\n",
       "      <td>0</td>\n",
       "      <td>No</td>\n",
       "      <td>0.0</td>\n",
       "      <td>141.0</td>\n",
       "      <td>360.0</td>\n",
       "      <td>1.0</td>\n",
       "      <td>Urban</td>\n",
       "      <td>...</td>\n",
       "      <td>1.0</td>\n",
       "      <td>1</td>\n",
       "      <td>0</td>\n",
       "      <td>0</td>\n",
       "      <td>0</td>\n",
       "      <td>0</td>\n",
       "      <td>0</td>\n",
       "      <td>0</td>\n",
       "      <td>0</td>\n",
       "      <td>1</td>\n",
       "    </tr>\n",
       "  </tbody>\n",
       "</table>\n",
       "<p>5 rows × 32 columns</p>\n",
       "</div>"
      ],
      "text/plain": [
       "   Gender  Married Dependents  Education Self_Employed  CoapplicantIncome  \\\n",
       "0       1        0          0          0            No                0.0   \n",
       "1       1        1          1          0            No             1508.0   \n",
       "2       1        1          0          0           Yes                0.0   \n",
       "3       1        1          0          1            No             2358.0   \n",
       "4       1        0          0          0            No                0.0   \n",
       "\n",
       "   LoanAmount  Loan_Amount_Term  Credit_History Property_Area  ...  \\\n",
       "0         NaN             360.0             1.0         Urban  ...   \n",
       "1       128.0             360.0             1.0         Rural  ...   \n",
       "2        66.0             360.0             1.0         Urban  ...   \n",
       "3       120.0             360.0             1.0         Urban  ...   \n",
       "4       141.0             360.0             1.0         Urban  ...   \n",
       "\n",
       "   Credit_History  Gender_Male  Married_Yes  Dependents_1  Dependents_2  \\\n",
       "0             1.0            1            0             0             0   \n",
       "1             1.0            1            1             1             0   \n",
       "2             1.0            1            1             0             0   \n",
       "3             1.0            1            1             0             0   \n",
       "4             1.0            1            0             0             0   \n",
       "\n",
       "   Dependents_3+  Self_Employed_Yes  Education_Not Graduate  \\\n",
       "0              0                  0                       0   \n",
       "1              0                  0                       0   \n",
       "2              0                  1                       0   \n",
       "3              0                  0                       1   \n",
       "4              0                  0                       0   \n",
       "\n",
       "   Property_Area_Semiurban  Property_Area_Urban  \n",
       "0                        0                    1  \n",
       "1                        0                    0  \n",
       "2                        0                    1  \n",
       "3                        0                    1  \n",
       "4                        0                    1  \n",
       "\n",
       "[5 rows x 32 columns]"
      ]
     },
     "execution_count": 138,
     "metadata": {},
     "output_type": "execute_result"
    }
   ],
   "source": [
    "df.head()"
   ]
  },
  {
   "cell_type": "code",
   "execution_count": 139,
   "id": "8f652116",
   "metadata": {},
   "outputs": [
    {
     "data": {
      "text/plain": [
       "array([0, 1])"
      ]
     },
     "execution_count": 139,
     "metadata": {},
     "output_type": "execute_result"
    }
   ],
   "source": [
    "df.Education.unique()"
   ]
  },
  {
   "cell_type": "code",
   "execution_count": 140,
   "id": "d90dff11",
   "metadata": {},
   "outputs": [
    {
     "data": {
      "text/html": [
       "<div>\n",
       "<style scoped>\n",
       "    .dataframe tbody tr th:only-of-type {\n",
       "        vertical-align: middle;\n",
       "    }\n",
       "\n",
       "    .dataframe tbody tr th {\n",
       "        vertical-align: top;\n",
       "    }\n",
       "\n",
       "    .dataframe thead th {\n",
       "        text-align: right;\n",
       "    }\n",
       "</style>\n",
       "<table border=\"1\" class=\"dataframe\">\n",
       "  <thead>\n",
       "    <tr style=\"text-align: right;\">\n",
       "      <th></th>\n",
       "      <th>Gender</th>\n",
       "      <th>Married</th>\n",
       "      <th>Dependents</th>\n",
       "      <th>Education</th>\n",
       "      <th>Self_Employed</th>\n",
       "      <th>CoapplicantIncome</th>\n",
       "      <th>LoanAmount</th>\n",
       "      <th>Loan_Amount_Term</th>\n",
       "      <th>Credit_History</th>\n",
       "      <th>Property_Area</th>\n",
       "      <th>...</th>\n",
       "      <th>Credit_History</th>\n",
       "      <th>Gender_Male</th>\n",
       "      <th>Married_Yes</th>\n",
       "      <th>Dependents_1</th>\n",
       "      <th>Dependents_2</th>\n",
       "      <th>Dependents_3+</th>\n",
       "      <th>Self_Employed_Yes</th>\n",
       "      <th>Education_Not Graduate</th>\n",
       "      <th>Property_Area_Semiurban</th>\n",
       "      <th>Property_Area_Urban</th>\n",
       "    </tr>\n",
       "  </thead>\n",
       "  <tbody>\n",
       "    <tr>\n",
       "      <th>0</th>\n",
       "      <td>1</td>\n",
       "      <td>0</td>\n",
       "      <td>0</td>\n",
       "      <td>0</td>\n",
       "      <td>No</td>\n",
       "      <td>0.0</td>\n",
       "      <td>NaN</td>\n",
       "      <td>360.0</td>\n",
       "      <td>1.0</td>\n",
       "      <td>Urban</td>\n",
       "      <td>...</td>\n",
       "      <td>1.0</td>\n",
       "      <td>1</td>\n",
       "      <td>0</td>\n",
       "      <td>0</td>\n",
       "      <td>0</td>\n",
       "      <td>0</td>\n",
       "      <td>0</td>\n",
       "      <td>0</td>\n",
       "      <td>0</td>\n",
       "      <td>1</td>\n",
       "    </tr>\n",
       "    <tr>\n",
       "      <th>1</th>\n",
       "      <td>1</td>\n",
       "      <td>1</td>\n",
       "      <td>1</td>\n",
       "      <td>0</td>\n",
       "      <td>No</td>\n",
       "      <td>1508.0</td>\n",
       "      <td>128.0</td>\n",
       "      <td>360.0</td>\n",
       "      <td>1.0</td>\n",
       "      <td>Rural</td>\n",
       "      <td>...</td>\n",
       "      <td>1.0</td>\n",
       "      <td>1</td>\n",
       "      <td>1</td>\n",
       "      <td>1</td>\n",
       "      <td>0</td>\n",
       "      <td>0</td>\n",
       "      <td>0</td>\n",
       "      <td>0</td>\n",
       "      <td>0</td>\n",
       "      <td>0</td>\n",
       "    </tr>\n",
       "    <tr>\n",
       "      <th>2</th>\n",
       "      <td>1</td>\n",
       "      <td>1</td>\n",
       "      <td>0</td>\n",
       "      <td>0</td>\n",
       "      <td>Yes</td>\n",
       "      <td>0.0</td>\n",
       "      <td>66.0</td>\n",
       "      <td>360.0</td>\n",
       "      <td>1.0</td>\n",
       "      <td>Urban</td>\n",
       "      <td>...</td>\n",
       "      <td>1.0</td>\n",
       "      <td>1</td>\n",
       "      <td>1</td>\n",
       "      <td>0</td>\n",
       "      <td>0</td>\n",
       "      <td>0</td>\n",
       "      <td>1</td>\n",
       "      <td>0</td>\n",
       "      <td>0</td>\n",
       "      <td>1</td>\n",
       "    </tr>\n",
       "    <tr>\n",
       "      <th>3</th>\n",
       "      <td>1</td>\n",
       "      <td>1</td>\n",
       "      <td>0</td>\n",
       "      <td>1</td>\n",
       "      <td>No</td>\n",
       "      <td>2358.0</td>\n",
       "      <td>120.0</td>\n",
       "      <td>360.0</td>\n",
       "      <td>1.0</td>\n",
       "      <td>Urban</td>\n",
       "      <td>...</td>\n",
       "      <td>1.0</td>\n",
       "      <td>1</td>\n",
       "      <td>1</td>\n",
       "      <td>0</td>\n",
       "      <td>0</td>\n",
       "      <td>0</td>\n",
       "      <td>0</td>\n",
       "      <td>1</td>\n",
       "      <td>0</td>\n",
       "      <td>1</td>\n",
       "    </tr>\n",
       "    <tr>\n",
       "      <th>4</th>\n",
       "      <td>1</td>\n",
       "      <td>0</td>\n",
       "      <td>0</td>\n",
       "      <td>0</td>\n",
       "      <td>No</td>\n",
       "      <td>0.0</td>\n",
       "      <td>141.0</td>\n",
       "      <td>360.0</td>\n",
       "      <td>1.0</td>\n",
       "      <td>Urban</td>\n",
       "      <td>...</td>\n",
       "      <td>1.0</td>\n",
       "      <td>1</td>\n",
       "      <td>0</td>\n",
       "      <td>0</td>\n",
       "      <td>0</td>\n",
       "      <td>0</td>\n",
       "      <td>0</td>\n",
       "      <td>0</td>\n",
       "      <td>0</td>\n",
       "      <td>1</td>\n",
       "    </tr>\n",
       "  </tbody>\n",
       "</table>\n",
       "<p>5 rows × 32 columns</p>\n",
       "</div>"
      ],
      "text/plain": [
       "   Gender  Married Dependents  Education Self_Employed  CoapplicantIncome  \\\n",
       "0       1        0          0          0            No                0.0   \n",
       "1       1        1          1          0            No             1508.0   \n",
       "2       1        1          0          0           Yes                0.0   \n",
       "3       1        1          0          1            No             2358.0   \n",
       "4       1        0          0          0            No                0.0   \n",
       "\n",
       "   LoanAmount  Loan_Amount_Term  Credit_History Property_Area  ...  \\\n",
       "0         NaN             360.0             1.0         Urban  ...   \n",
       "1       128.0             360.0             1.0         Rural  ...   \n",
       "2        66.0             360.0             1.0         Urban  ...   \n",
       "3       120.0             360.0             1.0         Urban  ...   \n",
       "4       141.0             360.0             1.0         Urban  ...   \n",
       "\n",
       "   Credit_History  Gender_Male  Married_Yes  Dependents_1  Dependents_2  \\\n",
       "0             1.0            1            0             0             0   \n",
       "1             1.0            1            1             1             0   \n",
       "2             1.0            1            1             0             0   \n",
       "3             1.0            1            1             0             0   \n",
       "4             1.0            1            0             0             0   \n",
       "\n",
       "   Dependents_3+  Self_Employed_Yes  Education_Not Graduate  \\\n",
       "0              0                  0                       0   \n",
       "1              0                  0                       0   \n",
       "2              0                  1                       0   \n",
       "3              0                  0                       1   \n",
       "4              0                  0                       0   \n",
       "\n",
       "   Property_Area_Semiurban  Property_Area_Urban  \n",
       "0                        0                    1  \n",
       "1                        0                    0  \n",
       "2                        0                    1  \n",
       "3                        0                    1  \n",
       "4                        0                    1  \n",
       "\n",
       "[5 rows x 32 columns]"
      ]
     },
     "execution_count": 140,
     "metadata": {},
     "output_type": "execute_result"
    }
   ],
   "source": [
    "df.head()"
   ]
  },
  {
   "cell_type": "code",
   "execution_count": 144,
   "id": "f6e69443",
   "metadata": {},
   "outputs": [],
   "source": [
    "#encoding self employed, loan amount and property area\n",
    "LE=LabelEncoder()\n",
    "df['Self_Employed']=LE.fit_transform(df['Self_Employed'])\n",
    "df['LoanAmount']=LE.fit_transform(df['LoanAmount'])\n",
    "df['Property_Area']=LE.fit_transform(df['Property_Area'])\n"
   ]
  },
  {
   "cell_type": "code",
   "execution_count": 145,
   "id": "33271857",
   "metadata": {},
   "outputs": [
    {
     "data": {
      "text/plain": [
       "array([0, 1])"
      ]
     },
     "execution_count": 145,
     "metadata": {},
     "output_type": "execute_result"
    }
   ],
   "source": [
    "df.Self_Employed.unique()"
   ]
  },
  {
   "cell_type": "code",
   "execution_count": 146,
   "id": "f40b76a0",
   "metadata": {},
   "outputs": [
    {
     "data": {
      "text/plain": [
       "array([203,  81,  26,  73,  94, 168,  48, 110, 119, 185,  28,  62, 139,\n",
       "        67,   1,  78,  53,  34,  86,  68,  57, 181,  69,  65, 103, 135,\n",
       "        75,  63,   5, 140,  32,  59, 182,  97, 129,  36,  12,  33,  87,\n",
       "        49,  43,   9, 172,  50,  88, 126,  52, 116, 164,  79, 180,  89,\n",
       "       121,  37, 132,  66, 124,  83,  64, 118, 167,  14, 145, 123,  84,\n",
       "       133,   2,  90, 112, 150, 148,  47,  92, 104,  71, 130, 106,  40,\n",
       "       165, 137,  46, 188, 128, 201,  55, 173,  39, 157,  82,   4, 159,\n",
       "       200, 163,  51, 169,  74,  24, 202,  42,  54, 196,  27,  31, 166,\n",
       "        61,  19,  13, 115, 120,  38,  45, 117,  77,  17,  20,  80, 147,\n",
       "       156,  30,  21,  91,   8, 171,  93, 107,  76, 170, 136, 177, 184,\n",
       "       102, 142, 193,  35,  16,  44,  96,  58,  85, 194,  18, 111, 176,\n",
       "       189,  70,  29, 195, 122,  11, 151, 178, 154, 199, 190, 175, 108,\n",
       "        56,  10,  25,  15, 187,  23, 149, 125, 155, 192, 100, 134, 101,\n",
       "       105, 114, 152,  41, 153, 160, 198, 131,  72,  60, 144, 143, 158,\n",
       "         7, 161, 179, 191, 113, 138, 183, 109,  98, 127,   3, 146,   0,\n",
       "       141,   6,  22,  99, 174,  95, 186, 197, 162])"
      ]
     },
     "execution_count": 146,
     "metadata": {},
     "output_type": "execute_result"
    }
   ],
   "source": [
    "df.LoanAmount.unique()"
   ]
  },
  {
   "cell_type": "code",
   "execution_count": 147,
   "id": "06735bbf",
   "metadata": {},
   "outputs": [
    {
     "data": {
      "text/plain": [
       "array([2, 0, 1])"
      ]
     },
     "execution_count": 147,
     "metadata": {},
     "output_type": "execute_result"
    }
   ],
   "source": [
    "df.Property_Area.unique()"
   ]
  },
  {
   "cell_type": "code",
   "execution_count": 148,
   "id": "99c8361d",
   "metadata": {},
   "outputs": [
    {
     "data": {
      "text/html": [
       "<div>\n",
       "<style scoped>\n",
       "    .dataframe tbody tr th:only-of-type {\n",
       "        vertical-align: middle;\n",
       "    }\n",
       "\n",
       "    .dataframe tbody tr th {\n",
       "        vertical-align: top;\n",
       "    }\n",
       "\n",
       "    .dataframe thead th {\n",
       "        text-align: right;\n",
       "    }\n",
       "</style>\n",
       "<table border=\"1\" class=\"dataframe\">\n",
       "  <thead>\n",
       "    <tr style=\"text-align: right;\">\n",
       "      <th></th>\n",
       "      <th>Gender</th>\n",
       "      <th>Married</th>\n",
       "      <th>Dependents</th>\n",
       "      <th>Education</th>\n",
       "      <th>Self_Employed</th>\n",
       "      <th>CoapplicantIncome</th>\n",
       "      <th>LoanAmount</th>\n",
       "      <th>Loan_Amount_Term</th>\n",
       "      <th>Credit_History</th>\n",
       "      <th>Property_Area</th>\n",
       "      <th>...</th>\n",
       "      <th>Credit_History</th>\n",
       "      <th>Gender_Male</th>\n",
       "      <th>Married_Yes</th>\n",
       "      <th>Dependents_1</th>\n",
       "      <th>Dependents_2</th>\n",
       "      <th>Dependents_3+</th>\n",
       "      <th>Self_Employed_Yes</th>\n",
       "      <th>Education_Not Graduate</th>\n",
       "      <th>Property_Area_Semiurban</th>\n",
       "      <th>Property_Area_Urban</th>\n",
       "    </tr>\n",
       "  </thead>\n",
       "  <tbody>\n",
       "    <tr>\n",
       "      <th>0</th>\n",
       "      <td>1</td>\n",
       "      <td>0</td>\n",
       "      <td>0</td>\n",
       "      <td>0</td>\n",
       "      <td>0</td>\n",
       "      <td>0.0</td>\n",
       "      <td>203</td>\n",
       "      <td>360.0</td>\n",
       "      <td>1.0</td>\n",
       "      <td>2</td>\n",
       "      <td>...</td>\n",
       "      <td>1.0</td>\n",
       "      <td>1</td>\n",
       "      <td>0</td>\n",
       "      <td>0</td>\n",
       "      <td>0</td>\n",
       "      <td>0</td>\n",
       "      <td>0</td>\n",
       "      <td>0</td>\n",
       "      <td>0</td>\n",
       "      <td>1</td>\n",
       "    </tr>\n",
       "    <tr>\n",
       "      <th>1</th>\n",
       "      <td>1</td>\n",
       "      <td>1</td>\n",
       "      <td>1</td>\n",
       "      <td>0</td>\n",
       "      <td>0</td>\n",
       "      <td>1508.0</td>\n",
       "      <td>81</td>\n",
       "      <td>360.0</td>\n",
       "      <td>1.0</td>\n",
       "      <td>0</td>\n",
       "      <td>...</td>\n",
       "      <td>1.0</td>\n",
       "      <td>1</td>\n",
       "      <td>1</td>\n",
       "      <td>1</td>\n",
       "      <td>0</td>\n",
       "      <td>0</td>\n",
       "      <td>0</td>\n",
       "      <td>0</td>\n",
       "      <td>0</td>\n",
       "      <td>0</td>\n",
       "    </tr>\n",
       "    <tr>\n",
       "      <th>2</th>\n",
       "      <td>1</td>\n",
       "      <td>1</td>\n",
       "      <td>0</td>\n",
       "      <td>0</td>\n",
       "      <td>1</td>\n",
       "      <td>0.0</td>\n",
       "      <td>26</td>\n",
       "      <td>360.0</td>\n",
       "      <td>1.0</td>\n",
       "      <td>2</td>\n",
       "      <td>...</td>\n",
       "      <td>1.0</td>\n",
       "      <td>1</td>\n",
       "      <td>1</td>\n",
       "      <td>0</td>\n",
       "      <td>0</td>\n",
       "      <td>0</td>\n",
       "      <td>1</td>\n",
       "      <td>0</td>\n",
       "      <td>0</td>\n",
       "      <td>1</td>\n",
       "    </tr>\n",
       "    <tr>\n",
       "      <th>3</th>\n",
       "      <td>1</td>\n",
       "      <td>1</td>\n",
       "      <td>0</td>\n",
       "      <td>1</td>\n",
       "      <td>0</td>\n",
       "      <td>2358.0</td>\n",
       "      <td>73</td>\n",
       "      <td>360.0</td>\n",
       "      <td>1.0</td>\n",
       "      <td>2</td>\n",
       "      <td>...</td>\n",
       "      <td>1.0</td>\n",
       "      <td>1</td>\n",
       "      <td>1</td>\n",
       "      <td>0</td>\n",
       "      <td>0</td>\n",
       "      <td>0</td>\n",
       "      <td>0</td>\n",
       "      <td>1</td>\n",
       "      <td>0</td>\n",
       "      <td>1</td>\n",
       "    </tr>\n",
       "    <tr>\n",
       "      <th>4</th>\n",
       "      <td>1</td>\n",
       "      <td>0</td>\n",
       "      <td>0</td>\n",
       "      <td>0</td>\n",
       "      <td>0</td>\n",
       "      <td>0.0</td>\n",
       "      <td>94</td>\n",
       "      <td>360.0</td>\n",
       "      <td>1.0</td>\n",
       "      <td>2</td>\n",
       "      <td>...</td>\n",
       "      <td>1.0</td>\n",
       "      <td>1</td>\n",
       "      <td>0</td>\n",
       "      <td>0</td>\n",
       "      <td>0</td>\n",
       "      <td>0</td>\n",
       "      <td>0</td>\n",
       "      <td>0</td>\n",
       "      <td>0</td>\n",
       "      <td>1</td>\n",
       "    </tr>\n",
       "  </tbody>\n",
       "</table>\n",
       "<p>5 rows × 32 columns</p>\n",
       "</div>"
      ],
      "text/plain": [
       "   Gender  Married Dependents  Education  Self_Employed  CoapplicantIncome  \\\n",
       "0       1        0          0          0              0                0.0   \n",
       "1       1        1          1          0              0             1508.0   \n",
       "2       1        1          0          0              1                0.0   \n",
       "3       1        1          0          1              0             2358.0   \n",
       "4       1        0          0          0              0                0.0   \n",
       "\n",
       "   LoanAmount  Loan_Amount_Term  Credit_History  Property_Area  ...  \\\n",
       "0         203             360.0             1.0              2  ...   \n",
       "1          81             360.0             1.0              0  ...   \n",
       "2          26             360.0             1.0              2  ...   \n",
       "3          73             360.0             1.0              2  ...   \n",
       "4          94             360.0             1.0              2  ...   \n",
       "\n",
       "   Credit_History  Gender_Male  Married_Yes  Dependents_1  Dependents_2  \\\n",
       "0             1.0            1            0             0             0   \n",
       "1             1.0            1            1             1             0   \n",
       "2             1.0            1            1             0             0   \n",
       "3             1.0            1            1             0             0   \n",
       "4             1.0            1            0             0             0   \n",
       "\n",
       "   Dependents_3+  Self_Employed_Yes  Education_Not Graduate  \\\n",
       "0              0                  0                       0   \n",
       "1              0                  0                       0   \n",
       "2              0                  1                       0   \n",
       "3              0                  0                       1   \n",
       "4              0                  0                       0   \n",
       "\n",
       "   Property_Area_Semiurban  Property_Area_Urban  \n",
       "0                        0                    1  \n",
       "1                        0                    0  \n",
       "2                        0                    1  \n",
       "3                        0                    1  \n",
       "4                        0                    1  \n",
       "\n",
       "[5 rows x 32 columns]"
      ]
     },
     "execution_count": 148,
     "metadata": {},
     "output_type": "execute_result"
    }
   ],
   "source": [
    "df.head()"
   ]
  },
  {
   "cell_type": "code",
   "execution_count": 149,
   "id": "84c31219",
   "metadata": {},
   "outputs": [],
   "source": [
    "#Encoding Dependents\n",
    "LE=LabelEncoder()\n",
    "df['Dependents']=LE.fit_transform(df['Dependents'])"
   ]
  },
  {
   "cell_type": "code",
   "execution_count": 150,
   "id": "aa785c9d",
   "metadata": {},
   "outputs": [
    {
     "data": {
      "text/plain": [
       "array([0, 1, 2, 3])"
      ]
     },
     "execution_count": 150,
     "metadata": {},
     "output_type": "execute_result"
    }
   ],
   "source": [
    "df.Dependents.unique()"
   ]
  },
  {
   "cell_type": "code",
   "execution_count": 151,
   "id": "7bcdbafd",
   "metadata": {},
   "outputs": [
    {
     "data": {
      "text/html": [
       "<div>\n",
       "<style scoped>\n",
       "    .dataframe tbody tr th:only-of-type {\n",
       "        vertical-align: middle;\n",
       "    }\n",
       "\n",
       "    .dataframe tbody tr th {\n",
       "        vertical-align: top;\n",
       "    }\n",
       "\n",
       "    .dataframe thead th {\n",
       "        text-align: right;\n",
       "    }\n",
       "</style>\n",
       "<table border=\"1\" class=\"dataframe\">\n",
       "  <thead>\n",
       "    <tr style=\"text-align: right;\">\n",
       "      <th></th>\n",
       "      <th>Gender</th>\n",
       "      <th>Married</th>\n",
       "      <th>Dependents</th>\n",
       "      <th>Education</th>\n",
       "      <th>Self_Employed</th>\n",
       "      <th>CoapplicantIncome</th>\n",
       "      <th>LoanAmount</th>\n",
       "      <th>Loan_Amount_Term</th>\n",
       "      <th>Credit_History</th>\n",
       "      <th>Property_Area</th>\n",
       "      <th>...</th>\n",
       "      <th>Credit_History</th>\n",
       "      <th>Gender_Male</th>\n",
       "      <th>Married_Yes</th>\n",
       "      <th>Dependents_1</th>\n",
       "      <th>Dependents_2</th>\n",
       "      <th>Dependents_3+</th>\n",
       "      <th>Self_Employed_Yes</th>\n",
       "      <th>Education_Not Graduate</th>\n",
       "      <th>Property_Area_Semiurban</th>\n",
       "      <th>Property_Area_Urban</th>\n",
       "    </tr>\n",
       "  </thead>\n",
       "  <tbody>\n",
       "    <tr>\n",
       "      <th>0</th>\n",
       "      <td>1</td>\n",
       "      <td>0</td>\n",
       "      <td>0</td>\n",
       "      <td>0</td>\n",
       "      <td>0</td>\n",
       "      <td>0.0</td>\n",
       "      <td>203</td>\n",
       "      <td>360.0</td>\n",
       "      <td>1.0</td>\n",
       "      <td>2</td>\n",
       "      <td>...</td>\n",
       "      <td>1.0</td>\n",
       "      <td>1</td>\n",
       "      <td>0</td>\n",
       "      <td>0</td>\n",
       "      <td>0</td>\n",
       "      <td>0</td>\n",
       "      <td>0</td>\n",
       "      <td>0</td>\n",
       "      <td>0</td>\n",
       "      <td>1</td>\n",
       "    </tr>\n",
       "    <tr>\n",
       "      <th>1</th>\n",
       "      <td>1</td>\n",
       "      <td>1</td>\n",
       "      <td>1</td>\n",
       "      <td>0</td>\n",
       "      <td>0</td>\n",
       "      <td>1508.0</td>\n",
       "      <td>81</td>\n",
       "      <td>360.0</td>\n",
       "      <td>1.0</td>\n",
       "      <td>0</td>\n",
       "      <td>...</td>\n",
       "      <td>1.0</td>\n",
       "      <td>1</td>\n",
       "      <td>1</td>\n",
       "      <td>1</td>\n",
       "      <td>0</td>\n",
       "      <td>0</td>\n",
       "      <td>0</td>\n",
       "      <td>0</td>\n",
       "      <td>0</td>\n",
       "      <td>0</td>\n",
       "    </tr>\n",
       "    <tr>\n",
       "      <th>2</th>\n",
       "      <td>1</td>\n",
       "      <td>1</td>\n",
       "      <td>0</td>\n",
       "      <td>0</td>\n",
       "      <td>1</td>\n",
       "      <td>0.0</td>\n",
       "      <td>26</td>\n",
       "      <td>360.0</td>\n",
       "      <td>1.0</td>\n",
       "      <td>2</td>\n",
       "      <td>...</td>\n",
       "      <td>1.0</td>\n",
       "      <td>1</td>\n",
       "      <td>1</td>\n",
       "      <td>0</td>\n",
       "      <td>0</td>\n",
       "      <td>0</td>\n",
       "      <td>1</td>\n",
       "      <td>0</td>\n",
       "      <td>0</td>\n",
       "      <td>1</td>\n",
       "    </tr>\n",
       "    <tr>\n",
       "      <th>3</th>\n",
       "      <td>1</td>\n",
       "      <td>1</td>\n",
       "      <td>0</td>\n",
       "      <td>1</td>\n",
       "      <td>0</td>\n",
       "      <td>2358.0</td>\n",
       "      <td>73</td>\n",
       "      <td>360.0</td>\n",
       "      <td>1.0</td>\n",
       "      <td>2</td>\n",
       "      <td>...</td>\n",
       "      <td>1.0</td>\n",
       "      <td>1</td>\n",
       "      <td>1</td>\n",
       "      <td>0</td>\n",
       "      <td>0</td>\n",
       "      <td>0</td>\n",
       "      <td>0</td>\n",
       "      <td>1</td>\n",
       "      <td>0</td>\n",
       "      <td>1</td>\n",
       "    </tr>\n",
       "    <tr>\n",
       "      <th>4</th>\n",
       "      <td>1</td>\n",
       "      <td>0</td>\n",
       "      <td>0</td>\n",
       "      <td>0</td>\n",
       "      <td>0</td>\n",
       "      <td>0.0</td>\n",
       "      <td>94</td>\n",
       "      <td>360.0</td>\n",
       "      <td>1.0</td>\n",
       "      <td>2</td>\n",
       "      <td>...</td>\n",
       "      <td>1.0</td>\n",
       "      <td>1</td>\n",
       "      <td>0</td>\n",
       "      <td>0</td>\n",
       "      <td>0</td>\n",
       "      <td>0</td>\n",
       "      <td>0</td>\n",
       "      <td>0</td>\n",
       "      <td>0</td>\n",
       "      <td>1</td>\n",
       "    </tr>\n",
       "  </tbody>\n",
       "</table>\n",
       "<p>5 rows × 32 columns</p>\n",
       "</div>"
      ],
      "text/plain": [
       "   Gender  Married  Dependents  Education  Self_Employed  CoapplicantIncome  \\\n",
       "0       1        0           0          0              0                0.0   \n",
       "1       1        1           1          0              0             1508.0   \n",
       "2       1        1           0          0              1                0.0   \n",
       "3       1        1           0          1              0             2358.0   \n",
       "4       1        0           0          0              0                0.0   \n",
       "\n",
       "   LoanAmount  Loan_Amount_Term  Credit_History  Property_Area  ...  \\\n",
       "0         203             360.0             1.0              2  ...   \n",
       "1          81             360.0             1.0              0  ...   \n",
       "2          26             360.0             1.0              2  ...   \n",
       "3          73             360.0             1.0              2  ...   \n",
       "4          94             360.0             1.0              2  ...   \n",
       "\n",
       "   Credit_History  Gender_Male  Married_Yes  Dependents_1  Dependents_2  \\\n",
       "0             1.0            1            0             0             0   \n",
       "1             1.0            1            1             1             0   \n",
       "2             1.0            1            1             0             0   \n",
       "3             1.0            1            1             0             0   \n",
       "4             1.0            1            0             0             0   \n",
       "\n",
       "   Dependents_3+  Self_Employed_Yes  Education_Not Graduate  \\\n",
       "0              0                  0                       0   \n",
       "1              0                  0                       0   \n",
       "2              0                  1                       0   \n",
       "3              0                  0                       1   \n",
       "4              0                  0                       0   \n",
       "\n",
       "   Property_Area_Semiurban  Property_Area_Urban  \n",
       "0                        0                    1  \n",
       "1                        0                    0  \n",
       "2                        0                    1  \n",
       "3                        0                    1  \n",
       "4                        0                    1  \n",
       "\n",
       "[5 rows x 32 columns]"
      ]
     },
     "execution_count": 151,
     "metadata": {},
     "output_type": "execute_result"
    }
   ],
   "source": [
    "df.head()"
   ]
  },
  {
   "cell_type": "markdown",
   "id": "0e386e27",
   "metadata": {},
   "source": [
    "## Handling Missing Values"
   ]
  },
  {
   "cell_type": "code",
   "execution_count": 152,
   "id": "d4624787",
   "metadata": {},
   "outputs": [
    {
     "data": {
      "text/plain": [
       "Gender                     0\n",
       "Married                    0\n",
       "Dependents                 0\n",
       "Education                  0\n",
       "Self_Employed              0\n",
       "CoapplicantIncome          0\n",
       "LoanAmount                 0\n",
       "Loan_Amount_Term           0\n",
       "Credit_History             0\n",
       "Property_Area              0\n",
       "Loan_Status                0\n",
       "Credit_History             0\n",
       "Gender_Male                0\n",
       "Married_Yes                0\n",
       "Dependents_1               0\n",
       "Dependents_2               0\n",
       "Dependents_3+              0\n",
       "Self_Employed_Yes          0\n",
       "Education_Not Graduate     0\n",
       "Property_Area_Semiurban    0\n",
       "Property_Area_Urban        0\n",
       "Loan_Status                0\n",
       "Credit_History             0\n",
       "Gender_Male                0\n",
       "Married_Yes                0\n",
       "Dependents_1               0\n",
       "Dependents_2               0\n",
       "Dependents_3+              0\n",
       "Self_Employed_Yes          0\n",
       "Education_Not Graduate     0\n",
       "Property_Area_Semiurban    0\n",
       "Property_Area_Urban        0\n",
       "dtype: int64"
      ]
     },
     "execution_count": 152,
     "metadata": {},
     "output_type": "execute_result"
    }
   ],
   "source": [
    "#checking null values\n",
    "df.isnull().sum()"
   ]
  },
  {
   "cell_type": "code",
   "execution_count": 153,
   "id": "2dff9299",
   "metadata": {},
   "outputs": [],
   "source": [
    "#filling null values\n",
    "df['Gender']=df['Gender'].fillna(df['Gender'].mean())\n",
    "df['Married']=df['Married'].fillna(df['Married'].median())"
   ]
  },
  {
   "cell_type": "markdown",
   "id": "c9eb24c1",
   "metadata": {},
   "source": [
    "## Checking Skewness"
   ]
  },
  {
   "cell_type": "code",
   "execution_count": 154,
   "id": "1fd992f8",
   "metadata": {},
   "outputs": [
    {
     "data": {
      "text/plain": [
       "Gender                    -1.648795\n",
       "Married                   -0.644850\n",
       "Dependents                 1.015551\n",
       "Education                  1.367622\n",
       "Self_Employed              2.159796\n",
       "CoapplicantIncome          7.491531\n",
       "LoanAmount                 0.555688\n",
       "Loan_Amount_Term          -2.402112\n",
       "Credit_History            -2.021971\n",
       "Property_Area             -0.066196\n",
       "Loan_Status               -0.809998\n",
       "Credit_History            -2.021971\n",
       "Gender_Male               -1.648795\n",
       "Married_Yes               -0.644850\n",
       "Dependents_1               1.798506\n",
       "Dependents_2               1.814433\n",
       "Dependents_3+              3.028961\n",
       "Self_Employed_Yes          2.159796\n",
       "Education_Not Graduate     1.367622\n",
       "Property_Area_Semiurban    0.497948\n",
       "Property_Area_Urban        0.729723\n",
       "Loan_Status               -0.809998\n",
       "Credit_History            -2.021971\n",
       "Gender_Male               -1.648795\n",
       "Married_Yes               -0.644850\n",
       "Dependents_1               1.798506\n",
       "Dependents_2               1.814433\n",
       "Dependents_3+              3.028961\n",
       "Self_Employed_Yes          2.159796\n",
       "Education_Not Graduate     1.367622\n",
       "Property_Area_Semiurban    0.497948\n",
       "Property_Area_Urban        0.729723\n",
       "dtype: float64"
      ]
     },
     "execution_count": 154,
     "metadata": {},
     "output_type": "execute_result"
    }
   ],
   "source": [
    "df.skew()"
   ]
  },
  {
   "cell_type": "markdown",
   "id": "b6868fba",
   "metadata": {},
   "source": [
    "* Dataset Skewness values"
   ]
  },
  {
   "cell_type": "markdown",
   "id": "a1928f00",
   "metadata": {},
   "source": [
    "## Removing Outliers"
   ]
  },
  {
   "cell_type": "code",
   "execution_count": 155,
   "id": "3b2af58c",
   "metadata": {},
   "outputs": [
    {
     "data": {
      "text/plain": [
       "array([[0.47234264, 1.37208932, 0.73780632, ..., 0.52836225, 0.7820157 ,\n",
       "        1.42814704],\n",
       "       [0.47234264, 0.72881553, 0.25346957, ..., 0.52836225, 0.7820157 ,\n",
       "        0.70020801],\n",
       "       [0.47234264, 0.72881553, 0.73780632, ..., 0.52836225, 0.7820157 ,\n",
       "        1.42814704],\n",
       "       ...,\n",
       "       [0.47234264, 0.72881553, 0.25346957, ..., 0.52836225, 0.7820157 ,\n",
       "        1.42814704],\n",
       "       [0.47234264, 0.72881553, 1.24474546, ..., 0.52836225, 0.7820157 ,\n",
       "        1.42814704],\n",
       "       [2.11710719, 1.37208932, 0.73780632, ..., 0.52836225, 1.2787467 ,\n",
       "        0.70020801]])"
      ]
     },
     "execution_count": 155,
     "metadata": {},
     "output_type": "execute_result"
    }
   ],
   "source": [
    "#removing outliers\n",
    "from scipy.stats import zscore\n",
    "z=np.abs(zscore(df))\n",
    "z"
   ]
  },
  {
   "cell_type": "markdown",
   "id": "efcc5506",
   "metadata": {},
   "source": [
    "* Removed outliers of dataset"
   ]
  },
  {
   "cell_type": "code",
   "execution_count": 156,
   "id": "06f0b37e",
   "metadata": {},
   "outputs": [
    {
     "data": {
      "text/html": [
       "<div>\n",
       "<style scoped>\n",
       "    .dataframe tbody tr th:only-of-type {\n",
       "        vertical-align: middle;\n",
       "    }\n",
       "\n",
       "    .dataframe tbody tr th {\n",
       "        vertical-align: top;\n",
       "    }\n",
       "\n",
       "    .dataframe thead th {\n",
       "        text-align: right;\n",
       "    }\n",
       "</style>\n",
       "<table border=\"1\" class=\"dataframe\">\n",
       "  <thead>\n",
       "    <tr style=\"text-align: right;\">\n",
       "      <th></th>\n",
       "      <th>Gender</th>\n",
       "      <th>Married</th>\n",
       "      <th>Dependents</th>\n",
       "      <th>Education</th>\n",
       "      <th>Self_Employed</th>\n",
       "      <th>CoapplicantIncome</th>\n",
       "      <th>LoanAmount</th>\n",
       "      <th>Loan_Amount_Term</th>\n",
       "      <th>Credit_History</th>\n",
       "      <th>Property_Area</th>\n",
       "      <th>...</th>\n",
       "      <th>Credit_History</th>\n",
       "      <th>Gender_Male</th>\n",
       "      <th>Married_Yes</th>\n",
       "      <th>Dependents_1</th>\n",
       "      <th>Dependents_2</th>\n",
       "      <th>Dependents_3+</th>\n",
       "      <th>Self_Employed_Yes</th>\n",
       "      <th>Education_Not Graduate</th>\n",
       "      <th>Property_Area_Semiurban</th>\n",
       "      <th>Property_Area_Urban</th>\n",
       "    </tr>\n",
       "  </thead>\n",
       "  <tbody>\n",
       "    <tr>\n",
       "      <th>0</th>\n",
       "      <td>1</td>\n",
       "      <td>0</td>\n",
       "      <td>0</td>\n",
       "      <td>0</td>\n",
       "      <td>0</td>\n",
       "      <td>0.0</td>\n",
       "      <td>203</td>\n",
       "      <td>360.0</td>\n",
       "      <td>1.0</td>\n",
       "      <td>2</td>\n",
       "      <td>...</td>\n",
       "      <td>1.0</td>\n",
       "      <td>1</td>\n",
       "      <td>0</td>\n",
       "      <td>0</td>\n",
       "      <td>0</td>\n",
       "      <td>0</td>\n",
       "      <td>0</td>\n",
       "      <td>0</td>\n",
       "      <td>0</td>\n",
       "      <td>1</td>\n",
       "    </tr>\n",
       "    <tr>\n",
       "      <th>1</th>\n",
       "      <td>1</td>\n",
       "      <td>1</td>\n",
       "      <td>1</td>\n",
       "      <td>0</td>\n",
       "      <td>0</td>\n",
       "      <td>1508.0</td>\n",
       "      <td>81</td>\n",
       "      <td>360.0</td>\n",
       "      <td>1.0</td>\n",
       "      <td>0</td>\n",
       "      <td>...</td>\n",
       "      <td>1.0</td>\n",
       "      <td>1</td>\n",
       "      <td>1</td>\n",
       "      <td>1</td>\n",
       "      <td>0</td>\n",
       "      <td>0</td>\n",
       "      <td>0</td>\n",
       "      <td>0</td>\n",
       "      <td>0</td>\n",
       "      <td>0</td>\n",
       "    </tr>\n",
       "    <tr>\n",
       "      <th>2</th>\n",
       "      <td>1</td>\n",
       "      <td>1</td>\n",
       "      <td>0</td>\n",
       "      <td>0</td>\n",
       "      <td>1</td>\n",
       "      <td>0.0</td>\n",
       "      <td>26</td>\n",
       "      <td>360.0</td>\n",
       "      <td>1.0</td>\n",
       "      <td>2</td>\n",
       "      <td>...</td>\n",
       "      <td>1.0</td>\n",
       "      <td>1</td>\n",
       "      <td>1</td>\n",
       "      <td>0</td>\n",
       "      <td>0</td>\n",
       "      <td>0</td>\n",
       "      <td>1</td>\n",
       "      <td>0</td>\n",
       "      <td>0</td>\n",
       "      <td>1</td>\n",
       "    </tr>\n",
       "    <tr>\n",
       "      <th>3</th>\n",
       "      <td>1</td>\n",
       "      <td>1</td>\n",
       "      <td>0</td>\n",
       "      <td>1</td>\n",
       "      <td>0</td>\n",
       "      <td>2358.0</td>\n",
       "      <td>73</td>\n",
       "      <td>360.0</td>\n",
       "      <td>1.0</td>\n",
       "      <td>2</td>\n",
       "      <td>...</td>\n",
       "      <td>1.0</td>\n",
       "      <td>1</td>\n",
       "      <td>1</td>\n",
       "      <td>0</td>\n",
       "      <td>0</td>\n",
       "      <td>0</td>\n",
       "      <td>0</td>\n",
       "      <td>1</td>\n",
       "      <td>0</td>\n",
       "      <td>1</td>\n",
       "    </tr>\n",
       "    <tr>\n",
       "      <th>4</th>\n",
       "      <td>1</td>\n",
       "      <td>0</td>\n",
       "      <td>0</td>\n",
       "      <td>0</td>\n",
       "      <td>0</td>\n",
       "      <td>0.0</td>\n",
       "      <td>94</td>\n",
       "      <td>360.0</td>\n",
       "      <td>1.0</td>\n",
       "      <td>2</td>\n",
       "      <td>...</td>\n",
       "      <td>1.0</td>\n",
       "      <td>1</td>\n",
       "      <td>0</td>\n",
       "      <td>0</td>\n",
       "      <td>0</td>\n",
       "      <td>0</td>\n",
       "      <td>0</td>\n",
       "      <td>0</td>\n",
       "      <td>0</td>\n",
       "      <td>1</td>\n",
       "    </tr>\n",
       "  </tbody>\n",
       "</table>\n",
       "<p>5 rows × 32 columns</p>\n",
       "</div>"
      ],
      "text/plain": [
       "   Gender  Married  Dependents  Education  Self_Employed  CoapplicantIncome  \\\n",
       "0       1        0           0          0              0                0.0   \n",
       "1       1        1           1          0              0             1508.0   \n",
       "2       1        1           0          0              1                0.0   \n",
       "3       1        1           0          1              0             2358.0   \n",
       "4       1        0           0          0              0                0.0   \n",
       "\n",
       "   LoanAmount  Loan_Amount_Term  Credit_History  Property_Area  ...  \\\n",
       "0         203             360.0             1.0              2  ...   \n",
       "1          81             360.0             1.0              0  ...   \n",
       "2          26             360.0             1.0              2  ...   \n",
       "3          73             360.0             1.0              2  ...   \n",
       "4          94             360.0             1.0              2  ...   \n",
       "\n",
       "   Credit_History  Gender_Male  Married_Yes  Dependents_1  Dependents_2  \\\n",
       "0             1.0            1            0             0             0   \n",
       "1             1.0            1            1             1             0   \n",
       "2             1.0            1            1             0             0   \n",
       "3             1.0            1            1             0             0   \n",
       "4             1.0            1            0             0             0   \n",
       "\n",
       "   Dependents_3+  Self_Employed_Yes  Education_Not Graduate  \\\n",
       "0              0                  0                       0   \n",
       "1              0                  0                       0   \n",
       "2              0                  1                       0   \n",
       "3              0                  0                       1   \n",
       "4              0                  0                       0   \n",
       "\n",
       "   Property_Area_Semiurban  Property_Area_Urban  \n",
       "0                        0                    1  \n",
       "1                        0                    0  \n",
       "2                        0                    1  \n",
       "3                        0                    1  \n",
       "4                        0                    1  \n",
       "\n",
       "[5 rows x 32 columns]"
      ]
     },
     "execution_count": 156,
     "metadata": {},
     "output_type": "execute_result"
    }
   ],
   "source": [
    "#removing outliers\n",
    "z_scores=zscore(df)\n",
    "\n",
    "abs_z_scores=np.abs(z_scores)\n",
    "filtered_entries=(abs_z_scores < 3).all(axis=1)\n",
    "new_df=df[filtered_entries]\n",
    "\n",
    "new_df.head(5)"
   ]
  },
  {
   "cell_type": "code",
   "execution_count": 158,
   "id": "e6827b59",
   "metadata": {},
   "outputs": [
    {
     "data": {
      "text/plain": [
       "(614, 32)"
      ]
     },
     "execution_count": 158,
     "metadata": {},
     "output_type": "execute_result"
    }
   ],
   "source": [
    "#data shape\n",
    "df.shape"
   ]
  },
  {
   "cell_type": "markdown",
   "id": "b738c659",
   "metadata": {},
   "source": [
    "* Dataset contains 614 rows and 32 columns"
   ]
  },
  {
   "cell_type": "code",
   "execution_count": 159,
   "id": "29371d34",
   "metadata": {},
   "outputs": [
    {
     "data": {
      "text/plain": [
       "(548, 32)"
      ]
     },
     "execution_count": 159,
     "metadata": {},
     "output_type": "execute_result"
    }
   ],
   "source": [
    "#new dataset shape\n",
    "new_df.shape"
   ]
  },
  {
   "cell_type": "markdown",
   "id": "19e46065",
   "metadata": {},
   "source": [
    "* New dataset contains 548 rows and 32 columns"
   ]
  },
  {
   "cell_type": "markdown",
   "id": "ab4729a9",
   "metadata": {},
   "source": [
    "## Standard Scaler Method"
   ]
  },
  {
   "cell_type": "code",
   "execution_count": 166,
   "id": "3e564b7a",
   "metadata": {},
   "outputs": [
    {
     "data": {
      "text/plain": [
       "array([[ 0.47234264, -1.37208932, -0.73780632, ..., -0.52836225,\n",
       "        -0.7820157 ,  1.42814704],\n",
       "       [ 0.47234264,  0.72881553,  0.25346957, ..., -0.52836225,\n",
       "        -0.7820157 , -0.70020801],\n",
       "       [ 0.47234264,  0.72881553, -0.73780632, ..., -0.52836225,\n",
       "        -0.7820157 ,  1.42814704],\n",
       "       ...,\n",
       "       [ 0.47234264,  0.72881553,  0.25346957, ..., -0.52836225,\n",
       "        -0.7820157 ,  1.42814704],\n",
       "       [ 0.47234264,  0.72881553,  1.24474546, ..., -0.52836225,\n",
       "        -0.7820157 ,  1.42814704],\n",
       "       [-2.11710719, -1.37208932, -0.73780632, ..., -0.52836225,\n",
       "         1.2787467 , -0.70020801]])"
      ]
     },
     "execution_count": 166,
     "metadata": {},
     "output_type": "execute_result"
    }
   ],
   "source": [
    "#importing stanard scaler method\n",
    "from sklearn.preprocessing import StandardScaler\n",
    "\n",
    "scaler=StandardScaler()\n",
    "scaledX=scaler.fit_transform(df)\n",
    "scaledX"
   ]
  },
  {
   "cell_type": "markdown",
   "id": "176cab7e",
   "metadata": {},
   "source": [
    "* Here we can see scaleredX values "
   ]
  },
  {
   "cell_type": "code",
   "execution_count": 167,
   "id": "ecd255a7",
   "metadata": {},
   "outputs": [],
   "source": [
    "#importing PCA\n",
    "from sklearn.decomposition import PCA\n",
    "\n",
    "textpca=PCA()\n",
    "Y=textpca.fit(scaledX)"
   ]
  },
  {
   "cell_type": "code",
   "execution_count": 168,
   "id": "d41ded0b",
   "metadata": {},
   "outputs": [
    {
     "data": {
      "text/plain": [
       "array([1.47428316e-01, 1.27944326e-01, 1.09810709e-01, 9.67603447e-02,\n",
       "       9.07922055e-02, 7.55988408e-02, 7.21924177e-02, 6.87167215e-02,\n",
       "       4.69921799e-02, 4.53112288e-02, 3.58507440e-02, 3.08740642e-02,\n",
       "       2.84729090e-02, 2.32549932e-02, 7.77835775e-31, 3.66697151e-31,\n",
       "       7.74603153e-32, 6.54872716e-32, 1.76264282e-32, 1.12067274e-32,\n",
       "       6.47195259e-33, 5.72325209e-33, 4.04370571e-33, 8.90882070e-34,\n",
       "       8.90882070e-34, 8.90882070e-34, 8.90882070e-34, 8.90882070e-34,\n",
       "       8.90882070e-34, 6.64379357e-34, 5.97120418e-34, 8.31645826e-36])"
      ]
     },
     "execution_count": 168,
     "metadata": {},
     "output_type": "execute_result"
    }
   ],
   "source": [
    "Y.explained_variance_ratio_"
   ]
  },
  {
   "cell_type": "code",
   "execution_count": 170,
   "id": "1427d16f",
   "metadata": {},
   "outputs": [
    {
     "data": {
      "text/plain": [
       "array([ 14.74283163,  27.53726421,  38.51833507,  48.19436954,\n",
       "        57.27359009,  64.83347417,  72.05271594,  78.92438809,\n",
       "        83.62360608,  88.15472896,  91.73980336,  94.82720979,\n",
       "        97.67450068, 100.        , 100.        , 100.        ,\n",
       "       100.        , 100.        , 100.        , 100.        ,\n",
       "       100.        , 100.        , 100.        , 100.        ,\n",
       "       100.        , 100.        , 100.        , 100.        ,\n",
       "       100.        , 100.        , 100.        , 100.        ])"
      ]
     },
     "execution_count": 170,
     "metadata": {},
     "output_type": "execute_result"
    }
   ],
   "source": [
    "var_cumu=np.cumsum(Y.explained_variance_ratio_)*100\n",
    "var_cumu"
   ]
  },
  {
   "cell_type": "code",
   "execution_count": 171,
   "id": "9b1506df",
   "metadata": {},
   "outputs": [
    {
     "name": "stdout",
     "output_type": "stream",
     "text": [
      "Number of comopents explaining 99% variance: 13\n"
     ]
    }
   ],
   "source": [
    "#number of componets\n",
    "k=np.argmax(var_cumu>99)\n",
    "print('Number of comopents explaining 99% variance:',k)"
   ]
  },
  {
   "cell_type": "code",
   "execution_count": 172,
   "id": "5b1ddce9",
   "metadata": {},
   "outputs": [
    {
     "data": {
      "image/png": "[encoded data removed]",
      "text/plain": [
       "<Figure size 432x288 with 1 Axes>"
      ]
     },
     "metadata": {
      "needs_background": "light"
     },
     "output_type": "display_data"
    }
   ],
   "source": [
    "#ploting cumulative varience\n",
    "plt.ylabel('Cumulative Expalined varience')\n",
    "plt.xlabel('Principle components')\n",
    "plt.axvline(x=k, color='k',linestyle='--')\n",
    "plt.axhline(y=9, color='r',linestyle='--')\n",
    "\n",
    "plt.plot(var_cumu)\n",
    "plt.show()"
   ]
  },
  {
   "cell_type": "markdown",
   "id": "2bc716bf",
   "metadata": {},
   "source": [
    "* Here y plot is cumalative explained varience and   xplot is principle components"
   ]
  },
  {
   "cell_type": "markdown",
   "id": "c7a4c6a5",
   "metadata": {},
   "source": [
    "# Model Building "
   ]
  },
  {
   "cell_type": "code",
   "execution_count": 173,
   "id": "eea0052a",
   "metadata": {},
   "outputs": [],
   "source": [
    "x_train=df.drop('Gender',axis=1)\n",
    "y_train=df.Gender"
   ]
  },
  {
   "cell_type": "code",
   "execution_count": 174,
   "id": "6ee2e9ca",
   "metadata": {},
   "outputs": [
    {
     "data": {
      "text/html": [
       "<div>\n",
       "<style scoped>\n",
       "    .dataframe tbody tr th:only-of-type {\n",
       "        vertical-align: middle;\n",
       "    }\n",
       "\n",
       "    .dataframe tbody tr th {\n",
       "        vertical-align: top;\n",
       "    }\n",
       "\n",
       "    .dataframe thead th {\n",
       "        text-align: right;\n",
       "    }\n",
       "</style>\n",
       "<table border=\"1\" class=\"dataframe\">\n",
       "  <thead>\n",
       "    <tr style=\"text-align: right;\">\n",
       "      <th></th>\n",
       "      <th>Married</th>\n",
       "      <th>Dependents</th>\n",
       "      <th>Education</th>\n",
       "      <th>Self_Employed</th>\n",
       "      <th>CoapplicantIncome</th>\n",
       "      <th>LoanAmount</th>\n",
       "      <th>Loan_Amount_Term</th>\n",
       "      <th>Credit_History</th>\n",
       "      <th>Property_Area</th>\n",
       "      <th>Loan_Status</th>\n",
       "      <th>...</th>\n",
       "      <th>Credit_History</th>\n",
       "      <th>Gender_Male</th>\n",
       "      <th>Married_Yes</th>\n",
       "      <th>Dependents_1</th>\n",
       "      <th>Dependents_2</th>\n",
       "      <th>Dependents_3+</th>\n",
       "      <th>Self_Employed_Yes</th>\n",
       "      <th>Education_Not Graduate</th>\n",
       "      <th>Property_Area_Semiurban</th>\n",
       "      <th>Property_Area_Urban</th>\n",
       "    </tr>\n",
       "  </thead>\n",
       "  <tbody>\n",
       "    <tr>\n",
       "      <th>0</th>\n",
       "      <td>0</td>\n",
       "      <td>0</td>\n",
       "      <td>0</td>\n",
       "      <td>0</td>\n",
       "      <td>0.0</td>\n",
       "      <td>203</td>\n",
       "      <td>360.0</td>\n",
       "      <td>1.0</td>\n",
       "      <td>2</td>\n",
       "      <td>1</td>\n",
       "      <td>...</td>\n",
       "      <td>1.0</td>\n",
       "      <td>1</td>\n",
       "      <td>0</td>\n",
       "      <td>0</td>\n",
       "      <td>0</td>\n",
       "      <td>0</td>\n",
       "      <td>0</td>\n",
       "      <td>0</td>\n",
       "      <td>0</td>\n",
       "      <td>1</td>\n",
       "    </tr>\n",
       "    <tr>\n",
       "      <th>1</th>\n",
       "      <td>1</td>\n",
       "      <td>1</td>\n",
       "      <td>0</td>\n",
       "      <td>0</td>\n",
       "      <td>1508.0</td>\n",
       "      <td>81</td>\n",
       "      <td>360.0</td>\n",
       "      <td>1.0</td>\n",
       "      <td>0</td>\n",
       "      <td>0</td>\n",
       "      <td>...</td>\n",
       "      <td>1.0</td>\n",
       "      <td>1</td>\n",
       "      <td>1</td>\n",
       "      <td>1</td>\n",
       "      <td>0</td>\n",
       "      <td>0</td>\n",
       "      <td>0</td>\n",
       "      <td>0</td>\n",
       "      <td>0</td>\n",
       "      <td>0</td>\n",
       "    </tr>\n",
       "    <tr>\n",
       "      <th>2</th>\n",
       "      <td>1</td>\n",
       "      <td>0</td>\n",
       "      <td>0</td>\n",
       "      <td>1</td>\n",
       "      <td>0.0</td>\n",
       "      <td>26</td>\n",
       "      <td>360.0</td>\n",
       "      <td>1.0</td>\n",
       "      <td>2</td>\n",
       "      <td>1</td>\n",
       "      <td>...</td>\n",
       "      <td>1.0</td>\n",
       "      <td>1</td>\n",
       "      <td>1</td>\n",
       "      <td>0</td>\n",
       "      <td>0</td>\n",
       "      <td>0</td>\n",
       "      <td>1</td>\n",
       "      <td>0</td>\n",
       "      <td>0</td>\n",
       "      <td>1</td>\n",
       "    </tr>\n",
       "    <tr>\n",
       "      <th>3</th>\n",
       "      <td>1</td>\n",
       "      <td>0</td>\n",
       "      <td>1</td>\n",
       "      <td>0</td>\n",
       "      <td>2358.0</td>\n",
       "      <td>73</td>\n",
       "      <td>360.0</td>\n",
       "      <td>1.0</td>\n",
       "      <td>2</td>\n",
       "      <td>1</td>\n",
       "      <td>...</td>\n",
       "      <td>1.0</td>\n",
       "      <td>1</td>\n",
       "      <td>1</td>\n",
       "      <td>0</td>\n",
       "      <td>0</td>\n",
       "      <td>0</td>\n",
       "      <td>0</td>\n",
       "      <td>1</td>\n",
       "      <td>0</td>\n",
       "      <td>1</td>\n",
       "    </tr>\n",
       "    <tr>\n",
       "      <th>4</th>\n",
       "      <td>0</td>\n",
       "      <td>0</td>\n",
       "      <td>0</td>\n",
       "      <td>0</td>\n",
       "      <td>0.0</td>\n",
       "      <td>94</td>\n",
       "      <td>360.0</td>\n",
       "      <td>1.0</td>\n",
       "      <td>2</td>\n",
       "      <td>1</td>\n",
       "      <td>...</td>\n",
       "      <td>1.0</td>\n",
       "      <td>1</td>\n",
       "      <td>0</td>\n",
       "      <td>0</td>\n",
       "      <td>0</td>\n",
       "      <td>0</td>\n",
       "      <td>0</td>\n",
       "      <td>0</td>\n",
       "      <td>0</td>\n",
       "      <td>1</td>\n",
       "    </tr>\n",
       "  </tbody>\n",
       "</table>\n",
       "<p>5 rows × 31 columns</p>\n",
       "</div>"
      ],
      "text/plain": [
       "   Married  Dependents  Education  Self_Employed  CoapplicantIncome  \\\n",
       "0        0           0          0              0                0.0   \n",
       "1        1           1          0              0             1508.0   \n",
       "2        1           0          0              1                0.0   \n",
       "3        1           0          1              0             2358.0   \n",
       "4        0           0          0              0                0.0   \n",
       "\n",
       "   LoanAmount  Loan_Amount_Term  Credit_History  Property_Area  Loan_Status  \\\n",
       "0         203             360.0             1.0              2            1   \n",
       "1          81             360.0             1.0              0            0   \n",
       "2          26             360.0             1.0              2            1   \n",
       "3          73             360.0             1.0              2            1   \n",
       "4          94             360.0             1.0              2            1   \n",
       "\n",
       "   ...  Credit_History  Gender_Male  Married_Yes  Dependents_1  Dependents_2  \\\n",
       "0  ...             1.0            1            0             0             0   \n",
       "1  ...             1.0            1            1             1             0   \n",
       "2  ...             1.0            1            1             0             0   \n",
       "3  ...             1.0            1            1             0             0   \n",
       "4  ...             1.0            1            0             0             0   \n",
       "\n",
       "   Dependents_3+  Self_Employed_Yes  Education_Not Graduate  \\\n",
       "0              0                  0                       0   \n",
       "1              0                  0                       0   \n",
       "2              0                  1                       0   \n",
       "3              0                  0                       1   \n",
       "4              0                  0                       0   \n",
       "\n",
       "   Property_Area_Semiurban  Property_Area_Urban  \n",
       "0                        0                    1  \n",
       "1                        0                    0  \n",
       "2                        0                    1  \n",
       "3                        0                    1  \n",
       "4                        0                    1  \n",
       "\n",
       "[5 rows x 31 columns]"
      ]
     },
     "execution_count": 174,
     "metadata": {},
     "output_type": "execute_result"
    }
   ],
   "source": [
    "#x train head\n",
    "x_train.head()"
   ]
  },
  {
   "cell_type": "markdown",
   "id": "a13d458d",
   "metadata": {},
   "source": [
    "* x train contains 5 rows and 31 columns"
   ]
  },
  {
   "cell_type": "code",
   "execution_count": 175,
   "id": "a09d8c84",
   "metadata": {},
   "outputs": [
    {
     "data": {
      "text/plain": [
       "(614, 31)"
      ]
     },
     "execution_count": 175,
     "metadata": {},
     "output_type": "execute_result"
    }
   ],
   "source": [
    "#shape of x train \n",
    "x_train.shape"
   ]
  },
  {
   "cell_type": "markdown",
   "id": "6e1763e8",
   "metadata": {},
   "source": [
    "* x train contains 614 rows and 31 columns"
   ]
  },
  {
   "cell_type": "code",
   "execution_count": 176,
   "id": "9ac8bdf9",
   "metadata": {},
   "outputs": [
    {
     "data": {
      "text/plain": [
       "(614,)"
      ]
     },
     "execution_count": 176,
     "metadata": {},
     "output_type": "execute_result"
    }
   ],
   "source": [
    "#shape of y train\n",
    "y_train.shape"
   ]
  },
  {
   "cell_type": "markdown",
   "id": "029acb80",
   "metadata": {},
   "source": [
    "* y train contains 614 rows no columns"
   ]
  },
  {
   "cell_type": "code",
   "execution_count": 177,
   "id": "1a654bac",
   "metadata": {},
   "outputs": [
    {
     "data": {
      "text/html": [
       "<div>\n",
       "<style scoped>\n",
       "    .dataframe tbody tr th:only-of-type {\n",
       "        vertical-align: middle;\n",
       "    }\n",
       "\n",
       "    .dataframe tbody tr th {\n",
       "        vertical-align: top;\n",
       "    }\n",
       "\n",
       "    .dataframe thead th {\n",
       "        text-align: right;\n",
       "    }\n",
       "</style>\n",
       "<table border=\"1\" class=\"dataframe\">\n",
       "  <thead>\n",
       "    <tr style=\"text-align: right;\">\n",
       "      <th></th>\n",
       "      <th>Gender</th>\n",
       "      <th>Married</th>\n",
       "      <th>Dependents</th>\n",
       "      <th>Education</th>\n",
       "      <th>Self_Employed</th>\n",
       "      <th>CoapplicantIncome</th>\n",
       "      <th>LoanAmount</th>\n",
       "      <th>Loan_Amount_Term</th>\n",
       "      <th>Credit_History</th>\n",
       "      <th>Property_Area</th>\n",
       "      <th>...</th>\n",
       "      <th>Credit_History</th>\n",
       "      <th>Gender_Male</th>\n",
       "      <th>Married_Yes</th>\n",
       "      <th>Dependents_1</th>\n",
       "      <th>Dependents_2</th>\n",
       "      <th>Dependents_3+</th>\n",
       "      <th>Self_Employed_Yes</th>\n",
       "      <th>Education_Not Graduate</th>\n",
       "      <th>Property_Area_Semiurban</th>\n",
       "      <th>Property_Area_Urban</th>\n",
       "    </tr>\n",
       "  </thead>\n",
       "  <tbody>\n",
       "    <tr>\n",
       "      <th>0</th>\n",
       "      <td>1</td>\n",
       "      <td>0</td>\n",
       "      <td>0</td>\n",
       "      <td>0</td>\n",
       "      <td>0</td>\n",
       "      <td>0.0</td>\n",
       "      <td>203</td>\n",
       "      <td>360.0</td>\n",
       "      <td>1.0</td>\n",
       "      <td>2</td>\n",
       "      <td>...</td>\n",
       "      <td>1.0</td>\n",
       "      <td>1</td>\n",
       "      <td>0</td>\n",
       "      <td>0</td>\n",
       "      <td>0</td>\n",
       "      <td>0</td>\n",
       "      <td>0</td>\n",
       "      <td>0</td>\n",
       "      <td>0</td>\n",
       "      <td>1</td>\n",
       "    </tr>\n",
       "    <tr>\n",
       "      <th>1</th>\n",
       "      <td>1</td>\n",
       "      <td>1</td>\n",
       "      <td>1</td>\n",
       "      <td>0</td>\n",
       "      <td>0</td>\n",
       "      <td>1508.0</td>\n",
       "      <td>81</td>\n",
       "      <td>360.0</td>\n",
       "      <td>1.0</td>\n",
       "      <td>0</td>\n",
       "      <td>...</td>\n",
       "      <td>1.0</td>\n",
       "      <td>1</td>\n",
       "      <td>1</td>\n",
       "      <td>1</td>\n",
       "      <td>0</td>\n",
       "      <td>0</td>\n",
       "      <td>0</td>\n",
       "      <td>0</td>\n",
       "      <td>0</td>\n",
       "      <td>0</td>\n",
       "    </tr>\n",
       "    <tr>\n",
       "      <th>2</th>\n",
       "      <td>1</td>\n",
       "      <td>1</td>\n",
       "      <td>0</td>\n",
       "      <td>0</td>\n",
       "      <td>1</td>\n",
       "      <td>0.0</td>\n",
       "      <td>26</td>\n",
       "      <td>360.0</td>\n",
       "      <td>1.0</td>\n",
       "      <td>2</td>\n",
       "      <td>...</td>\n",
       "      <td>1.0</td>\n",
       "      <td>1</td>\n",
       "      <td>1</td>\n",
       "      <td>0</td>\n",
       "      <td>0</td>\n",
       "      <td>0</td>\n",
       "      <td>1</td>\n",
       "      <td>0</td>\n",
       "      <td>0</td>\n",
       "      <td>1</td>\n",
       "    </tr>\n",
       "    <tr>\n",
       "      <th>3</th>\n",
       "      <td>1</td>\n",
       "      <td>1</td>\n",
       "      <td>0</td>\n",
       "      <td>1</td>\n",
       "      <td>0</td>\n",
       "      <td>2358.0</td>\n",
       "      <td>73</td>\n",
       "      <td>360.0</td>\n",
       "      <td>1.0</td>\n",
       "      <td>2</td>\n",
       "      <td>...</td>\n",
       "      <td>1.0</td>\n",
       "      <td>1</td>\n",
       "      <td>1</td>\n",
       "      <td>0</td>\n",
       "      <td>0</td>\n",
       "      <td>0</td>\n",
       "      <td>0</td>\n",
       "      <td>1</td>\n",
       "      <td>0</td>\n",
       "      <td>1</td>\n",
       "    </tr>\n",
       "    <tr>\n",
       "      <th>4</th>\n",
       "      <td>1</td>\n",
       "      <td>0</td>\n",
       "      <td>0</td>\n",
       "      <td>0</td>\n",
       "      <td>0</td>\n",
       "      <td>0.0</td>\n",
       "      <td>94</td>\n",
       "      <td>360.0</td>\n",
       "      <td>1.0</td>\n",
       "      <td>2</td>\n",
       "      <td>...</td>\n",
       "      <td>1.0</td>\n",
       "      <td>1</td>\n",
       "      <td>0</td>\n",
       "      <td>0</td>\n",
       "      <td>0</td>\n",
       "      <td>0</td>\n",
       "      <td>0</td>\n",
       "      <td>0</td>\n",
       "      <td>0</td>\n",
       "      <td>1</td>\n",
       "    </tr>\n",
       "  </tbody>\n",
       "</table>\n",
       "<p>5 rows × 32 columns</p>\n",
       "</div>"
      ],
      "text/plain": [
       "   Gender  Married  Dependents  Education  Self_Employed  CoapplicantIncome  \\\n",
       "0       1        0           0          0              0                0.0   \n",
       "1       1        1           1          0              0             1508.0   \n",
       "2       1        1           0          0              1                0.0   \n",
       "3       1        1           0          1              0             2358.0   \n",
       "4       1        0           0          0              0                0.0   \n",
       "\n",
       "   LoanAmount  Loan_Amount_Term  Credit_History  Property_Area  ...  \\\n",
       "0         203             360.0             1.0              2  ...   \n",
       "1          81             360.0             1.0              0  ...   \n",
       "2          26             360.0             1.0              2  ...   \n",
       "3          73             360.0             1.0              2  ...   \n",
       "4          94             360.0             1.0              2  ...   \n",
       "\n",
       "   Credit_History  Gender_Male  Married_Yes  Dependents_1  Dependents_2  \\\n",
       "0             1.0            1            0             0             0   \n",
       "1             1.0            1            1             1             0   \n",
       "2             1.0            1            1             0             0   \n",
       "3             1.0            1            1             0             0   \n",
       "4             1.0            1            0             0             0   \n",
       "\n",
       "   Dependents_3+  Self_Employed_Yes  Education_Not Graduate  \\\n",
       "0              0                  0                       0   \n",
       "1              0                  0                       0   \n",
       "2              0                  1                       0   \n",
       "3              0                  0                       1   \n",
       "4              0                  0                       0   \n",
       "\n",
       "   Property_Area_Semiurban  Property_Area_Urban  \n",
       "0                        0                    1  \n",
       "1                        0                    0  \n",
       "2                        0                    1  \n",
       "3                        0                    1  \n",
       "4                        0                    1  \n",
       "\n",
       "[5 rows x 32 columns]"
      ]
     },
     "execution_count": 177,
     "metadata": {},
     "output_type": "execute_result"
    }
   ],
   "source": [
    "df.head()"
   ]
  },
  {
   "cell_type": "markdown",
   "id": "9929f008",
   "metadata": {},
   "source": [
    "# Classification Methods"
   ]
  },
  {
   "cell_type": "code",
   "execution_count": 178,
   "id": "e5b0750f",
   "metadata": {},
   "outputs": [],
   "source": [
    "#importing librery\n",
    "from sklearn.model_selection import train_test_split\n",
    "from sklearn.metrics import accuracy_score"
   ]
  },
  {
   "cell_type": "code",
   "execution_count": 179,
   "id": "aece4ac1",
   "metadata": {},
   "outputs": [],
   "source": [
    "x=df.drop(['Loan_Status'],axis=1)\n",
    "y=df['Loan_Status']\n",
    "x_train,y_train,x_test,y_test=train_test_split(x,y,test_size=0.2,random_state=42)"
   ]
  },
  {
   "cell_type": "code",
   "execution_count": 183,
   "id": "85700d24",
   "metadata": {},
   "outputs": [
    {
     "name": "stdout",
     "output_type": "stream",
     "text": [
      "72.9064039408867 at random_state 0\n",
      "71.42857142857143 at random_state 1\n",
      "68.96551724137932 at random_state 2\n",
      "69.45812807881774 at random_state 3\n",
      "69.45812807881774 at random_state 4\n",
      "71.92118226600985 at random_state 5\n",
      "73.39901477832512 at random_state 6\n",
      "74.8768472906404 at random_state 7\n",
      "71.92118226600985 at random_state 8\n",
      "70.93596059113301 at random_state 9\n",
      "68.4729064039409 at random_state 10\n",
      "71.42857142857143 at random_state 11\n",
      "67.48768472906403 at random_state 12\n",
      "68.96551724137932 at random_state 13\n",
      "66.99507389162561 at random_state 14\n",
      "68.96551724137932 at random_state 15\n",
      "70.93596059113301 at random_state 16\n",
      "74.8768472906404 at random_state 17\n",
      "73.39901477832512 at random_state 18\n",
      "67.98029556650246 at random_state 19\n",
      "67.48768472906403 at random_state 20\n",
      "72.9064039408867 at random_state 21\n",
      "67.48768472906403 at random_state 22\n",
      "71.42857142857143 at random_state 23\n",
      "66.50246305418719 at random_state 24\n",
      "69.45812807881774 at random_state 25\n",
      "66.50246305418719 at random_state 26\n",
      "69.95073891625616 at random_state 27\n",
      "70.93596059113301 at random_state 28\n",
      "70.44334975369459 at random_state 29\n",
      "71.92118226600985 at random_state 30\n",
      "74.8768472906404 at random_state 31\n",
      "77.83251231527095 at random_state 32\n",
      "63.54679802955665 at random_state 33\n",
      "73.39901477832512 at random_state 34\n",
      "68.96551724137932 at random_state 35\n",
      "67.48768472906403 at random_state 36\n",
      "69.45812807881774 at random_state 37\n",
      "69.95073891625616 at random_state 38\n",
      "80.78817733990148 at random_state 39\n",
      "66.00985221674877 at random_state 40\n",
      "68.4729064039409 at random_state 41\n",
      "71.92118226600985 at random_state 42\n",
      "66.00985221674877 at random_state 43\n",
      "72.41379310344827 at random_state 44\n",
      "67.98029556650246 at random_state 45\n",
      "71.92118226600985 at random_state 46\n",
      "69.95073891625616 at random_state 47\n",
      "63.05418719211823 at random_state 48\n",
      "72.41379310344827 at random_state 49\n",
      "71.42857142857143 at random_state 50\n",
      "69.45812807881774 at random_state 51\n",
      "66.50246305418719 at random_state 52\n",
      "75.36945812807882 at random_state 53\n",
      "67.98029556650246 at random_state 54\n",
      "70.44334975369459 at random_state 55\n",
      "71.42857142857143 at random_state 56\n",
      "69.45812807881774 at random_state 57\n",
      "70.93596059113301 at random_state 58\n",
      "64.5320197044335 at random_state 59\n",
      "68.4729064039409 at random_state 60\n",
      "61.57635467980296 at random_state 61\n",
      "66.50246305418719 at random_state 62\n",
      "70.93596059113301 at random_state 63\n",
      "72.41379310344827 at random_state 64\n",
      "69.95073891625616 at random_state 65\n",
      "71.42857142857143 at random_state 66\n",
      "70.93596059113301 at random_state 67\n",
      "72.9064039408867 at random_state 68\n",
      "70.44334975369459 at random_state 69\n",
      "72.9064039408867 at random_state 70\n",
      "69.95073891625616 at random_state 71\n",
      "72.41379310344827 at random_state 72\n",
      "73.39901477832512 at random_state 73\n",
      "72.41379310344827 at random_state 74\n",
      "65.51724137931035 at random_state 75\n",
      "75.86206896551724 at random_state 76\n",
      "74.38423645320196 at random_state 77\n",
      "65.02463054187191 at random_state 78\n",
      "63.54679802955665 at random_state 79\n",
      "74.8768472906404 at random_state 80\n",
      "74.8768472906404 at random_state 81\n",
      "73.39901477832512 at random_state 82\n",
      "74.38423645320196 at random_state 83\n",
      "67.48768472906403 at random_state 84\n",
      "67.48768472906403 at random_state 85\n",
      "69.45812807881774 at random_state 86\n",
      "64.5320197044335 at random_state 87\n",
      "67.98029556650246 at random_state 88\n",
      "75.36945812807882 at random_state 89\n",
      "70.93596059113301 at random_state 90\n",
      "66.99507389162561 at random_state 91\n",
      "69.95073891625616 at random_state 92\n",
      "66.99507389162561 at random_state 93\n",
      "69.95073891625616 at random_state 94\n",
      "65.51724137931035 at random_state 95\n",
      "70.44334975369459 at random_state 96\n",
      "74.8768472906404 at random_state 97\n",
      "73.39901477832512 at random_state 98\n",
      "66.00985221674877 at random_state 99\n",
      "67.98029556650246 at random_state 100\n",
      "67.48768472906403 at random_state 101\n",
      "70.44334975369459 at random_state 102\n",
      "75.36945812807882 at random_state 103\n",
      "70.44334975369459 at random_state 104\n",
      "69.95073891625616 at random_state 105\n",
      "74.8768472906404 at random_state 106\n",
      "72.9064039408867 at random_state 107\n",
      "67.98029556650246 at random_state 108\n",
      "71.92118226600985 at random_state 109\n",
      "69.95073891625616 at random_state 110\n",
      "73.89162561576354 at random_state 111\n",
      "68.96551724137932 at random_state 112\n",
      "73.39901477832512 at random_state 113\n",
      "67.98029556650246 at random_state 114\n",
      "67.98029556650246 at random_state 115\n",
      "71.92118226600985 at random_state 116\n",
      "70.44334975369459 at random_state 117\n",
      "70.93596059113301 at random_state 118\n",
      "67.98029556650246 at random_state 119\n",
      "70.93596059113301 at random_state 120\n",
      "74.38423645320196 at random_state 121\n",
      "71.42857142857143 at random_state 122\n",
      "70.44334975369459 at random_state 123\n",
      "70.93596059113301 at random_state 124\n",
      "68.4729064039409 at random_state 125\n",
      "69.45812807881774 at random_state 126\n",
      "76.35467980295566 at random_state 127\n",
      "73.39901477832512 at random_state 128\n",
      "70.93596059113301 at random_state 129\n",
      "69.95073891625616 at random_state 130\n",
      "68.96551724137932 at random_state 131\n",
      "71.92118226600985 at random_state 132\n",
      "71.42857142857143 at random_state 133\n",
      "73.89162561576354 at random_state 134\n",
      "67.98029556650246 at random_state 135\n",
      "64.03940886699507 at random_state 136\n",
      "68.96551724137932 at random_state 137\n",
      "66.99507389162561 at random_state 138\n",
      "74.38423645320196 at random_state 139\n",
      "70.44334975369459 at random_state 140\n",
      "65.51724137931035 at random_state 141\n",
      "68.4729064039409 at random_state 142\n",
      "73.39901477832512 at random_state 143\n",
      "71.92118226600985 at random_state 144\n",
      "74.8768472906404 at random_state 145\n",
      "69.95073891625616 at random_state 146\n",
      "68.96551724137932 at random_state 147\n",
      "67.98029556650246 at random_state 148\n",
      "64.03940886699507 at random_state 149\n",
      "69.95073891625616 at random_state 150\n",
      "73.39901477832512 at random_state 151\n",
      "72.9064039408867 at random_state 152\n",
      "68.4729064039409 at random_state 153\n",
      "68.4729064039409 at random_state 154\n",
      "69.45812807881774 at random_state 155\n",
      "71.42857142857143 at random_state 156\n",
      "68.4729064039409 at random_state 157\n",
      "75.86206896551724 at random_state 158\n",
      "73.89162561576354 at random_state 159\n",
      "69.95073891625616 at random_state 160\n",
      "71.92118226600985 at random_state 161\n",
      "71.92118226600985 at random_state 162\n",
      "73.39901477832512 at random_state 163\n",
      "71.92118226600985 at random_state 164\n",
      "68.4729064039409 at random_state 165\n",
      "75.36945812807882 at random_state 166\n",
      "70.44334975369459 at random_state 167\n",
      "72.41379310344827 at random_state 168\n",
      "73.39901477832512 at random_state 169\n",
      "70.93596059113301 at random_state 170\n",
      "72.41379310344827 at random_state 171\n",
      "69.95073891625616 at random_state 172\n",
      "64.5320197044335 at random_state 173\n",
      "71.92118226600985 at random_state 174\n",
      "65.51724137931035 at random_state 175\n",
      "69.95073891625616 at random_state 176\n",
      "74.38423645320196 at random_state 177\n",
      "69.95073891625616 at random_state 178\n",
      "64.5320197044335 at random_state 179\n",
      "71.92118226600985 at random_state 180\n",
      "70.44334975369459 at random_state 181\n",
      "66.99507389162561 at random_state 182\n",
      "73.89162561576354 at random_state 183\n",
      "70.44334975369459 at random_state 184\n",
      "71.92118226600985 at random_state 185\n",
      "74.8768472906404 at random_state 186\n",
      "68.4729064039409 at random_state 187\n",
      "74.8768472906404 at random_state 188\n",
      "66.50246305418719 at random_state 189\n",
      "70.44334975369459 at random_state 190\n",
      "68.96551724137932 at random_state 191\n",
      "71.92118226600985 at random_state 192\n",
      "67.48768472906403 at random_state 193\n",
      "71.92118226600985 at random_state 194\n",
      "66.99507389162561 at random_state 195\n",
      "70.44334975369459 at random_state 196\n",
      "71.42857142857143 at random_state 197\n",
      "62.5615763546798 at random_state 198\n",
      "68.4729064039409 at random_state 199\n"
     ]
    }
   ],
   "source": [
    "for i in range(200):\n",
    "    x_train,x_test,y_train,y_test=train_test_split(x,y,test_size=0.33,random_state=i)\n",
    "    from sklearn.tree import DecisionTreeClassifier\n",
    "    lm=DecisionTreeClassifier()\n",
    "    lm.fit(x_train,y_train)\n",
    "    pred=lm.predict(x_test)\n",
    "    accu=accuracy_score(y_test,pred)\n",
    "    print(accu*100,'at random_state',i)"
   ]
  },
  {
   "cell_type": "code",
   "execution_count": 184,
   "id": "125e6375",
   "metadata": {},
   "outputs": [
    {
     "name": "stdout",
     "output_type": "stream",
     "text": [
      "Best accuracy is 0.7621621621621621 on Random_State 1\n"
     ]
    }
   ],
   "source": [
    "# Decision tree classifier\n",
    "from sklearn.tree import DecisionTreeClassifier\n",
    "maxAccu=0\n",
    "maxRS=0\n",
    "for i in range(1,200):\n",
    "    x_train, x_test, y_train, y_test=train_test_split(x,y,test_size=.30,random_state=0)\n",
    "    mod=DecisionTreeClassifier()\n",
    "    mod.fit(x_train,y_train)\n",
    "    pred=mod.predict(x_test)\n",
    "    acc=accuracy_score(y_test,pred)\n",
    "    if acc>maxAccu:\n",
    "        maxAccu=acc\n",
    "        maxRS=1\n",
    "print('Best accuracy is',maxAccu,'on Random_State',maxRS)"
   ]
  },
  {
   "cell_type": "code",
   "execution_count": 187,
   "id": "da186f24",
   "metadata": {},
   "outputs": [
    {
     "name": "stdout",
     "output_type": "stream",
     "text": [
      "Decision Tree Classifier: \n",
      "\n",
      "               precision    recall  f1-score   support\n",
      "\n",
      "           0       0.85      0.79      0.82       134\n",
      "           1       0.85      0.79      0.82       134\n",
      "\n",
      "   micro avg       0.85      0.79      0.82       268\n",
      "   macro avg       0.85      0.79      0.82       268\n",
      "weighted avg       0.85      0.79      0.82       268\n",
      " samples avg       0.57      0.57      0.57       268\n",
      "\n",
      "Test Accuracy:75.14%\n"
     ]
    }
   ],
   "source": [
    "# Decision tree classifier\n",
    "dt=DecisionTreeClassifier()\n",
    "dt.fit(x_train,y_train)\n",
    "y_pred_dt=dt.predict(x_test)\n",
    "\n",
    "print('Decision Tree Classifier: \\n\\n',classification_report(y_test,y_pred_dt))\n",
    "print('Test Accuracy:{}%'.format(round(dt.score(x_test,y_test)*100,2)))"
   ]
  },
  {
   "cell_type": "markdown",
   "id": "ad543adf",
   "metadata": {},
   "source": [
    "* The test accuracy of Decision Tree Classifier is 74.59%"
   ]
  },
  {
   "cell_type": "code",
   "execution_count": 188,
   "id": "7a397709",
   "metadata": {},
   "outputs": [
    {
     "name": "stdout",
     "output_type": "stream",
     "text": [
      "Best KNN Value:0\n",
      "Test Accuracy:100.0\n"
     ]
    }
   ],
   "source": [
    "#KNN classifier\n",
    "from sklearn.neighbors import KNeighborsClassifier\n",
    "best_Kvalue=0\n",
    "best_score=0\n",
    "for i in range(1,10):\n",
    "    knn=KNeighborsClassifier(n_neighbors=i)\n",
    "    knn.fit(x_train,y_train)\n",
    "    if knn.score(x_test,y_test) > best_score:\n",
    "                                best_score=knn.score(x_train,y_train)\n",
    "            \n",
    "print('Best KNN Value:{}'.format(best_Kvalue))\n",
    "print('Test Accuracy:{}'.format(round(best_score*100,2)))"
   ]
  },
  {
   "cell_type": "code",
   "execution_count": 189,
   "id": "e9511174",
   "metadata": {},
   "outputs": [
    {
     "name": "stdout",
     "output_type": "stream",
     "text": [
      "KNN Classifier: \n",
      "\n",
      "               precision    recall  f1-score   support\n",
      "\n",
      "           0       0.73      0.87      0.79       134\n",
      "           1       0.73      0.87      0.79       134\n",
      "\n",
      "   micro avg       0.73      0.87      0.79       268\n",
      "   macro avg       0.73      0.87      0.79       268\n",
      "weighted avg       0.73      0.87      0.79       268\n",
      " samples avg       0.63      0.63      0.63       268\n",
      "\n",
      "Test Accuracy:67.03%\n"
     ]
    }
   ],
   "source": [
    "KNN=KNeighborsClassifier()\n",
    "KNN.fit(x_train,y_train)\n",
    "y_pred_knn=knn.predict(x_test)\n",
    "\n",
    "print('KNN Classifier: \\n\\n',classification_report(y_test,y_pred_knn))\n",
    "print('Test Accuracy:{}%'.format(round(knn.score(x_test,y_test)*100,2)))"
   ]
  },
  {
   "cell_type": "markdown",
   "id": "fe8f148f",
   "metadata": {},
   "source": [
    "* The test accuracy of KNN classifier is 67.03%"
   ]
  },
  {
   "cell_type": "code",
   "execution_count": 193,
   "id": "3131c3f7",
   "metadata": {},
   "outputs": [
    {
     "name": "stdout",
     "output_type": "stream",
     "text": [
      "Random Forest Classifier: \n",
      "\n",
      "               precision    recall  f1-score   support\n",
      "\n",
      "           0       0.82      0.90      0.85       134\n",
      "           1       0.82      0.90      0.85       134\n",
      "\n",
      "   micro avg       0.82      0.90      0.85       268\n",
      "   macro avg       0.82      0.90      0.85       268\n",
      "weighted avg       0.82      0.90      0.85       268\n",
      " samples avg       0.65      0.65      0.65       268\n",
      "\n",
      "Test accuracy:77.84%\n"
     ]
    }
   ],
   "source": [
    "#Random forest classifier\n",
    "rf=RandomForestClassifier()\n",
    "rf.fit(x_train,y_train)\n",
    "y_pred_rf=rf.predict(x_test)\n",
    "\n",
    "print('Random Forest Classifier: \\n\\n',classification_report(y_test,y_pred_rf))\n",
    "print('Test accuracy:{}%'.format(round(rf.score(x_test,y_test)*100,2)))"
   ]
  },
  {
   "cell_type": "markdown",
   "id": "920f8450",
   "metadata": {},
   "source": [
    "* The test accuracy of Random forest classifier is 77.84%"
   ]
  },
  {
   "cell_type": "markdown",
   "id": "dc5de001",
   "metadata": {},
   "source": [
    "# Cross Value Correction Method"
   ]
  },
  {
   "cell_type": "code",
   "execution_count": 194,
   "id": "90ebf59d",
   "metadata": {},
   "outputs": [],
   "source": [
    "from sklearn.model_selection import cross_val_score"
   ]
  },
  {
   "cell_type": "code",
   "execution_count": 195,
   "id": "59d47196",
   "metadata": {},
   "outputs": [
    {
     "name": "stdout",
     "output_type": "stream",
     "text": [
      "0.7067572970811675\n"
     ]
    }
   ],
   "source": [
    "print(cross_val_score(dt,x,y,cv=5).mean())"
   ]
  },
  {
   "cell_type": "code",
   "execution_count": 196,
   "id": "2a366272",
   "metadata": {},
   "outputs": [
    {
     "name": "stdout",
     "output_type": "stream",
     "text": [
      "0.6775689724110356\n"
     ]
    }
   ],
   "source": [
    "print(cross_val_score(knn,x,y,cv=5).mean())"
   ]
  },
  {
   "cell_type": "code",
   "execution_count": 197,
   "id": "cdf8872a",
   "metadata": {},
   "outputs": [
    {
     "name": "stdout",
     "output_type": "stream",
     "text": [
      "0.7556843929095028\n"
     ]
    }
   ],
   "source": [
    "print(cross_val_score(rf,x,y,cv=5).mean())"
   ]
  },
  {
   "cell_type": "markdown",
   "id": "baa167b7",
   "metadata": {},
   "source": [
    "# Hyperparameter Tunning"
   ]
  },
  {
   "cell_type": "code",
   "execution_count": 203,
   "id": "9ea75a8a",
   "metadata": {},
   "outputs": [],
   "source": [
    "from sklearn.model_selection import GridSearchCV"
   ]
  },
  {
   "cell_type": "code",
   "execution_count": 204,
   "id": "4049e8dd",
   "metadata": {},
   "outputs": [],
   "source": [
    "param_grid={\n",
    "    'max_depth':[6,7,8],\n",
    "    'max_features':['auto','sqrt'],\n",
    "    'n_estimators':[200,300],\n",
    "    'criterion' :['gini','entropy']\n",
    "}"
   ]
  },
  {
   "cell_type": "code",
   "execution_count": 205,
   "id": "086ddef2",
   "metadata": {},
   "outputs": [],
   "source": [
    "rf=RandomForestClassifier()"
   ]
  },
  {
   "cell_type": "code",
   "execution_count": 206,
   "id": "27815e8e",
   "metadata": {},
   "outputs": [],
   "source": [
    "rf_cv=GridSearchCV(rf, param_grid, cv=5)"
   ]
  },
  {
   "cell_type": "code",
   "execution_count": 207,
   "id": "59fd1d0e",
   "metadata": {},
   "outputs": [
    {
     "data": {
      "text/plain": [
       "GridSearchCV(cv=5, estimator=RandomForestClassifier(),\n",
       "             param_grid={'criterion': ['gini', 'entropy'],\n",
       "                         'max_depth': [6, 7, 8],\n",
       "                         'max_features': ['auto', 'sqrt'],\n",
       "                         'n_estimators': [200, 300]})"
      ]
     },
     "execution_count": 207,
     "metadata": {},
     "output_type": "execute_result"
    }
   ],
   "source": [
    "rf_cv.fit(x,y)"
   ]
  },
  {
   "cell_type": "markdown",
   "id": "f422c66c",
   "metadata": {},
   "source": [
    "# AUC ROC Curve"
   ]
  },
  {
   "cell_type": "code",
   "execution_count": 208,
   "id": "cb93a62e",
   "metadata": {},
   "outputs": [],
   "source": [
    "from sklearn.metrics import roc_curve\n",
    "import matplotlib.pyplot as plt\n",
    "from sklearn.metrics import roc_auc_score"
   ]
  },
  {
   "cell_type": "code",
   "execution_count": 209,
   "id": "497a8511",
   "metadata": {},
   "outputs": [
    {
     "data": {
      "text/plain": [
       "[array([[0.16, 0.84],\n",
       "        [0.  , 1.  ],\n",
       "        [0.28, 0.72],\n",
       "        [0.08, 0.92],\n",
       "        [0.  , 1.  ],\n",
       "        [0.89, 0.11],\n",
       "        [0.1 , 0.9 ],\n",
       "        [0.79, 0.21],\n",
       "        [0.8 , 0.2 ],\n",
       "        [0.02, 0.98],\n",
       "        [0.06, 0.94],\n",
       "        [0.11, 0.89],\n",
       "        [0.29, 0.71],\n",
       "        [0.01, 0.99],\n",
       "        [0.  , 1.  ],\n",
       "        [0.05, 0.95],\n",
       "        [0.3 , 0.7 ],\n",
       "        [0.09, 0.91],\n",
       "        [0.25, 0.75],\n",
       "        [0.94, 0.06],\n",
       "        [0.99, 0.01],\n",
       "        [0.02, 0.98],\n",
       "        [0.04, 0.96],\n",
       "        [0.27, 0.73],\n",
       "        [0.53, 0.47],\n",
       "        [0.38, 0.62],\n",
       "        [0.43, 0.57],\n",
       "        [0.03, 0.97],\n",
       "        [0.74, 0.26],\n",
       "        [0.99, 0.01],\n",
       "        [0.17, 0.83],\n",
       "        [0.56, 0.44],\n",
       "        [0.09, 0.91],\n",
       "        [0.76, 0.24],\n",
       "        [0.66, 0.34],\n",
       "        [0.79, 0.21],\n",
       "        [0.03, 0.97],\n",
       "        [0.04, 0.96],\n",
       "        [0.02, 0.98],\n",
       "        [0.04, 0.96],\n",
       "        [0.16, 0.84],\n",
       "        [0.81, 0.19],\n",
       "        [0.  , 1.  ],\n",
       "        [0.18, 0.82],\n",
       "        [0.05, 0.95],\n",
       "        [0.4 , 0.6 ],\n",
       "        [0.07, 0.93],\n",
       "        [0.  , 1.  ],\n",
       "        [0.09, 0.91],\n",
       "        [0.2 , 0.8 ],\n",
       "        [0.35, 0.65],\n",
       "        [0.04, 0.96],\n",
       "        [0.13, 0.87],\n",
       "        [0.65, 0.35],\n",
       "        [0.24, 0.76],\n",
       "        [0.75, 0.25],\n",
       "        [0.01, 0.99],\n",
       "        [0.24, 0.76],\n",
       "        [0.07, 0.93],\n",
       "        [0.05, 0.95],\n",
       "        [0.94, 0.06],\n",
       "        [0.23, 0.77],\n",
       "        [0.11, 0.89],\n",
       "        [1.  , 0.  ],\n",
       "        [0.01, 0.99],\n",
       "        [0.22, 0.78],\n",
       "        [0.07, 0.93],\n",
       "        [0.34, 0.66],\n",
       "        [0.39, 0.61],\n",
       "        [0.08, 0.92],\n",
       "        [0.42, 0.58],\n",
       "        [0.01, 0.99],\n",
       "        [0.48, 0.52],\n",
       "        [0.4 , 0.6 ],\n",
       "        [0.03, 0.97],\n",
       "        [0.06, 0.94],\n",
       "        [0.32, 0.68],\n",
       "        [0.41, 0.59],\n",
       "        [0.08, 0.92],\n",
       "        [0.98, 0.02],\n",
       "        [0.18, 0.82],\n",
       "        [0.11, 0.89],\n",
       "        [0.16, 0.84],\n",
       "        [0.05, 0.95],\n",
       "        [0.73, 0.27],\n",
       "        [0.18, 0.82],\n",
       "        [0.03, 0.97],\n",
       "        [0.25, 0.75],\n",
       "        [0.19, 0.81],\n",
       "        [0.03, 0.97],\n",
       "        [0.01, 0.99],\n",
       "        [0.78, 0.22],\n",
       "        [0.11, 0.89],\n",
       "        [0.75, 0.25],\n",
       "        [0.18, 0.82],\n",
       "        [0.93, 0.07],\n",
       "        [0.33, 0.67],\n",
       "        [0.34, 0.66],\n",
       "        [0.01, 0.99],\n",
       "        [0.02, 0.98],\n",
       "        [0.49, 0.51],\n",
       "        [0.  , 1.  ],\n",
       "        [0.1 , 0.9 ],\n",
       "        [0.28, 0.72],\n",
       "        [0.06, 0.94],\n",
       "        [0.04, 0.96],\n",
       "        [0.21, 0.79],\n",
       "        [0.12, 0.88],\n",
       "        [0.16, 0.84],\n",
       "        [0.33, 0.67],\n",
       "        [0.13, 0.87],\n",
       "        [0.05, 0.95],\n",
       "        [0.17, 0.83],\n",
       "        [0.06, 0.94],\n",
       "        [0.82, 0.18],\n",
       "        [0.98, 0.02],\n",
       "        [0.12, 0.88],\n",
       "        [0.35, 0.65],\n",
       "        [0.11, 0.89],\n",
       "        [0.19, 0.81],\n",
       "        [0.58, 0.42],\n",
       "        [0.7 , 0.3 ],\n",
       "        [0.  , 1.  ],\n",
       "        [0.02, 0.98],\n",
       "        [0.36, 0.64],\n",
       "        [0.95, 0.05],\n",
       "        [0.12, 0.88],\n",
       "        [0.02, 0.98],\n",
       "        [0.48, 0.52],\n",
       "        [0.04, 0.96],\n",
       "        [0.11, 0.89],\n",
       "        [0.45, 0.55],\n",
       "        [0.05, 0.95],\n",
       "        [0.05, 0.95],\n",
       "        [0.15, 0.85],\n",
       "        [0.07, 0.93],\n",
       "        [0.34, 0.66],\n",
       "        [0.11, 0.89],\n",
       "        [0.03, 0.97],\n",
       "        [0.58, 0.42],\n",
       "        [0.38, 0.62],\n",
       "        [0.35, 0.65],\n",
       "        [0.98, 0.02],\n",
       "        [0.1 , 0.9 ],\n",
       "        [0.18, 0.82],\n",
       "        [0.51, 0.49],\n",
       "        [0.  , 1.  ],\n",
       "        [0.35, 0.65],\n",
       "        [0.92, 0.08],\n",
       "        [0.99, 0.01],\n",
       "        [0.1 , 0.9 ],\n",
       "        [0.01, 0.99],\n",
       "        [0.27, 0.73],\n",
       "        [0.87, 0.13],\n",
       "        [0.04, 0.96],\n",
       "        [0.08, 0.92],\n",
       "        [0.29, 0.71],\n",
       "        [0.2 , 0.8 ],\n",
       "        [0.09, 0.91],\n",
       "        [0.16, 0.84],\n",
       "        [0.08, 0.92],\n",
       "        [0.08, 0.92],\n",
       "        [0.91, 0.09],\n",
       "        [0.46, 0.54],\n",
       "        [0.21, 0.79],\n",
       "        [0.18, 0.82],\n",
       "        [0.49, 0.51],\n",
       "        [0.72, 0.28],\n",
       "        [0.93, 0.07],\n",
       "        [0.12, 0.88],\n",
       "        [0.91, 0.09],\n",
       "        [0.09, 0.91],\n",
       "        [0.33, 0.67],\n",
       "        [0.03, 0.97],\n",
       "        [0.14, 0.86],\n",
       "        [0.19, 0.81],\n",
       "        [0.47, 0.53],\n",
       "        [0.04, 0.96],\n",
       "        [0.32, 0.68],\n",
       "        [0.73, 0.27],\n",
       "        [0.39, 0.61],\n",
       "        [0.18, 0.82],\n",
       "        [0.03, 0.97],\n",
       "        [0.27, 0.73],\n",
       "        [0.02, 0.98]]),\n",
       " array([[0.16, 0.84],\n",
       "        [0.  , 1.  ],\n",
       "        [0.28, 0.72],\n",
       "        [0.08, 0.92],\n",
       "        [0.  , 1.  ],\n",
       "        [0.89, 0.11],\n",
       "        [0.1 , 0.9 ],\n",
       "        [0.79, 0.21],\n",
       "        [0.8 , 0.2 ],\n",
       "        [0.02, 0.98],\n",
       "        [0.06, 0.94],\n",
       "        [0.11, 0.89],\n",
       "        [0.29, 0.71],\n",
       "        [0.01, 0.99],\n",
       "        [0.  , 1.  ],\n",
       "        [0.05, 0.95],\n",
       "        [0.3 , 0.7 ],\n",
       "        [0.09, 0.91],\n",
       "        [0.25, 0.75],\n",
       "        [0.94, 0.06],\n",
       "        [0.99, 0.01],\n",
       "        [0.02, 0.98],\n",
       "        [0.04, 0.96],\n",
       "        [0.27, 0.73],\n",
       "        [0.53, 0.47],\n",
       "        [0.38, 0.62],\n",
       "        [0.43, 0.57],\n",
       "        [0.03, 0.97],\n",
       "        [0.74, 0.26],\n",
       "        [0.99, 0.01],\n",
       "        [0.17, 0.83],\n",
       "        [0.56, 0.44],\n",
       "        [0.09, 0.91],\n",
       "        [0.76, 0.24],\n",
       "        [0.66, 0.34],\n",
       "        [0.79, 0.21],\n",
       "        [0.03, 0.97],\n",
       "        [0.04, 0.96],\n",
       "        [0.02, 0.98],\n",
       "        [0.04, 0.96],\n",
       "        [0.16, 0.84],\n",
       "        [0.81, 0.19],\n",
       "        [0.  , 1.  ],\n",
       "        [0.18, 0.82],\n",
       "        [0.05, 0.95],\n",
       "        [0.4 , 0.6 ],\n",
       "        [0.07, 0.93],\n",
       "        [0.  , 1.  ],\n",
       "        [0.09, 0.91],\n",
       "        [0.2 , 0.8 ],\n",
       "        [0.35, 0.65],\n",
       "        [0.04, 0.96],\n",
       "        [0.13, 0.87],\n",
       "        [0.65, 0.35],\n",
       "        [0.24, 0.76],\n",
       "        [0.75, 0.25],\n",
       "        [0.01, 0.99],\n",
       "        [0.24, 0.76],\n",
       "        [0.07, 0.93],\n",
       "        [0.05, 0.95],\n",
       "        [0.94, 0.06],\n",
       "        [0.23, 0.77],\n",
       "        [0.11, 0.89],\n",
       "        [1.  , 0.  ],\n",
       "        [0.01, 0.99],\n",
       "        [0.22, 0.78],\n",
       "        [0.07, 0.93],\n",
       "        [0.34, 0.66],\n",
       "        [0.39, 0.61],\n",
       "        [0.08, 0.92],\n",
       "        [0.42, 0.58],\n",
       "        [0.01, 0.99],\n",
       "        [0.48, 0.52],\n",
       "        [0.4 , 0.6 ],\n",
       "        [0.03, 0.97],\n",
       "        [0.06, 0.94],\n",
       "        [0.32, 0.68],\n",
       "        [0.41, 0.59],\n",
       "        [0.08, 0.92],\n",
       "        [0.98, 0.02],\n",
       "        [0.18, 0.82],\n",
       "        [0.11, 0.89],\n",
       "        [0.16, 0.84],\n",
       "        [0.05, 0.95],\n",
       "        [0.73, 0.27],\n",
       "        [0.18, 0.82],\n",
       "        [0.03, 0.97],\n",
       "        [0.25, 0.75],\n",
       "        [0.19, 0.81],\n",
       "        [0.03, 0.97],\n",
       "        [0.01, 0.99],\n",
       "        [0.78, 0.22],\n",
       "        [0.11, 0.89],\n",
       "        [0.75, 0.25],\n",
       "        [0.18, 0.82],\n",
       "        [0.93, 0.07],\n",
       "        [0.33, 0.67],\n",
       "        [0.34, 0.66],\n",
       "        [0.01, 0.99],\n",
       "        [0.02, 0.98],\n",
       "        [0.49, 0.51],\n",
       "        [0.  , 1.  ],\n",
       "        [0.1 , 0.9 ],\n",
       "        [0.28, 0.72],\n",
       "        [0.06, 0.94],\n",
       "        [0.04, 0.96],\n",
       "        [0.21, 0.79],\n",
       "        [0.12, 0.88],\n",
       "        [0.16, 0.84],\n",
       "        [0.33, 0.67],\n",
       "        [0.13, 0.87],\n",
       "        [0.05, 0.95],\n",
       "        [0.17, 0.83],\n",
       "        [0.06, 0.94],\n",
       "        [0.82, 0.18],\n",
       "        [0.98, 0.02],\n",
       "        [0.12, 0.88],\n",
       "        [0.35, 0.65],\n",
       "        [0.11, 0.89],\n",
       "        [0.19, 0.81],\n",
       "        [0.58, 0.42],\n",
       "        [0.7 , 0.3 ],\n",
       "        [0.  , 1.  ],\n",
       "        [0.02, 0.98],\n",
       "        [0.36, 0.64],\n",
       "        [0.95, 0.05],\n",
       "        [0.12, 0.88],\n",
       "        [0.02, 0.98],\n",
       "        [0.48, 0.52],\n",
       "        [0.04, 0.96],\n",
       "        [0.11, 0.89],\n",
       "        [0.45, 0.55],\n",
       "        [0.05, 0.95],\n",
       "        [0.05, 0.95],\n",
       "        [0.15, 0.85],\n",
       "        [0.07, 0.93],\n",
       "        [0.34, 0.66],\n",
       "        [0.11, 0.89],\n",
       "        [0.03, 0.97],\n",
       "        [0.58, 0.42],\n",
       "        [0.38, 0.62],\n",
       "        [0.35, 0.65],\n",
       "        [0.98, 0.02],\n",
       "        [0.1 , 0.9 ],\n",
       "        [0.18, 0.82],\n",
       "        [0.51, 0.49],\n",
       "        [0.  , 1.  ],\n",
       "        [0.35, 0.65],\n",
       "        [0.92, 0.08],\n",
       "        [0.99, 0.01],\n",
       "        [0.1 , 0.9 ],\n",
       "        [0.01, 0.99],\n",
       "        [0.27, 0.73],\n",
       "        [0.87, 0.13],\n",
       "        [0.04, 0.96],\n",
       "        [0.08, 0.92],\n",
       "        [0.29, 0.71],\n",
       "        [0.2 , 0.8 ],\n",
       "        [0.09, 0.91],\n",
       "        [0.16, 0.84],\n",
       "        [0.08, 0.92],\n",
       "        [0.08, 0.92],\n",
       "        [0.91, 0.09],\n",
       "        [0.46, 0.54],\n",
       "        [0.21, 0.79],\n",
       "        [0.18, 0.82],\n",
       "        [0.49, 0.51],\n",
       "        [0.72, 0.28],\n",
       "        [0.93, 0.07],\n",
       "        [0.12, 0.88],\n",
       "        [0.91, 0.09],\n",
       "        [0.09, 0.91],\n",
       "        [0.33, 0.67],\n",
       "        [0.03, 0.97],\n",
       "        [0.14, 0.86],\n",
       "        [0.19, 0.81],\n",
       "        [0.47, 0.53],\n",
       "        [0.04, 0.96],\n",
       "        [0.32, 0.68],\n",
       "        [0.73, 0.27],\n",
       "        [0.39, 0.61],\n",
       "        [0.18, 0.82],\n",
       "        [0.03, 0.97],\n",
       "        [0.27, 0.73],\n",
       "        [0.02, 0.98]])]"
      ]
     },
     "execution_count": 209,
     "metadata": {},
     "output_type": "execute_result"
    }
   ],
   "source": [
    "rf=RandomForestClassifier()\n",
    "rf.fit(x_train,y_train)\n",
    "y_pred_rf=rf.predict(x_test)\n",
    "y_pred_prob=rf.predict_proba(x_test)\n",
    "y_pred_prob"
   ]
  },
  {
   "cell_type": "code",
   "execution_count": 210,
   "id": "fd211fd8",
   "metadata": {},
   "outputs": [
    {
     "data": {
      "image/png": "[encoded data removed]",
      "text/plain": [
       "<Figure size 432x288 with 1 Axes>"
      ]
     },
     "metadata": {
      "needs_background": "light"
     },
     "output_type": "display_data"
    }
   ],
   "source": [
    "plt.plot([0,1],'k--')\n",
    "plt.plot(label='Random Forest Classifier')\n",
    "plt.xlabel('False positve rate')\n",
    "plt.ylabel('Random Forest Classifier')\n",
    "plt.show()"
   ]
  },
  {
   "cell_type": "markdown",
   "id": "9a08db9b",
   "metadata": {},
   "source": [
    "* The Random Forest Classifier plot contains xlabel is false positive rate and y label is positive rate."
   ]
  },
  {
   "cell_type": "markdown",
   "id": "dbfb37ad",
   "metadata": {},
   "source": [
    "# Evaluate The Final Model"
   ]
  },
  {
   "cell_type": "code",
   "execution_count": 211,
   "id": "be2c316c",
   "metadata": {},
   "outputs": [
    {
     "name": "stdout",
     "output_type": "stream",
     "text": [
      "76.75675675675676\n"
     ]
    }
   ],
   "source": [
    "Final_mod=RandomForestClassifier()\n",
    "Final_mod.fit(x_train,y_train)\n",
    "pred=Final_mod.predict(x_test)\n",
    "acc=accuracy_score(y_test,pred)\n",
    "print(acc*100)"
   ]
  },
  {
   "cell_type": "markdown",
   "id": "c9923aa1",
   "metadata": {},
   "source": [
    "### Saving The Model"
   ]
  },
  {
   "cell_type": "code",
   "execution_count": 213,
   "id": "deec96a3",
   "metadata": {},
   "outputs": [
    {
     "data": {
      "text/plain": [
       "['Loan Prediction.csv']"
      ]
     },
     "execution_count": 213,
     "metadata": {},
     "output_type": "execute_result"
    }
   ],
   "source": [
    "import joblib\n",
    "joblib.dump(Final_mod,'Loan Prediction.csv')"
   ]
  },
  {
   "cell_type": "markdown",
   "id": "a7486964",
   "metadata": {},
   "source": [
    "* Saving The Model as csv"
   ]
  },
  {
   "cell_type": "markdown",
   "id": "72ef336b",
   "metadata": {},
   "source": [
    "## Prediction Method"
   ]
  },
  {
   "cell_type": "code",
   "execution_count": 214,
   "id": "ccd64137",
   "metadata": {},
   "outputs": [
    {
     "name": "stdout",
     "output_type": "stream",
     "text": [
      "[[1 1]\n",
      " [1 1]\n",
      " [1 1]\n",
      " [1 1]\n",
      " [1 1]\n",
      " [0 0]\n",
      " [1 1]\n",
      " [0 0]\n",
      " [0 0]\n",
      " [1 1]\n",
      " [1 1]\n",
      " [1 1]\n",
      " [1 1]\n",
      " [1 1]\n",
      " [1 1]\n",
      " [1 1]\n",
      " [1 1]\n",
      " [1 1]\n",
      " [1 1]\n",
      " [0 0]\n",
      " [0 0]\n",
      " [1 1]\n",
      " [1 1]\n",
      " [1 1]\n",
      " [1 1]\n",
      " [1 1]\n",
      " [1 1]\n",
      " [1 1]\n",
      " [0 0]\n",
      " [0 0]\n",
      " [1 1]\n",
      " [0 0]\n",
      " [1 1]\n",
      " [0 0]\n",
      " [0 0]\n",
      " [0 0]]\n",
      "[[1 1]\n",
      " [0 0]\n",
      " [1 1]\n",
      " [0 0]\n",
      " [1 1]\n",
      " [0 0]\n",
      " [1 1]\n",
      " [1 1]\n",
      " [0 0]\n",
      " [1 1]\n",
      " [1 1]\n",
      " [1 1]\n",
      " [1 1]\n",
      " [1 1]\n",
      " [1 1]\n",
      " [0 0]\n",
      " [0 0]\n",
      " [1 1]\n",
      " [1 1]\n",
      " [0 0]\n",
      " [0 0]\n",
      " [1 1]\n",
      " [1 1]\n",
      " [1 1]\n",
      " [1 1]\n",
      " [1 1]\n",
      " [1 1]\n",
      " [1 1]\n",
      " [0 0]\n",
      " [0 0]\n",
      " [1 1]\n",
      " [1 1]\n",
      " [1 1]\n",
      " [1 1]\n",
      " [1 1]\n",
      " [0 0]]\n"
     ]
    }
   ],
   "source": [
    "rf=RandomForestClassifier()\n",
    "rf.fit(x_train,y_train)\n",
    "y_pred_rf=rf.predict(x_test)\n",
    "preds=rf.predict(x_test)\n",
    "print(preds[:36])\n",
    "print(y_test[:36].values)"
   ]
  },
  {
   "cell_type": "markdown",
   "id": "eb5bbeec",
   "metadata": {},
   "source": [
    "* The train and test data is balanced most classification method hit the 76.75% accuracy eith the dataset."
   ]
  },
  {
   "cell_type": "code",
   "execution_count": null,
   "id": "c5ce82c2",
   "metadata": {},
   "outputs": [],
   "source": []
  }
 ],
 "metadata": {
  "kernelspec": {
   "display_name": "Python 3",
   "language": "python",
   "name": "python3"
  },
  "language_info": {
   "codemirror_mode": {
    "name": "ipython",
    "version": 3
   },
   "file_extension": ".py",
   "mimetype": "text/x-python",
   "name": "python",
   "nbconvert_exporter": "python",
   "pygments_lexer": "ipython3",
   "version": "3.8.8"
  }
 },
 "nbformat": 4,
 "nbformat_minor": 5
}
